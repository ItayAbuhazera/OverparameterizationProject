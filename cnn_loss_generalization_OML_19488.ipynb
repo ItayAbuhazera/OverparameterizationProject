{
  "cells": [
    {
      "cell_type": "code",
      "execution_count": null,
      "metadata": {
        "id": "kzlidVIfDSyJ"
      },
      "outputs": [],
      "source": [
        "import torch\n",
        "import torchvision\n",
        "from torchvision import datasets, transforms\n",
        "import torch.optim as optim\n",
        "import matplotlib.pyplot as plt\n",
        "import numpy as np\n",
        "import pandas as pd\n",
        "import torch.nn as nn\n",
        "import torch.nn.functional as F"
      ]
    },
    {
      "cell_type": "code",
      "execution_count": null,
      "metadata": {
        "colab": {
          "base_uri": "https://localhost:8080/"
        },
        "id": "oJX7kWyquHY_",
        "outputId": "dce29f5c-8efe-41a3-d0da-7d184388be87"
      },
      "outputs": [
        {
          "name": "stdout",
          "output_type": "stream",
          "text": [
            "Mounted at /content/drive\n"
          ]
        }
      ],
      "source": [
        "from google.colab import drive\n",
        "drive.mount('/content/drive')"
      ]
    },
    {
      "cell_type": "code",
      "execution_count": null,
      "metadata": {
        "colab": {
          "base_uri": "https://localhost:8080/"
        },
        "id": "IrNT8njmDblN",
        "outputId": "20b7b748-446d-4b96-f461-266587c1195d"
      },
      "outputs": [
        {
          "name": "stdout",
          "output_type": "stream",
          "text": [
            "Downloading https://www.cs.toronto.edu/~kriz/cifar-10-python.tar.gz to ./data/cifar-10-python.tar.gz\n"
          ]
        },
        {
          "name": "stderr",
          "output_type": "stream",
          "text": [
            "100%|██████████| 170498071/170498071 [00:02<00:00, 77684217.24it/s]\n"
          ]
        },
        {
          "name": "stdout",
          "output_type": "stream",
          "text": [
            "Extracting ./data/cifar-10-python.tar.gz to ./data\n",
            "Files already downloaded and verified\n",
            "Unfiltered train set size: 50000\n",
            "Unfiltered test set size: 10000\n",
            "Unfiltered classes: ['airplane', 'automobile', 'bird', 'cat', 'deer', 'dog', 'frog', 'horse', 'ship', 'truck']\n",
            "Filtered train set size: 20000\n",
            "Filtered test set size: 4000\n",
            "Filtered classes: ['airplane', 'automobile', 'bird', 'cat', 'deer', 'dog', 'frog', 'horse', 'ship', 'truck']\n",
            "Batch size: 4, Labels: tensor([3, 2, 3, 1])\n",
            "Batch size: 4, Labels: tensor([3, 3, 3, 2])\n",
            "Batch size: 4, Labels: tensor([3, 3, 1, 3])\n",
            "Batch size: 4, Labels: tensor([3, 0, 2, 3])\n",
            "Dataset CIFAR10\n",
            "    Number of datapoints: 20000\n",
            "    Root location: ./data\n",
            "    Split: Train\n",
            "    StandardTransform\n",
            "Transform: Compose(\n",
            "               ToTensor()\n",
            "               Normalize(mean=(0.5, 0.5, 0.5), std=(0.5, 0.5, 0.5))\n",
            "           )\n",
            "Dataset CIFAR10\n",
            "    Number of datapoints: 4000\n",
            "    Root location: ./data\n",
            "    Split: Test\n",
            "    StandardTransform\n",
            "Transform: Compose(\n",
            "               ToTensor()\n",
            "               Normalize(mean=(0.5, 0.5, 0.5), std=(0.5, 0.5, 0.5))\n",
            "           )\n"
          ]
        }
      ],
      "source": [
        "# classes = ('plane', 'car', 'bird', 'cat',\n",
        "#            'deer', 'dog', 'frog', 'horse', 'ship', 'truck')\n",
        "\n",
        "# ---------------------- Filter to our wanted classes only ---------------------\n",
        "# Define the classes you want to keep (e.g., class 0 and class 1)\n",
        "classes = ('car', 'frog', 'horse', 'ship')\n",
        "classes_to_keep = [1, 6, 7, 8]\n",
        "\n",
        "# Define the transformation for the dataset\n",
        "transform = transforms.Compose([\n",
        "    transforms.ToTensor(),\n",
        "    transforms.Normalize((0.5, 0.5, 0.5), (0.5, 0.5, 0.5)),\n",
        "])\n",
        "\n",
        "# Load the CIFAR-10 dataset\n",
        "trainset = datasets.CIFAR10(root='./data', train=True, download=True, transform=transform)\n",
        "testset = datasets.CIFAR10(root='./data', train=False, download=True, transform=transform)\n",
        "\n",
        "# Function to filter the dataset by the specified classes\n",
        "def filter_dataset_by_class(dataset, classes):\n",
        "    # Get the data and targets\n",
        "    data, targets = dataset.data, torch.tensor(dataset.targets)\n",
        "\n",
        "    # Create a mask for the classes you want to keep\n",
        "    mask = torch.isin(targets, torch.tensor(classes))\n",
        "\n",
        "    # Filter the data and targets\n",
        "    filtered_data = data[mask.numpy()]\n",
        "    filtered_targets = targets[mask].numpy()\n",
        "\n",
        "    for i in range(len(filtered_targets)):\n",
        "      filtered_targets[i] = classes.index(filtered_targets[i])\n",
        "\n",
        "    # Update the dataset's data and targets\n",
        "    dataset.data = filtered_data\n",
        "    dataset.targets = filtered_targets\n",
        "\n",
        "# Size of the unfiltered sets\n",
        "print(f'Unfiltered train set size: {len(trainset)}')\n",
        "print(f'Unfiltered test set size: {len(testset)}')\n",
        "print(f'Unfiltered classes: {trainset.classes}')\n",
        "\n",
        "# Filter the train and test sets\n",
        "filter_dataset_by_class(trainset, classes_to_keep)\n",
        "filter_dataset_by_class(testset, classes_to_keep)\n",
        "\n",
        "# Now the trainset and testset objects are still CIFAR10 datasets, but only contain the selected classes\n",
        "print(f'Filtered train set size: {len(trainset)}')\n",
        "print(f'Filtered test set size: {len(testset)}')\n",
        "print(f'Filtered classes: {trainset.classes}')\n",
        "\n",
        "# Create DataLoader for the filtered datasets\n",
        "batch_size = 4\n",
        "trainloader = torch.utils.data.DataLoader(trainset, batch_size=batch_size, shuffle=True, num_workers=2)\n",
        "testloader = torch.utils.data.DataLoader(testset, batch_size=batch_size, shuffle=False, num_workers=2)\n",
        "\n",
        "# Example: Iterate through the filtered trainloader\n",
        "for i, (images, labels) in enumerate(trainloader):\n",
        "    print(f'Batch size: {images.size(0)}, Labels: {labels}')\n",
        "    if i == 3:\n",
        "      break\n",
        "\n",
        "print(trainset)\n",
        "print(testset)"
      ]
    },
    {
      "cell_type": "code",
      "execution_count": null,
      "metadata": {
        "colab": {
          "base_uri": "https://localhost:8080/",
          "height": 210
        },
        "id": "Kw-TiP5bCaKo",
        "outputId": "ba1013df-e24c-4e80-aa86-f576b64c568a"
      },
      "outputs": [
        {
          "data": {
            "image/png": "[encoded data removed]",
            "text/plain": [
              "<Figure size 640x480 with 1 Axes>"
            ]
          },
          "metadata": {},
          "output_type": "display_data"
        },
        {
          "name": "stdout",
          "output_type": "stream",
          "text": [
            "car   horse frog  ship \n"
          ]
        }
      ],
      "source": [
        "# functions to show an image\n",
        "def imshow(img):\n",
        "    img = img / 2 + 0.5     # unnormalize\n",
        "    npimg = img.numpy()\n",
        "    plt.imshow(np.transpose(npimg, (1, 2, 0)))\n",
        "    plt.show()\n",
        "\n",
        "\n",
        "# get some random training images\n",
        "dataiter = iter(trainloader)\n",
        "images, labels = next(dataiter)\n",
        "\n",
        "# show images\n",
        "imshow(torchvision.utils.make_grid(images))\n",
        "# print labels\n",
        "print(' '.join(f'{classes[labels[j]]:5s}' for j in range(batch_size)))"
      ]
    },
    {
      "cell_type": "code",
      "execution_count": null,
      "metadata": {
        "id": "oIkGlUKADlpq"
      },
      "outputs": [],
      "source": [
        "class Net(nn.Module):\n",
        "    def __init__(self):\n",
        "        super().__init__()\n",
        "        self.conv1 = nn.Conv2d(3, 6, 5)\n",
        "        self.pool = nn.MaxPool2d(2, 2)\n",
        "        self.conv2 = nn.Conv2d(6, 8, 5)\n",
        "        self.fc1 = nn.Linear(8 * 5 * 5, 70)\n",
        "        self.fc2 = nn.Linear(70, 50)\n",
        "        self.fc3 = nn.Linear(50, 4)\n",
        "\n",
        "    def forward(self, x):\n",
        "        x = self.pool(F.relu(self.conv1(x)))\n",
        "        x = self.pool(F.relu(self.conv2(x)))\n",
        "        x = torch.flatten(x, 1) # flatten all dimensions except batch\n",
        "        x = F.relu(self.fc1(x))\n",
        "        x = F.relu(self.fc2(x))\n",
        "        x = self.fc3(x)\n",
        "        return x\n",
        "\n",
        "net = Net()"
      ]
    },
    {
      "cell_type": "code",
      "execution_count": null,
      "metadata": {
        "colab": {
          "base_uri": "https://localhost:8080/"
        },
        "id": "GPf8RpIpJtbs",
        "outputId": "448bbd81-b412-4b87-efdf-662dfe984dc9"
      },
      "outputs": [
        {
          "name": "stdout",
          "output_type": "stream",
          "text": [
            "19488\n"
          ]
        }
      ],
      "source": [
        "# Number of learnable parameters in the model\n",
        "pytorch_total_params = sum(p.numel() for p in net.parameters() if p.requires_grad)\n",
        "print(pytorch_total_params)"
      ]
    },
    {
      "cell_type": "code",
      "execution_count": null,
      "metadata": {
        "id": "mL7VgGVjDsh_"
      },
      "outputs": [],
      "source": [
        "criterion = nn.CrossEntropyLoss()\n",
        "optimizer = optim.SGD(net.parameters(), lr=0.001, momentum=0.9)"
      ]
    },
    {
      "cell_type": "code",
      "execution_count": null,
      "metadata": {
        "id": "5oaijBg2EPdl"
      },
      "outputs": [],
      "source": [
        "def accuracy(net, test=False):\n",
        "  # Let's test on the whole test-set\n",
        "  correct = 0\n",
        "  total = 0\n",
        "  # since we're not training, we don't need to calculate the gradients for our outputs\n",
        "  dataloader = testloader if test else trainloader\n",
        "  with torch.no_grad():\n",
        "      for data in dataloader:\n",
        "          images, labels = data\n",
        "          # calculate outputs by running images through the network\n",
        "          outputs = net(images)\n",
        "          loss = criterion(outputs, labels)\n",
        "          # the class with the highest energy is what we choose as prediction\n",
        "          _, predicted = torch.max(outputs.data, 1)\n",
        "          total += labels.size(0)\n",
        "          correct += (predicted == labels).sum().item()\n",
        "  accuracy = 100 * correct // total\n",
        "  # print(f'Accuracy of the network on the {\"test\" if test else \"train\"} images: {100 * correct // total} %')\n",
        "  return accuracy, loss.item()\n"
      ]
    },
    {
      "cell_type": "code",
      "execution_count": null,
      "metadata": {
        "colab": {
          "base_uri": "https://localhost:8080/"
        },
        "id": "3FFCce0yD13y",
        "outputId": "d7eb6085-e67f-4516-f64e-1882dbe23258"
      },
      "outputs": [
        {
          "name": "stdout",
          "output_type": "stream",
          "text": [
            "[1,  2000] loss: 1.196\n",
            "[1,  4000] loss: 0.788\n",
            "Epoch 1, Train accuracy: 76, Test accuracy: 76, Train loss: 0.8595712184906006, Test loss: 0.43155473470687866\n",
            "[2,  2000] loss: 0.597\n",
            "[2,  4000] loss: 0.541\n",
            "Epoch 2, Train accuracy: 79, Test accuracy: 79, Train loss: 0.26071596145629883, Test loss: 0.2273743599653244\n",
            "[3,  2000] loss: 0.487\n",
            "[3,  4000] loss: 0.471\n",
            "Epoch 3, Train accuracy: 86, Test accuracy: 84, Train loss: 0.1560002863407135, Test loss: 0.3282715380191803\n",
            "[4,  2000] loss: 0.406\n",
            "[4,  4000] loss: 0.411\n",
            "Epoch 4, Train accuracy: 83, Test accuracy: 82, Train loss: 0.1568489819765091, Test loss: 0.2955189645290375\n",
            "[5,  2000] loss: 0.369\n",
            "[5,  4000] loss: 0.369\n",
            "Epoch 5, Train accuracy: 89, Test accuracy: 87, Train loss: 0.6707005500793457, Test loss: 0.9182286858558655\n",
            "[6,  2000] loss: 0.331\n",
            "[6,  4000] loss: 0.341\n",
            "Epoch 6, Train accuracy: 90, Test accuracy: 88, Train loss: 0.6070060729980469, Test loss: 0.39931920170783997\n",
            "[7,  2000] loss: 0.299\n",
            "[7,  4000] loss: 0.314\n",
            "Epoch 7, Train accuracy: 90, Test accuracy: 87, Train loss: 0.09816037863492966, Test loss: 2.003974199295044\n",
            "[8,  2000] loss: 0.281\n",
            "[8,  4000] loss: 0.285\n",
            "Epoch 8, Train accuracy: 88, Test accuracy: 86, Train loss: 0.6076319217681885, Test loss: 2.037926435470581\n",
            "[9,  2000] loss: 0.259\n",
            "[9,  4000] loss: 0.279\n",
            "Epoch 9, Train accuracy: 92, Test accuracy: 88, Train loss: 0.04744020104408264, Test loss: 0.9609422087669373\n",
            "[10,  2000] loss: 0.243\n",
            "[10,  4000] loss: 0.256\n",
            "Epoch 10, Train accuracy: 92, Test accuracy: 88, Train loss: 0.002483910880982876, Test loss: 1.085608959197998\n",
            "[11,  2000] loss: 0.222\n",
            "[11,  4000] loss: 0.235\n",
            "Epoch 11, Train accuracy: 93, Test accuracy: 87, Train loss: 0.024519281461834908, Test loss: 1.2199069261550903\n",
            "[12,  2000] loss: 0.210\n",
            "[12,  4000] loss: 0.215\n",
            "Epoch 12, Train accuracy: 93, Test accuracy: 89, Train loss: 0.24477717280387878, Test loss: 0.6244117617607117\n",
            "[13,  2000] loss: 0.194\n",
            "[13,  4000] loss: 0.197\n",
            "Epoch 13, Train accuracy: 93, Test accuracy: 88, Train loss: 0.0625394657254219, Test loss: 1.9884955883026123\n",
            "[14,  2000] loss: 0.178\n",
            "[14,  4000] loss: 0.193\n",
            "Epoch 14, Train accuracy: 94, Test accuracy: 87, Train loss: 0.002299348823726177, Test loss: 1.0080913305282593\n",
            "[15,  2000] loss: 0.171\n",
            "[15,  4000] loss: 0.182\n",
            "Epoch 15, Train accuracy: 94, Test accuracy: 88, Train loss: 0.04811437800526619, Test loss: 1.495344638824463\n",
            "[16,  2000] loss: 0.155\n",
            "[16,  4000] loss: 0.160\n",
            "Epoch 16, Train accuracy: 95, Test accuracy: 87, Train loss: 0.020608223974704742, Test loss: 1.8811062574386597\n",
            "[17,  2000] loss: 0.158\n",
            "[17,  4000] loss: 0.166\n",
            "Epoch 17, Train accuracy: 95, Test accuracy: 87, Train loss: 0.0011632464593276381, Test loss: 1.5503662824630737\n",
            "[18,  2000] loss: 0.129\n",
            "[18,  4000] loss: 0.162\n",
            "Epoch 18, Train accuracy: 95, Test accuracy: 88, Train loss: 0.0606076605618, Test loss: 1.7483960390090942\n",
            "[19,  2000] loss: 0.121\n",
            "[19,  4000] loss: 0.150\n",
            "Epoch 19, Train accuracy: 96, Test accuracy: 88, Train loss: 0.20709030330181122, Test loss: 1.4543997049331665\n",
            "[20,  2000] loss: 0.130\n",
            "[20,  4000] loss: 0.141\n",
            "Epoch 20, Train accuracy: 95, Test accuracy: 87, Train loss: 0.0721149891614914, Test loss: 2.233062982559204\n",
            "[21,  2000] loss: 0.118\n",
            "[21,  4000] loss: 0.130\n",
            "Epoch 21, Train accuracy: 95, Test accuracy: 87, Train loss: 0.00017503692652098835, Test loss: 3.3239457607269287\n",
            "[22,  2000] loss: 0.112\n",
            "[22,  4000] loss: 0.129\n",
            "Epoch 22, Train accuracy: 96, Test accuracy: 87, Train loss: 3.242383900214918e-05, Test loss: 2.5304932594299316\n",
            "[23,  2000] loss: 0.106\n",
            "[23,  4000] loss: 0.112\n",
            "Epoch 23, Train accuracy: 96, Test accuracy: 87, Train loss: 0.04359905794262886, Test loss: 4.700499534606934\n",
            "[24,  2000] loss: 0.091\n",
            "[24,  4000] loss: 0.122\n",
            "Epoch 24, Train accuracy: 97, Test accuracy: 88, Train loss: 0.09164562821388245, Test loss: 2.587430953979492\n",
            "[25,  2000] loss: 0.088\n",
            "[25,  4000] loss: 0.103\n",
            "Epoch 25, Train accuracy: 95, Test accuracy: 86, Train loss: 0.002130613662302494, Test loss: 0.2753216028213501\n",
            "[26,  2000] loss: 0.088\n",
            "[26,  4000] loss: 0.106\n",
            "Epoch 26, Train accuracy: 96, Test accuracy: 86, Train loss: 6.5564395299588796e-06, Test loss: 3.3225252628326416\n",
            "[27,  2000] loss: 0.076\n",
            "[27,  4000] loss: 0.099\n",
            "Epoch 27, Train accuracy: 97, Test accuracy: 87, Train loss: 0.0029520224779844284, Test loss: 1.697780728340149\n",
            "[28,  2000] loss: 0.088\n",
            "[28,  4000] loss: 0.108\n",
            "Epoch 28, Train accuracy: 98, Test accuracy: 87, Train loss: 0.03358779102563858, Test loss: 1.5026779174804688\n",
            "[29,  2000] loss: 0.081\n",
            "[29,  4000] loss: 0.100\n",
            "Epoch 29, Train accuracy: 96, Test accuracy: 86, Train loss: 0.010426754131913185, Test loss: 2.43153977394104\n",
            "[30,  2000] loss: 0.101\n",
            "[30,  4000] loss: 0.087\n",
            "Epoch 30, Train accuracy: 97, Test accuracy: 87, Train loss: 0.00013601197861135006, Test loss: 1.0780986547470093\n",
            "[31,  2000] loss: 0.071\n",
            "[31,  4000] loss: 0.094\n",
            "Epoch 31, Train accuracy: 97, Test accuracy: 87, Train loss: 0.017472583800554276, Test loss: 1.0671820640563965\n",
            "[32,  2000] loss: 0.085\n",
            "[32,  4000] loss: 0.091\n",
            "Epoch 32, Train accuracy: 96, Test accuracy: 87, Train loss: 0.258768230676651, Test loss: 1.7471731901168823\n",
            "[33,  2000] loss: 0.077\n",
            "[33,  4000] loss: 0.084\n",
            "Epoch 33, Train accuracy: 98, Test accuracy: 87, Train loss: 0.0007460670312866569, Test loss: 1.035398006439209\n",
            "[34,  2000] loss: 0.074\n",
            "[34,  4000] loss: 0.101\n",
            "Epoch 34, Train accuracy: 97, Test accuracy: 86, Train loss: 2.5390358132426627e-05, Test loss: 1.5886626243591309\n",
            "[35,  2000] loss: 0.064\n",
            "[35,  4000] loss: 0.097\n",
            "Epoch 35, Train accuracy: 97, Test accuracy: 87, Train loss: 2.4139803826983552e-06, Test loss: 0.5448611378669739\n",
            "[36,  2000] loss: 0.071\n",
            "[36,  4000] loss: 0.076\n",
            "Epoch 36, Train accuracy: 97, Test accuracy: 87, Train loss: 0.027356313541531563, Test loss: 1.1052995920181274\n",
            "[37,  2000] loss: 0.070\n",
            "[37,  4000] loss: 0.097\n",
            "Epoch 37, Train accuracy: 97, Test accuracy: 86, Train loss: 0.0031015914864838123, Test loss: 1.0237258672714233\n",
            "[38,  2000] loss: 0.056\n",
            "[38,  4000] loss: 0.069\n",
            "Epoch 38, Train accuracy: 97, Test accuracy: 86, Train loss: 0.003840186633169651, Test loss: 2.109006404876709\n",
            "[39,  2000] loss: 0.069\n",
            "[39,  4000] loss: 0.080\n",
            "Epoch 39, Train accuracy: 96, Test accuracy: 86, Train loss: 0.05925792083144188, Test loss: 1.57746160030365\n",
            "[40,  2000] loss: 0.078\n",
            "[40,  4000] loss: 0.064\n",
            "Epoch 40, Train accuracy: 97, Test accuracy: 86, Train loss: 0.0035377969034016132, Test loss: 1.7703005075454712\n",
            "Finished Training\n"
          ]
        }
      ],
      "source": [
        "n_epochs = 40\n",
        "train_accuracy = []\n",
        "test_accuracy = []\n",
        "train_losses = []\n",
        "test_losses = []\n",
        "for epoch in range(n_epochs):  # loop over the dataset multiple times\n",
        "\n",
        "    running_loss = 0.0\n",
        "    for i, data in enumerate(trainloader, 0):\n",
        "        # get the inputs; data is a list of [inputs, labels]\n",
        "        inputs, labels = data\n",
        "\n",
        "        # zero the parameter gradients\n",
        "        optimizer.zero_grad()\n",
        "\n",
        "        # forward + backward + optimize\n",
        "        outputs = net(inputs)\n",
        "        loss = criterion(outputs, labels)\n",
        "        loss.backward()\n",
        "        optimizer.step()\n",
        "\n",
        "        # print statistics\n",
        "        running_loss += loss.item()\n",
        "        if i % 2000 == 1999:    # print every 2000 mini-batches\n",
        "            print(f'[{epoch + 1}, {i + 1:5d}] loss: {running_loss / 2000:.3f}')\n",
        "            running_loss = 0.0\n",
        "\n",
        "    n_samples = trainloader.dataset.data.shape[0]\n",
        "\n",
        "    # Calculate train accuracy\n",
        "    train_acc, train_loss = accuracy(net)\n",
        "    train_accuracy.append(train_acc)\n",
        "    train_losses.append(train_loss)\n",
        "\n",
        "    # Calculate test accuracy\n",
        "    test_acc, test_loss = accuracy(net, test=True)\n",
        "    test_accuracy.append(test_acc)\n",
        "    test_losses.append(test_loss)\n",
        "\n",
        "    print(f'Epoch {epoch+1}, Train accuracy: {train_acc}, Test accuracy: {test_acc}, Train loss: {train_loss}, Test loss: {test_loss}')\n",
        "\n",
        "print('Finished Training')"
      ]
    },
    {
      "cell_type": "code",
      "execution_count": null,
      "metadata": {
        "id": "nOxIYePXD7uM"
      },
      "outputs": [],
      "source": [
        "dir_path = '/enter_your_path_here/'\n",
        "\n",
        "# Create a directory for the experiment\n",
        "import os\n",
        "os.makedirs(dir_path, exist_ok=True)\n",
        "\n",
        "# Save the net\n",
        "PATH = dir_path + 'model_19488.pth'\n",
        "torch.save(net.state_dict(), PATH)\n",
        "\n",
        "# Save the accuracy (train, test), and loss\n",
        "df = pd.DataFrame({'train_accuracy': train_accuracy, 'test_accuracy': test_accuracy, 'train_loss': train_losses, 'test_loss': test_losses})\n",
        "df.to_csv(dir_path + 'results_19488.csv', index=False)"
      ]
    },
    {
      "cell_type": "code",
      "execution_count": null,
      "metadata": {
        "colab": {
          "base_uri": "https://localhost:8080/"
        },
        "id": "NVTF6zYdIiYA",
        "outputId": "6df79e4f-7fc0-45ba-8f03-96cb21ddea77"
      },
      "outputs": [
        {
          "name": "stdout",
          "output_type": "stream",
          "text": [
            "(97, 0.04485280066728592)\n",
            "(86, 1.7703005075454712)\n"
          ]
        }
      ],
      "source": [
        "print(accuracy(net, test=False))\n",
        "print(accuracy(net, test=True))"
      ]
    },
    {
      "cell_type": "code",
      "execution_count": null,
      "metadata": {
        "colab": {
          "base_uri": "https://localhost:8080/"
        },
        "id": "4j3f2bwMEKp0",
        "outputId": "3f3e4bbf-2b14-4d7f-d37f-4468ef743825"
      },
      "outputs": [
        {
          "data": {
            "image/png": "[encoded data removed]",
            "text/plain": [
              "<Figure size 640x480 with 1 Axes>"
            ]
          },
          "metadata": {},
          "output_type": "display_data"
        },
        {
          "name": "stdout",
          "output_type": "stream",
          "text": [
            "GroundTruth:  ship  ship  frog  frog \n"
          ]
        }
      ],
      "source": [
        "dataiter = iter(testloader)\n",
        "images, labels = next(dataiter)\n",
        "\n",
        "# print images\n",
        "imshow(torchvision.utils.make_grid(images))\n",
        "print('GroundTruth: ', ' '.join(f'{classes[labels[j]]:5s}' for j in range(4)))"
      ]
    },
    {
      "cell_type": "code",
      "execution_count": null,
      "metadata": {
        "colab": {
          "base_uri": "https://localhost:8080/"
        },
        "id": "rzc5x5UKELOP",
        "outputId": "bd2e705a-89f7-4582-89a1-72d1ff9bbb51"
      },
      "outputs": [
        {
          "data": {
            "text/plain": [
              "<All keys matched successfully>"
            ]
          },
          "execution_count": 17,
          "metadata": {},
          "output_type": "execute_result"
        }
      ],
      "source": [
        "# Load the network we learned\n",
        "net = Net()\n",
        "net.load_state_dict(torch.load(PATH))"
      ]
    },
    {
      "cell_type": "code",
      "execution_count": null,
      "metadata": {
        "colab": {
          "base_uri": "https://localhost:8080/"
        },
        "id": "qZEhdiH1EM_l",
        "outputId": "4746d89d-1754-4bcf-8b49-c6a43ffb6d0d"
      },
      "outputs": [
        {
          "name": "stdout",
          "output_type": "stream",
          "text": [
            "Predicted:  ship  ship  frog  frog \n"
          ]
        }
      ],
      "source": [
        "outputs = net(images)\n",
        "_, predicted = torch.max(outputs, 1)\n",
        "\n",
        "print('Predicted: ', ' '.join(f'{classes[predicted[j]]:5s}'\n",
        "                              for j in range(4)))"
      ]
    },
    {
      "cell_type": "code",
      "execution_count": null,
      "metadata": {
        "colab": {
          "base_uri": "https://localhost:8080/"
        },
        "id": "w5CdpKVaET3u",
        "outputId": "d903211d-bea2-415d-9eb7-9fe8d83e0905"
      },
      "outputs": [
        {
          "name": "stdout",
          "output_type": "stream",
          "text": [
            "Accuracy for class: car   is 89.4 %\n",
            "Accuracy for class: frog  is 80.8 %\n",
            "Accuracy for class: horse is 88.4 %\n",
            "Accuracy for class: ship  is 87.1 %\n"
          ]
        }
      ],
      "source": [
        "# prepare to count predictions for each class\n",
        "correct_pred = {classname: 0 for classname in classes}\n",
        "total_pred = {classname: 0 for classname in classes}\n",
        "\n",
        "# again no gradients needed\n",
        "with torch.no_grad():\n",
        "    for data in testloader:\n",
        "        images, labels = data\n",
        "        outputs = net(images)\n",
        "        _, predictions = torch.max(outputs, 1)\n",
        "        # collect the correct predictions for each class\n",
        "        for label, prediction in zip(labels, predictions):\n",
        "            if label == prediction:\n",
        "                correct_pred[classes[label]] += 1\n",
        "            total_pred[classes[label]] += 1\n",
        "\n",
        "\n",
        "# print accuracy for each class\n",
        "for classname, correct_count in correct_pred.items():\n",
        "    accuracy = 100 * float(correct_count) / total_pred[classname]\n",
        "    print(f'Accuracy for class: {classname:5s} is {accuracy:.1f} %')"
      ]
    }
  ],
  "metadata": {
    "colab": {
      "provenance": []
    },
    "kernelspec": {
      "display_name": "Python 3",
      "name": "python3"
    },
    "language_info": {
      "name": "python"
    }
  },
  "nbformat": 4,
  "nbformat_minor": 0
}
