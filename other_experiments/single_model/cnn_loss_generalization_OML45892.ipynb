{
  "nbformat": 4,
  "nbformat_minor": 0,
  "metadata": {
    "colab": {
      "provenance": []
    },
    "kernelspec": {
      "name": "python3",
      "display_name": "Python 3"
    },
    "language_info": {
      "name": "python"
    }
  },
  "cells": [
    {
      "cell_type": "code",
      "execution_count": 1,
      "metadata": {
        "id": "kzlidVIfDSyJ"
      },
      "outputs": [],
      "source": [
        "import torch\n",
        "import torchvision\n",
        "from torchvision import datasets, transforms\n",
        "import torch.optim as optim\n",
        "import matplotlib.pyplot as plt\n",
        "import numpy as np\n",
        "import pandas as pd"
      ]
    },
    {
      "cell_type": "code",
      "source": [
        "from google.colab import drive\n",
        "drive.mount('/content/drive')"
      ],
      "metadata": {
        "colab": {
          "base_uri": "https://localhost:8080/"
        },
        "id": "oJX7kWyquHY_",
        "outputId": "6725a430-be27-4498-ced3-2fe4048b4a75"
      },
      "execution_count": 3,
      "outputs": [
        {
          "output_type": "stream",
          "name": "stdout",
          "text": [
            "Mounted at /content/drive\n"
          ]
        }
      ]
    },
    {
      "cell_type": "code",
      "source": [
        "classes = ('plane', 'car', 'bird', 'cat',\n",
        "           'deer', 'dog', 'frog', 'horse', 'ship', 'truck')\n",
        "\n",
        "# ---------------------- Filter to our wanted classes only ---------------------\n",
        "# Define the classes you want to keep (e.g., class 0 and class 1)\n",
        "# classes = ('car', 'frog', 'horse', 'ship')\n",
        "classes_to_keep = [1, 6, 7, 8]\n",
        "\n",
        "# Define the transformation for the dataset\n",
        "transform = transforms.Compose([\n",
        "    transforms.ToTensor(),\n",
        "    transforms.Normalize((0.5, 0.5, 0.5), (0.5, 0.5, 0.5)),\n",
        "])\n",
        "\n",
        "# Load the CIFAR-10 dataset\n",
        "trainset = datasets.CIFAR10(root='./data', train=True, download=True, transform=transform)\n",
        "testset = datasets.CIFAR10(root='./data', train=False, download=True, transform=transform)\n",
        "\n",
        "# Function to filter the dataset by the specified classes\n",
        "def filter_dataset_by_class(dataset, classes):\n",
        "    # Get the data and targets\n",
        "    data, targets = dataset.data, torch.tensor(dataset.targets)\n",
        "\n",
        "    # Create a mask for the classes you want to keep\n",
        "    mask = torch.isin(targets, torch.tensor(classes))\n",
        "\n",
        "    # Filter the data and targets\n",
        "    filtered_data = data[mask.numpy()]\n",
        "    filtered_targets = targets[mask].numpy()\n",
        "\n",
        "    for i in range(len(filtered_targets)):\n",
        "      filtered_targets[i] = classes.index(filtered_targets[i])\n",
        "\n",
        "    # Update the dataset's data and targets\n",
        "    dataset.data = filtered_data\n",
        "    dataset.targets = filtered_targets\n",
        "\n",
        "# Size of the unfiltered sets\n",
        "print(f'Unfiltered train set size: {len(trainset)}')\n",
        "print(f'Unfiltered test set size: {len(testset)}')\n",
        "print(f'Unfiltered classes: {trainset.classes}')\n",
        "\n",
        "# Filter the train and test sets\n",
        "filter_dataset_by_class(trainset, classes_to_keep)\n",
        "filter_dataset_by_class(testset, classes_to_keep)\n",
        "\n",
        "# Now the trainset and testset objects are still CIFAR10 datasets, but only contain the selected classes\n",
        "print(f'Filtered train set size: {len(trainset)}')\n",
        "print(f'Filtered test set size: {len(testset)}')\n",
        "print(f'Filtered classes: {trainset.classes}')\n",
        "\n",
        "# Create DataLoader for the filtered datasets\n",
        "batch_size = 4\n",
        "trainloader = torch.utils.data.DataLoader(trainset, batch_size=batch_size, shuffle=True, num_workers=2)\n",
        "testloader = torch.utils.data.DataLoader(testset, batch_size=batch_size, shuffle=False, num_workers=2)\n",
        "\n",
        "# Example: Iterate through the filtered trainloader\n",
        "for i, (images, labels) in enumerate(trainloader):\n",
        "    print(f'Batch size: {images.size(0)}, Labels: {labels}')\n",
        "    if i == 3:\n",
        "      break\n",
        "\n",
        "print(trainset)\n",
        "print(testset)"
      ],
      "metadata": {
        "colab": {
          "base_uri": "https://localhost:8080/"
        },
        "id": "IrNT8njmDblN",
        "outputId": "bf9f0c34-7129-402d-b2ee-8202434be2ac"
      },
      "execution_count": 12,
      "outputs": [
        {
          "output_type": "stream",
          "name": "stdout",
          "text": [
            "Files already downloaded and verified\n",
            "Files already downloaded and verified\n",
            "Unfiltered train set size: 50000\n",
            "Unfiltered test set size: 10000\n",
            "Unfiltered classes: ['airplane', 'automobile', 'bird', 'cat', 'deer', 'dog', 'frog', 'horse', 'ship', 'truck']\n",
            "Filtered train set size: 20000\n",
            "Filtered test set size: 4000\n",
            "Filtered classes: ['airplane', 'automobile', 'bird', 'cat', 'deer', 'dog', 'frog', 'horse', 'ship', 'truck']\n",
            "Batch size: 4, Labels: tensor([3, 0, 1, 1])\n",
            "Batch size: 4, Labels: tensor([0, 2, 2, 3])\n",
            "Batch size: 4, Labels: tensor([3, 3, 1, 0])\n",
            "Batch size: 4, Labels: tensor([1, 2, 3, 3])\n",
            "Dataset CIFAR10\n",
            "    Number of datapoints: 20000\n",
            "    Root location: ./data\n",
            "    Split: Train\n",
            "    StandardTransform\n",
            "Transform: Compose(\n",
            "               ToTensor()\n",
            "               Normalize(mean=(0.5, 0.5, 0.5), std=(0.5, 0.5, 0.5))\n",
            "           )\n",
            "Dataset CIFAR10\n",
            "    Number of datapoints: 4000\n",
            "    Root location: ./data\n",
            "    Split: Test\n",
            "    StandardTransform\n",
            "Transform: Compose(\n",
            "               ToTensor()\n",
            "               Normalize(mean=(0.5, 0.5, 0.5), std=(0.5, 0.5, 0.5))\n",
            "           )\n"
          ]
        }
      ]
    },
    {
      "cell_type": "code",
      "source": [
        "# functions to show an image\n",
        "def imshow(img):\n",
        "    img = img / 2 + 0.5     # unnormalize\n",
        "    npimg = img.numpy()\n",
        "    plt.imshow(np.transpose(npimg, (1, 2, 0)))\n",
        "    plt.show()\n",
        "\n",
        "\n",
        "# get some random training images\n",
        "dataiter = iter(trainloader)\n",
        "images, labels = next(dataiter)\n",
        "\n",
        "# show images\n",
        "imshow(torchvision.utils.make_grid(images))\n",
        "# print labels\n",
        "print(' '.join(f'{classes[labels[j]]:5s}' for j in range(batch_size)))"
      ],
      "metadata": {
        "colab": {
          "base_uri": "https://localhost:8080/",
          "height": 210
        },
        "id": "YU8wTj-LDhm4",
        "outputId": "185dbd06-a890-4de1-cacb-480c96743e6c"
      },
      "execution_count": 13,
      "outputs": [
        {
          "output_type": "display_data",
          "data": {
            "text/plain": [
              "<Figure size 640x480 with 1 Axes>"
            ],
            "image/png": "[encoded data removed]"
          },
          "metadata": {}
        },
        {
          "output_type": "stream",
          "name": "stdout",
          "text": [
            "car   plane car   bird \n"
          ]
        }
      ]
    },
    {
      "cell_type": "code",
      "source": [
        "import torch.nn as nn\n",
        "import torch.nn.functional as F\n",
        "\n",
        "class Net(nn.Module):\n",
        "    def __init__(self):\n",
        "        super().__init__()\n",
        "        self.conv1 = nn.Conv2d(3, 6, 5)\n",
        "        self.pool = nn.MaxPool2d(2, 2)\n",
        "        self.conv2 = nn.Conv2d(6, 12, 5)  # Adjust conv2 to 16 output channels\n",
        "\n",
        "        self.fc1 = nn.Linear(12 * 5 * 5, 120)  # Adjust fc1 to 120 output units\n",
        "        self.fc2 = nn.Linear(120, 60)  # Adjust fc2 to 60 output units\n",
        "        self.fc3 = nn.Linear(60, 4)  # Keep fc3 as is\n",
        "\n",
        "    def forward(self, x):\n",
        "        x = self.pool(F.relu(self.conv1(x)))\n",
        "        x = self.pool(F.relu(self.conv2(x)))\n",
        "        x = torch.flatten(x, 1)  # flatten all dimensions except batch\n",
        "        x = F.relu(self.fc1(x))\n",
        "        x = F.relu(self.fc2(x))\n",
        "        x = self.fc3(x)\n",
        "        return x\n",
        "\n",
        "\n",
        "net = Net()"
      ],
      "metadata": {
        "id": "oIkGlUKADlpq"
      },
      "execution_count": 14,
      "outputs": []
    },
    {
      "cell_type": "code",
      "source": [
        "# Number of learnable parameters in the model\n",
        "pytorch_total_params = sum(p.numel() for p in net.parameters() if p.requires_grad)\n",
        "print(pytorch_total_params)"
      ],
      "metadata": {
        "colab": {
          "base_uri": "https://localhost:8080/"
        },
        "id": "GPf8RpIpJtbs",
        "outputId": "514c6e04-3405-4d2b-eb65-fb44a8f653a0"
      },
      "execution_count": 15,
      "outputs": [
        {
          "output_type": "stream",
          "name": "stdout",
          "text": [
            "45892\n"
          ]
        }
      ]
    },
    {
      "cell_type": "code",
      "source": [
        "criterion = nn.CrossEntropyLoss()\n",
        "optimizer = optim.SGD(net.parameters(), lr=0.001, momentum=0.9)"
      ],
      "metadata": {
        "id": "mL7VgGVjDsh_"
      },
      "execution_count": 16,
      "outputs": []
    },
    {
      "cell_type": "code",
      "source": [
        "def accuracy(net, test=False):\n",
        "  # Let's test on the whole test-set\n",
        "  correct = 0\n",
        "  total = 0\n",
        "  # since we're not training, we don't need to calculate the gradients for our outputs\n",
        "  dataloader = testloader if test else trainloader\n",
        "  with torch.no_grad():\n",
        "      for data in dataloader:\n",
        "          images, labels = data\n",
        "          # calculate outputs by running images through the network\n",
        "          outputs = net(images)\n",
        "          loss = criterion(outputs, labels)\n",
        "          # the class with the highest energy is what we choose as prediction\n",
        "          _, predicted = torch.max(outputs.data, 1)\n",
        "          total += labels.size(0)\n",
        "          correct += (predicted == labels).sum().item()\n",
        "  accuracy = 100 * correct // total\n",
        "  # print(f'Accuracy of the network on the {\"test\" if test else \"train\"} images: {100 * correct // total} %')\n",
        "  return accuracy, loss.item()\n"
      ],
      "metadata": {
        "id": "5oaijBg2EPdl"
      },
      "execution_count": 17,
      "outputs": []
    },
    {
      "cell_type": "code",
      "source": [
        "n_epochs = 40\n",
        "train_accuracy = []\n",
        "test_accuracy = []\n",
        "train_losses = []\n",
        "test_losses = []\n",
        "for epoch in range(n_epochs):  # loop over the dataset multiple times\n",
        "\n",
        "    running_loss = 0.0\n",
        "    for i, data in enumerate(trainloader, 0):\n",
        "        # get the inputs; data is a list of [inputs, labels]\n",
        "        inputs, labels = data\n",
        "\n",
        "        # zero the parameter gradients\n",
        "        optimizer.zero_grad()\n",
        "\n",
        "        # forward + backward + optimize\n",
        "        outputs = net(inputs)\n",
        "        loss = criterion(outputs, labels)\n",
        "        loss.backward()\n",
        "        optimizer.step()\n",
        "\n",
        "        # print statistics\n",
        "        running_loss += loss.item()\n",
        "        if i % 2000 == 1999:    # print every 2000 mini-batches\n",
        "            print(f'[{epoch + 1}, {i + 1:5d}] loss: {running_loss / 2000:.3f}')\n",
        "            running_loss = 0.0\n",
        "\n",
        "    n_samples = trainloader.dataset.data.shape[0]\n",
        "\n",
        "    # Calculate train accuracy\n",
        "    train_acc, train_loss = accuracy(net)\n",
        "    train_accuracy.append(train_acc)\n",
        "    train_losses.append(train_loss)\n",
        "\n",
        "    # Calculate test accuracy\n",
        "    test_acc, test_loss = accuracy(net, test=True)\n",
        "    test_accuracy.append(test_acc)\n",
        "    test_losses.append(test_loss)\n",
        "\n",
        "    print(f'Epoch {epoch}, Train accuracy: {train_acc}, Test accuracy: {test_acc}, Train loss: {train_loss}, Test loss: {test_loss}')\n",
        "\n",
        "print('Finished Training')"
      ],
      "metadata": {
        "colab": {
          "base_uri": "https://localhost:8080/"
        },
        "id": "3FFCce0yD13y",
        "outputId": "691827fd-4ced-4237-eee6-4f3ac74a477b"
      },
      "execution_count": null,
      "outputs": [
        {
          "output_type": "stream",
          "name": "stdout",
          "text": [
            "[1,  2000] loss: 1.167\n",
            "[1,  4000] loss: 0.742\n",
            "Epoch 0, Train accuracy: 78, Test accuracy: 79, Train loss: 1.2073147296905518, Test loss: 0.7258204221725464\n",
            "[2,  2000] loss: 0.553\n",
            "[2,  4000] loss: 0.492\n",
            "Epoch 1, Train accuracy: 82, Test accuracy: 81, Train loss: 0.1331632137298584, Test loss: 0.31537896394729614\n",
            "[3,  2000] loss: 0.414\n",
            "[3,  4000] loss: 0.440\n",
            "Epoch 2, Train accuracy: 87, Test accuracy: 86, Train loss: 0.8150186538696289, Test loss: 0.09226170182228088\n",
            "[4,  2000] loss: 0.365\n",
            "[4,  4000] loss: 0.369\n",
            "Epoch 3, Train accuracy: 89, Test accuracy: 86, Train loss: 0.22375376522541046, Test loss: 0.1643274575471878\n",
            "[5,  2000] loss: 0.317\n",
            "[5,  4000] loss: 0.322\n",
            "Epoch 4, Train accuracy: 89, Test accuracy: 86, Train loss: 0.00987937767058611, Test loss: 0.48594510555267334\n",
            "[6,  2000] loss: 0.280\n",
            "[6,  4000] loss: 0.293\n",
            "Epoch 5, Train accuracy: 90, Test accuracy: 87, Train loss: 0.009776357561349869, Test loss: 0.2717861235141754\n",
            "[7,  2000] loss: 0.257\n",
            "[7,  4000] loss: 0.262\n"
          ]
        }
      ]
    },
    {
      "cell_type": "code",
      "source": [
        "dir_path = '/content/drive/MyDrive/MSc courses/OML project/4_class_cnn/15864/'\n",
        "\n",
        "# Create a directory for the experiment\n",
        "import os\n",
        "os.makedirs(dir_path, exist_ok=True)\n",
        "\n",
        "# Save the net\n",
        "PATH = dir_path + 'model_45892.pth'\n",
        "torch.save(net.state_dict(), PATH)\n",
        "\n",
        "# Save the accuracy (train, test), and loss\n",
        "df = pd.DataFrame({'train_accuracy': train_accuracy, 'test_accuracy': test_accuracy, 'train_loss': train_losses, 'test_loss': test_losses})\n",
        "df.to_csv(dir_path + 'results_45892.csv', index=False)"
      ],
      "metadata": {
        "id": "nOxIYePXD7uM"
      },
      "execution_count": null,
      "outputs": []
    },
    {
      "cell_type": "code",
      "source": [
        "print(accuracy(net, test=False))\n",
        "print(accuracy(net, test=True))"
      ],
      "metadata": {
        "colab": {
          "base_uri": "https://localhost:8080/"
        },
        "id": "NVTF6zYdIiYA",
        "outputId": "49da9779-1959-4b9a-a143-7e6a8f185369"
      },
      "execution_count": null,
      "outputs": [
        {
          "output_type": "execute_result",
          "data": {
            "text/plain": [
              "62"
            ]
          },
          "metadata": {},
          "execution_count": 19
        }
      ]
    },
    {
      "cell_type": "code",
      "source": [
        "dataiter = iter(testloader)\n",
        "images, labels = next(dataiter)\n",
        "\n",
        "# print images\n",
        "imshow(torchvision.utils.make_grid(images))\n",
        "print('GroundTruth: ', ' '.join(f'{classes[labels[j]]:5s}' for j in range(4)))"
      ],
      "metadata": {
        "colab": {
          "base_uri": "https://localhost:8080/",
          "height": 210
        },
        "id": "4j3f2bwMEKp0",
        "outputId": "71e01e52-2d17-41f2-f705-01dd5209c949"
      },
      "execution_count": null,
      "outputs": [
        {
          "output_type": "display_data",
          "data": {
            "text/plain": [
              "<Figure size 640x480 with 1 Axes>"
            ],
            "image/png": "[encoded data removed]"
          },
          "metadata": {}
        },
        {
          "output_type": "stream",
          "name": "stdout",
          "text": [
            "GroundTruth:  cat   ship  ship  plane\n"
          ]
        }
      ]
    },
    {
      "cell_type": "code",
      "source": [
        "# Load the network we learned\n",
        "net = Net()\n",
        "net.load_state_dict(torch.load(PATH))"
      ],
      "metadata": {
        "colab": {
          "base_uri": "https://localhost:8080/"
        },
        "id": "rzc5x5UKELOP",
        "outputId": "2e6ab9ee-c265-424b-c70b-6b4d4d1573ea"
      },
      "execution_count": null,
      "outputs": [
        {
          "output_type": "execute_result",
          "data": {
            "text/plain": [
              "<All keys matched successfully>"
            ]
          },
          "metadata": {},
          "execution_count": 12
        }
      ]
    },
    {
      "cell_type": "code",
      "source": [
        "outputs = net(images)\n",
        "_, predicted = torch.max(outputs, 1)\n",
        "\n",
        "print('Predicted: ', ' '.join(f'{classes[predicted[j]]:5s}'\n",
        "                              for j in range(4)))"
      ],
      "metadata": {
        "colab": {
          "base_uri": "https://localhost:8080/"
        },
        "id": "qZEhdiH1EM_l",
        "outputId": "bfd75513-303e-4060-ae80-2c2dea0883f0"
      },
      "execution_count": null,
      "outputs": [
        {
          "output_type": "stream",
          "name": "stdout",
          "text": [
            "Predicted:  cat   ship  ship  plane\n"
          ]
        }
      ]
    },
    {
      "cell_type": "code",
      "source": [
        "# prepare to count predictions for each class\n",
        "correct_pred = {classname: 0 for classname in classes}\n",
        "total_pred = {classname: 0 for classname in classes}\n",
        "\n",
        "# again no gradients needed\n",
        "with torch.no_grad():\n",
        "    for data in testloader:\n",
        "        images, labels = data\n",
        "        outputs = net(images)\n",
        "        _, predictions = torch.max(outputs, 1)\n",
        "        # collect the correct predictions for each class\n",
        "        for label, prediction in zip(labels, predictions):\n",
        "            if label == prediction:\n",
        "                correct_pred[classes[label]] += 1\n",
        "            total_pred[classes[label]] += 1\n",
        "\n",
        "\n",
        "# print accuracy for each class\n",
        "for classname, correct_count in correct_pred.items():\n",
        "    accuracy = 100 * float(correct_count) / total_pred[classname]\n",
        "    print(f'Accuracy for class: {classname:5s} is {accuracy:.1f} %')"
      ],
      "metadata": {
        "colab": {
          "base_uri": "https://localhost:8080/"
        },
        "id": "w5CdpKVaET3u",
        "outputId": "fc55df83-4b9e-4abb-f10f-41ef52f28895"
      },
      "execution_count": null,
      "outputs": [
        {
          "output_type": "stream",
          "name": "stdout",
          "text": [
            "Accuracy for class: plane is 59.9 %\n",
            "Accuracy for class: car   is 78.6 %\n",
            "Accuracy for class: bird  is 59.6 %\n",
            "Accuracy for class: cat   is 31.5 %\n",
            "Accuracy for class: deer  is 58.3 %\n",
            "Accuracy for class: dog   is 55.0 %\n",
            "Accuracy for class: frog  is 67.6 %\n",
            "Accuracy for class: horse is 69.1 %\n",
            "Accuracy for class: ship  is 84.2 %\n",
            "Accuracy for class: truck is 57.0 %\n"
          ]
        }
      ]
    },
    {
      "cell_type": "code",
      "source": [],
      "metadata": {
        "id": "BCZL_W4lPR0h"
      },
      "execution_count": null,
      "outputs": []
    },
    {
      "cell_type": "markdown",
      "source": [
        "The outcome we want:\n",
        "A graph of the test error vs. the number of parameters.\n",
        "We want to show the double-descent phenomenon.\n",
        "\n",
        "Additions:\n",
        "- We want to show the train-error as well - possibly on the same graph as the test error.\n",
        "- A graph of the convergance time (# of epochs) vs. the number of parameters (?) Something like this. Can be nice to talk about the convergance time maybe.\n",
        "\n",
        "The experiments that we want to do:\n",
        "- We want to have at least 15 data-points (we may need more).\n",
        "- So we will make at least 15 neural networks with different # of parameters approximately uniform between 10000-50000.\n",
        "- For each experiment, we save the following:\n",
        "  - All train and test accuracy, and loss values throughout the learning process (saved to csv file).\n"
      ],
      "metadata": {
        "id": "opdIAb1prhlI"
      }
    },
    {
      "cell_type": "markdown",
      "source": [
        "The order of experiments: 40 epochs of each experiments\n",
        "Raz will run: From 12000 and up until 30000, with ~3000 granularity\n",
        "Itay will run: From 45000 and down to 30000, with ~3000 granularity"
      ],
      "metadata": {
        "id": "GGXsm7dZ1YBN"
      }
    },
    {
      "cell_type": "code",
      "source": [],
      "metadata": {
        "id": "vFhgm5691Xxn"
      },
      "execution_count": null,
      "outputs": []
    }
  ]
}