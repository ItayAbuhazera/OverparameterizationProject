{
 "cells": [
  {
   "cell_type": "code",
   "execution_count": 3,
   "metadata": {
    "tags": []
   },
   "outputs": [
    {
     "name": "stdout",
     "output_type": "stream",
     "text": [
      "Collecting torch\n",
      "  Downloading torch-2.4.0-cp39-cp39-manylinux1_x86_64.whl (797.2 MB)\n",
      "\u001b[K     |█████████████████▋              | 439.8 MB 81.7 MB/s eta 0:00:056"
     ]
    },
    {
     "name": "stderr",
     "output_type": "stream",
     "text": [
      "IOPub data rate exceeded.\n",
      "The Jupyter server will temporarily stop sending output\n",
      "to the client in order to avoid crashing it.\n",
      "To change this limit, set the config variable\n",
      "`--ServerApp.iopub_data_rate_limit`.\n",
      "\n",
      "Current values:\n",
      "ServerApp.iopub_data_rate_limit=1000000.0 (bytes/sec)\n",
      "ServerApp.rate_limit_window=3.0 (secs)\n",
      "\n"
     ]
    },
    {
     "name": "stdout",
     "output_type": "stream",
     "text": [
      "\u001b[K     |██████████████████████████▋     | 662.1 MB 105.0 MB/s eta 0:00:02"
     ]
    },
    {
     "name": "stderr",
     "output_type": "stream",
     "text": [
      "IOPub data rate exceeded.\n",
      "The Jupyter server will temporarily stop sending output\n",
      "to the client in order to avoid crashing it.\n",
      "To change this limit, set the config variable\n",
      "`--ServerApp.iopub_data_rate_limit`.\n",
      "\n",
      "Current values:\n",
      "ServerApp.iopub_data_rate_limit=1000000.0 (bytes/sec)\n",
      "ServerApp.rate_limit_window=3.0 (secs)\n",
      "\n"
     ]
    },
    {
     "name": "stdout",
     "output_type": "stream",
     "text": [
      "\u001b[K     |████████████████████████████████| 797.2 MB 15 kB/s /s eta 0:00:01     |██████████████████████████████▍ | 756.4 MB 101.2 MB/s eta 0:00:01\n",
      "\u001b[?25hCollecting torchvision\n",
      "  Downloading torchvision-0.19.0-cp39-cp39-manylinux1_x86_64.whl (7.0 MB)\n",
      "\u001b[K     |████████████████████████████████| 7.0 MB 42.5 MB/s eta 0:00:01\n",
      "\u001b[?25hRequirement already satisfied: jinja2 in ./.conda/envs/default/lib/python3.9/site-packages (from torch) (3.1.3)\n",
      "Collecting nvidia-cusparse-cu12==12.1.0.106\n",
      "  Downloading nvidia_cusparse_cu12-12.1.0.106-py3-none-manylinux1_x86_64.whl (196.0 MB)\n",
      "\u001b[K     |████████████████████████████████| 196.0 MB 60 kB/s s eta 0:00:01\n",
      "\u001b[?25hCollecting nvidia-cuda-cupti-cu12==12.1.105\n",
      "  Downloading nvidia_cuda_cupti_cu12-12.1.105-py3-none-manylinux1_x86_64.whl (14.1 MB)\n",
      "\u001b[K     |████████████████████████████████| 14.1 MB 106.2 MB/s eta 0:00:01\n",
      "\u001b[?25hCollecting nvidia-curand-cu12==10.3.2.106\n",
      "  Downloading nvidia_curand_cu12-10.3.2.106-py3-none-manylinux1_x86_64.whl (56.5 MB)\n",
      "\u001b[K     |████████████████████████████████| 56.5 MB 29.3 MB/s eta 0:00:01\n",
      "\u001b[?25hCollecting sympy\n",
      "  Downloading sympy-1.13.1-py3-none-any.whl (6.2 MB)\n",
      "\u001b[K     |████████████████████████████████| 6.2 MB 86.8 MB/s eta 0:00:01\n",
      "\u001b[?25hCollecting nvidia-cudnn-cu12==9.1.0.70\n",
      "  Downloading nvidia_cudnn_cu12-9.1.0.70-py3-none-manylinux2014_x86_64.whl (664.8 MB)\n",
      "\u001b[K     |██████████████▉                 | 307.9 MB 129.4 MB/s eta 0:00:039.4 MB/s eta 0:00:04"
     ]
    },
    {
     "name": "stderr",
     "output_type": "stream",
     "text": [
      "IOPub data rate exceeded.\n",
      "The Jupyter server will temporarily stop sending output\n",
      "to the client in order to avoid crashing it.\n",
      "To change this limit, set the config variable\n",
      "`--ServerApp.iopub_data_rate_limit`.\n",
      "\n",
      "Current values:\n",
      "ServerApp.iopub_data_rate_limit=1000000.0 (bytes/sec)\n",
      "ServerApp.rate_limit_window=3.0 (secs)\n",
      "\n"
     ]
    },
    {
     "name": "stdout",
     "output_type": "stream",
     "text": [
      "\u001b[K     |█████████████████████████████▉  | 620.6 MB 100.5 MB/s eta 0:00:01"
     ]
    },
    {
     "name": "stderr",
     "output_type": "stream",
     "text": [
      "IOPub data rate exceeded.\n",
      "The Jupyter server will temporarily stop sending output\n",
      "to the client in order to avoid crashing it.\n",
      "To change this limit, set the config variable\n",
      "`--ServerApp.iopub_data_rate_limit`.\n",
      "\n",
      "Current values:\n",
      "ServerApp.iopub_data_rate_limit=1000000.0 (bytes/sec)\n",
      "ServerApp.rate_limit_window=3.0 (secs)\n",
      "\n"
     ]
    },
    {
     "name": "stdout",
     "output_type": "stream",
     "text": [
      "\u001b[K     |████████████████████████████████| 664.8 MB 4.9 kB/s \n",
      "\u001b[?25hCollecting nvidia-cusolver-cu12==11.4.5.107\n",
      "  Downloading nvidia_cusolver_cu12-11.4.5.107-py3-none-manylinux1_x86_64.whl (124.2 MB)\n",
      "\u001b[K     |████████████████████████████████| 124.2 MB 31 kB/s s eta 0:00:01\n",
      "\u001b[?25hCollecting nvidia-nccl-cu12==2.20.5\n",
      "  Downloading nvidia_nccl_cu12-2.20.5-py3-none-manylinux2014_x86_64.whl (176.2 MB)\n",
      "\u001b[K     |████████████████████████████████| 176.2 MB 111 kB/s s eta 0:00:01\n",
      "\u001b[?25hCollecting nvidia-cuda-runtime-cu12==12.1.105\n",
      "  Downloading nvidia_cuda_runtime_cu12-12.1.105-py3-none-manylinux1_x86_64.whl (823 kB)\n",
      "\u001b[K     |████████████████████████████████| 823 kB 110.3 MB/s eta 0:00:01\n",
      "\u001b[?25hRequirement already satisfied: typing-extensions>=4.8.0 in ./.conda/envs/default/lib/python3.9/site-packages (from torch) (4.11.0)\n",
      "Collecting nvidia-nvtx-cu12==12.1.105\n",
      "  Downloading nvidia_nvtx_cu12-12.1.105-py3-none-manylinux1_x86_64.whl (99 kB)\n",
      "\u001b[K     |████████████████████████████████| 99 kB 14.8 MB/s eta 0:00:01\n",
      "\u001b[?25hCollecting triton==3.0.0\n",
      "  Using cached triton-3.0.0-1-cp39-cp39-manylinux2014_x86_64.manylinux_2_17_x86_64.whl (209.4 MB)\n",
      "Collecting nvidia-cuda-nvrtc-cu12==12.1.105\n",
      "  Using cached nvidia_cuda_nvrtc_cu12-12.1.105-py3-none-manylinux1_x86_64.whl (23.7 MB)\n",
      "Collecting filelock\n",
      "  Using cached filelock-3.15.4-py3-none-any.whl (16 kB)\n",
      "Collecting fsspec\n",
      "  Using cached fsspec-2024.6.1-py3-none-any.whl (177 kB)\n",
      "Collecting networkx\n",
      "  Downloading networkx-3.2.1-py3-none-any.whl (1.6 MB)\n",
      "\u001b[K     |████████████████████████████████| 1.6 MB 46.3 MB/s eta 0:00:01\n",
      "\u001b[?25hCollecting nvidia-cufft-cu12==11.0.2.54\n",
      "  Downloading nvidia_cufft_cu12-11.0.2.54-py3-none-manylinux1_x86_64.whl (121.6 MB)\n",
      "\u001b[K     |████████████████████████████████| 121.6 MB 80 kB/s s eta 0:00:01    |██████████████▉                 | 56.2 MB 70.4 MB/s eta 0:00:01\n",
      "\u001b[?25hCollecting nvidia-cublas-cu12==12.1.3.1\n",
      "  Downloading nvidia_cublas_cu12-12.1.3.1-py3-none-manylinux1_x86_64.whl (410.6 MB)\n",
      "\u001b[K     |██████████████████████████████▋ | 392.5 MB 100.3 MB/s eta 0:00:01:00:06"
     ]
    },
    {
     "name": "stderr",
     "output_type": "stream",
     "text": [
      "IOPub data rate exceeded.\n",
      "The Jupyter server will temporarily stop sending output\n",
      "to the client in order to avoid crashing it.\n",
      "To change this limit, set the config variable\n",
      "`--ServerApp.iopub_data_rate_limit`.\n",
      "\n",
      "Current values:\n",
      "ServerApp.iopub_data_rate_limit=1000000.0 (bytes/sec)\n",
      "ServerApp.rate_limit_window=3.0 (secs)\n",
      "\n"
     ]
    },
    {
     "name": "stdout",
     "output_type": "stream",
     "text": [
      "\u001b[K     |████████████████████████████████| 410.6 MB 4.9 kB/s \n",
      "\u001b[?25hRequirement already satisfied: nvidia-nvjitlink-cu12 in ./.conda/envs/default/lib/python3.9/site-packages (from nvidia-cusolver-cu12==11.4.5.107->torch) (12.6.20)\n",
      "Collecting numpy\n",
      "  Downloading numpy-2.0.1-cp39-cp39-manylinux_2_17_x86_64.manylinux2014_x86_64.whl (19.5 MB)\n",
      "\u001b[K     |████████████████████████████████| 19.5 MB 58.9 MB/s eta 0:00:01\n",
      "\u001b[?25hCollecting pillow!=8.3.*,>=5.3.0\n",
      "  Downloading pillow-10.4.0-cp39-cp39-manylinux_2_28_x86_64.whl (4.5 MB)\n",
      "\u001b[K     |████████████████████████████████| 4.5 MB 81.6 MB/s eta 0:00:01\n",
      "\u001b[?25hRequirement already satisfied: MarkupSafe>=2.0 in ./.conda/envs/default/lib/python3.9/site-packages (from jinja2->torch) (2.1.5)\n",
      "Collecting mpmath<1.4,>=1.1.0\n",
      "  Using cached mpmath-1.3.0-py3-none-any.whl (536 kB)\n",
      "Installing collected packages: nvidia-cusparse-cu12, nvidia-cublas-cu12, mpmath, filelock, triton, sympy, nvidia-nvtx-cu12, nvidia-nccl-cu12, nvidia-cusolver-cu12, nvidia-curand-cu12, nvidia-cufft-cu12, nvidia-cudnn-cu12, nvidia-cuda-runtime-cu12, nvidia-cuda-nvrtc-cu12, nvidia-cuda-cupti-cu12, networkx, fsspec, torch, pillow, numpy, torchvision\n",
      "Successfully installed filelock-3.15.4 fsspec-2024.6.1 mpmath-1.3.0 networkx-3.2.1 numpy-2.0.1 nvidia-cublas-cu12-12.1.3.1 nvidia-cuda-cupti-cu12-12.1.105 nvidia-cuda-nvrtc-cu12-12.1.105 nvidia-cuda-runtime-cu12-12.1.105 nvidia-cudnn-cu12-9.1.0.70 nvidia-cufft-cu12-11.0.2.54 nvidia-curand-cu12-10.3.2.106 nvidia-cusolver-cu12-11.4.5.107 nvidia-cusparse-cu12-12.1.0.106 nvidia-nccl-cu12-2.20.5 nvidia-nvtx-cu12-12.1.105 pillow-10.4.0 sympy-1.13.1 torch-2.4.0 torchvision-0.19.0 triton-3.0.0\n"
     ]
    }
   ],
   "source": [
    "!pip install torch torchvision"
   ]
  },
  {
   "cell_type": "code",
   "execution_count": 5,
   "metadata": {
    "tags": []
   },
   "outputs": [
    {
     "name": "stdout",
     "output_type": "stream",
     "text": [
      "Collecting matplotlib\n",
      "  Downloading matplotlib-3.9.1.post1-cp39-cp39-manylinux_2_17_x86_64.manylinux2014_x86_64.whl (8.3 MB)\n",
      "\u001b[K     |████████████████████████████████| 8.3 MB 5.9 MB/s eta 0:00:01\n",
      "\u001b[?25hCollecting cycler>=0.10\n",
      "  Downloading cycler-0.12.1-py3-none-any.whl (8.3 kB)\n",
      "Collecting contourpy>=1.0.1\n",
      "  Downloading contourpy-1.2.1-cp39-cp39-manylinux_2_17_x86_64.manylinux2014_x86_64.whl (304 kB)\n",
      "\u001b[K     |████████████████████████████████| 304 kB 71.6 MB/s eta 0:00:01\n",
      "\u001b[?25hCollecting fonttools>=4.22.0\n",
      "  Downloading fonttools-4.53.1-cp39-cp39-manylinux_2_17_x86_64.manylinux2014_x86_64.whl (4.6 MB)\n",
      "\u001b[K     |████████████████████████████████| 4.6 MB 80.6 MB/s eta 0:00:01\n",
      "\u001b[?25hRequirement already satisfied: packaging>=20.0 in ./.conda/envs/default/lib/python3.9/site-packages (from matplotlib) (24.0)\n",
      "Requirement already satisfied: pillow>=8 in ./.conda/envs/default/lib/python3.9/site-packages (from matplotlib) (10.4.0)\n",
      "Requirement already satisfied: python-dateutil>=2.7 in ./.conda/envs/default/lib/python3.9/site-packages (from matplotlib) (2.9.0)\n",
      "Requirement already satisfied: numpy>=1.23 in ./.conda/envs/default/lib/python3.9/site-packages (from matplotlib) (2.0.1)\n",
      "Requirement already satisfied: importlib-resources>=3.2.0 in ./.conda/envs/default/lib/python3.9/site-packages (from matplotlib) (6.4.0)\n",
      "Collecting pyparsing>=2.3.1\n",
      "  Downloading pyparsing-3.1.2-py3-none-any.whl (103 kB)\n",
      "\u001b[K     |████████████████████████████████| 103 kB 80.5 MB/s eta 0:00:01\n",
      "\u001b[?25hCollecting kiwisolver>=1.3.1\n",
      "  Downloading kiwisolver-1.4.5-cp39-cp39-manylinux_2_12_x86_64.manylinux2010_x86_64.whl (1.6 MB)\n",
      "\u001b[K     |████████████████████████████████| 1.6 MB 82.8 MB/s eta 0:00:01\n",
      "\u001b[?25hRequirement already satisfied: zipp>=3.1.0 in ./.conda/envs/default/lib/python3.9/site-packages (from importlib-resources>=3.2.0->matplotlib) (3.17.0)\n",
      "Requirement already satisfied: six>=1.5 in ./.conda/envs/default/lib/python3.9/site-packages (from python-dateutil>=2.7->matplotlib) (1.16.0)\n",
      "Installing collected packages: pyparsing, kiwisolver, fonttools, cycler, contourpy, matplotlib\n",
      "Successfully installed contourpy-1.2.1 cycler-0.12.1 fonttools-4.53.1 kiwisolver-1.4.5 matplotlib-3.9.1.post1 pyparsing-3.1.2\n"
     ]
    }
   ],
   "source": [
    "!pip install matplotlib"
   ]
  },
  {
   "cell_type": "code",
   "execution_count": 7,
   "metadata": {
    "tags": []
   },
   "outputs": [
    {
     "name": "stdout",
     "output_type": "stream",
     "text": [
      "Collecting pandas\n",
      "  Downloading pandas-2.2.2-cp39-cp39-manylinux_2_17_x86_64.manylinux2014_x86_64.whl (13.1 MB)\n",
      "\u001b[K     |████████████████████████████████| 13.1 MB 5.7 MB/s eta 0:00:01\n",
      "\u001b[?25hRequirement already satisfied: pytz>=2020.1 in ./.conda/envs/default/lib/python3.9/site-packages (from pandas) (2024.1)\n",
      "Requirement already satisfied: numpy>=1.22.4 in ./.conda/envs/default/lib/python3.9/site-packages (from pandas) (2.0.1)\n",
      "Requirement already satisfied: python-dateutil>=2.8.2 in ./.conda/envs/default/lib/python3.9/site-packages (from pandas) (2.9.0)\n",
      "Collecting tzdata>=2022.7\n",
      "  Downloading tzdata-2024.1-py2.py3-none-any.whl (345 kB)\n",
      "\u001b[K     |████████████████████████████████| 345 kB 91.3 MB/s eta 0:00:01\n",
      "\u001b[?25hRequirement already satisfied: six>=1.5 in ./.conda/envs/default/lib/python3.9/site-packages (from python-dateutil>=2.8.2->pandas) (1.16.0)\n",
      "Installing collected packages: tzdata, pandas\n",
      "Successfully installed pandas-2.2.2 tzdata-2024.1\n"
     ]
    }
   ],
   "source": [
    "!pip install pandas"
   ]
  },
  {
   "cell_type": "code",
   "execution_count": 10,
   "metadata": {
    "tags": []
   },
   "outputs": [
    {
     "name": "stdout",
     "output_type": "stream",
     "text": [
      "Collecting google\n",
      "  Downloading google-3.0.0-py2.py3-none-any.whl (45 kB)\n",
      "\u001b[K     |████████████████████████████████| 45 kB 3.3 MB/s eta 0:00:011\n",
      "\u001b[?25hRequirement already satisfied: beautifulsoup4 in ./.conda/envs/default/lib/python3.9/site-packages (from google) (4.12.3)\n",
      "Requirement already satisfied: soupsieve>1.2 in ./.conda/envs/default/lib/python3.9/site-packages (from beautifulsoup4->google) (2.5)\n",
      "Installing collected packages: google\n",
      "Successfully installed google-3.0.0\n"
     ]
    }
   ],
   "source": [
    "!pip install google"
   ]
  },
  {
   "cell_type": "code",
   "execution_count": 8,
   "metadata": {
    "id": "kzlidVIfDSyJ",
    "tags": []
   },
   "outputs": [],
   "source": [
    "import torch\n",
    "import torchvision\n",
    "from torchvision import datasets, transforms\n",
    "import torch.optim as optim\n",
    "import matplotlib.pyplot as plt\n",
    "import numpy as np\n",
    "import pandas as pd"
   ]
  },
  {
   "cell_type": "code",
   "execution_count": 11,
   "metadata": {
    "colab": {
     "base_uri": "https://localhost:8080/"
    },
    "id": "oJX7kWyquHY_",
    "outputId": "6725a430-be27-4498-ced3-2fe4048b4a75",
    "tags": []
   },
   "outputs": [
    {
     "ename": "ModuleNotFoundError",
     "evalue": "No module named 'google'",
     "output_type": "error",
     "traceback": [
      "\u001b[0;31m---------------------------------------------------------------------------\u001b[0m",
      "\u001b[0;31mModuleNotFoundError\u001b[0m                       Traceback (most recent call last)",
      "\u001b[0;32m/tmp/ipykernel_157/1408506528.py\u001b[0m in \u001b[0;36m<cell line: 1>\u001b[0;34m()\u001b[0m\n\u001b[0;32m----> 1\u001b[0;31m \u001b[0;32mfrom\u001b[0m \u001b[0mgoogle\u001b[0m\u001b[0;34m.\u001b[0m\u001b[0mcolab\u001b[0m \u001b[0;32mimport\u001b[0m \u001b[0mdrive\u001b[0m\u001b[0;34m\u001b[0m\u001b[0;34m\u001b[0m\u001b[0m\n\u001b[0m\u001b[1;32m      2\u001b[0m \u001b[0mdrive\u001b[0m\u001b[0;34m.\u001b[0m\u001b[0mmount\u001b[0m\u001b[0;34m(\u001b[0m\u001b[0;34m'/content/drive'\u001b[0m\u001b[0;34m)\u001b[0m\u001b[0;34m\u001b[0m\u001b[0;34m\u001b[0m\u001b[0m\n",
      "\u001b[0;31mModuleNotFoundError\u001b[0m: No module named 'google'"
     ]
    }
   ],
   "source": [
    "from google.colab import drive\n",
    "drive.mount('/content/drive')"
   ]
  },
  {
   "cell_type": "code",
   "execution_count": 14,
   "metadata": {
    "colab": {
     "base_uri": "https://localhost:8080/"
    },
    "id": "IrNT8njmDblN",
    "outputId": "bf9f0c34-7129-402d-b2ee-8202434be2ac",
    "tags": []
   },
   "outputs": [
    {
     "name": "stdout",
     "output_type": "stream",
     "text": [
      "Files already downloaded and verified\n",
      "Files already downloaded and verified\n",
      "Unfiltered train set size: 50000\n",
      "Unfiltered test set size: 10000\n",
      "Unfiltered classes: ['airplane', 'automobile', 'bird', 'cat', 'deer', 'dog', 'frog', 'horse', 'ship', 'truck']\n",
      "Filtered train set size: 20000\n",
      "Filtered test set size: 4000\n",
      "Filtered classes: ['airplane', 'automobile', 'bird', 'cat', 'deer', 'dog', 'frog', 'horse', 'ship', 'truck']\n",
      "Batch size: 4, Labels: tensor([0, 0, 2, 2])\n",
      "Batch size: 4, Labels: tensor([1, 0, 1, 2])\n",
      "Batch size: 4, Labels: tensor([1, 1, 1, 2])\n",
      "Batch size: 4, Labels: tensor([1, 1, 1, 3])\n",
      "Dataset CIFAR10\n",
      "    Number of datapoints: 20000\n",
      "    Root location: ./data\n",
      "    Split: Train\n",
      "    StandardTransform\n",
      "Transform: Compose(\n",
      "               ToTensor()\n",
      "               Normalize(mean=(0.5, 0.5, 0.5), std=(0.5, 0.5, 0.5))\n",
      "           )\n",
      "Dataset CIFAR10\n",
      "    Number of datapoints: 4000\n",
      "    Root location: ./data\n",
      "    Split: Test\n",
      "    StandardTransform\n",
      "Transform: Compose(\n",
      "               ToTensor()\n",
      "               Normalize(mean=(0.5, 0.5, 0.5), std=(0.5, 0.5, 0.5))\n",
      "           )\n"
     ]
    }
   ],
   "source": [
    "classes = ('plane', 'car', 'bird', 'cat',\n",
    "           'deer', 'dog', 'frog', 'horse', 'ship', 'truck')\n",
    "\n",
    "# ---------------------- Filter to our wanted classes only ---------------------\n",
    "# Define the classes you want to keep (e.g., class 0 and class 1)\n",
    "classes = ('car', 'frog', 'horse', 'ship')\n",
    "classes_to_keep = [1, 6, 7, 8]\n",
    "\n",
    "# Define the transformation for the dataset\n",
    "transform = transforms.Compose([\n",
    "    transforms.ToTensor(),\n",
    "    transforms.Normalize((0.5, 0.5, 0.5), (0.5, 0.5, 0.5)),\n",
    "])\n",
    "\n",
    "# Load the CIFAR-10 dataset\n",
    "trainset = datasets.CIFAR10(root='./data', train=True, download=True, transform=transform)\n",
    "testset = datasets.CIFAR10(root='./data', train=False, download=True, transform=transform)\n",
    "\n",
    "# Function to filter the dataset by the specified classes\n",
    "def filter_dataset_by_class(dataset, classes):\n",
    "    # Get the data and targets\n",
    "    data, targets = dataset.data, torch.tensor(dataset.targets)\n",
    "\n",
    "    # Create a mask for the classes you want to keep\n",
    "    mask = torch.isin(targets, torch.tensor(classes))\n",
    "\n",
    "    # Filter the data and targets\n",
    "    filtered_data = data[mask.numpy()]\n",
    "    filtered_targets = targets[mask].numpy()\n",
    "\n",
    "    for i in range(len(filtered_targets)):\n",
    "      filtered_targets[i] = classes.index(filtered_targets[i])\n",
    "\n",
    "    # Update the dataset's data and targets\n",
    "    dataset.data = filtered_data\n",
    "    dataset.targets = filtered_targets\n",
    "\n",
    "# Size of the unfiltered sets\n",
    "print(f'Unfiltered train set size: {len(trainset)}')\n",
    "print(f'Unfiltered test set size: {len(testset)}')\n",
    "print(f'Unfiltered classes: {trainset.classes}')\n",
    "\n",
    "# Filter the train and test sets\n",
    "filter_dataset_by_class(trainset, classes_to_keep)\n",
    "filter_dataset_by_class(testset, classes_to_keep)\n",
    "\n",
    "# Now the trainset and testset objects are still CIFAR10 datasets, but only contain the selected classes\n",
    "print(f'Filtered train set size: {len(trainset)}')\n",
    "print(f'Filtered test set size: {len(testset)}')\n",
    "print(f'Filtered classes: {trainset.classes}')\n",
    "\n",
    "# Create DataLoader for the filtered datasets\n",
    "batch_size = 4\n",
    "trainloader = torch.utils.data.DataLoader(trainset, batch_size=batch_size, shuffle=True, num_workers=2)\n",
    "testloader = torch.utils.data.DataLoader(testset, batch_size=batch_size, shuffle=False, num_workers=2)\n",
    "\n",
    "# Example: Iterate through the filtered trainloader\n",
    "for i, (images, labels) in enumerate(trainloader):\n",
    "    print(f'Batch size: {images.size(0)}, Labels: {labels}')\n",
    "    if i == 3:\n",
    "      break\n",
    "\n",
    "print(trainset)\n",
    "print(testset)"
   ]
  },
  {
   "cell_type": "code",
   "execution_count": 15,
   "metadata": {
    "colab": {
     "base_uri": "https://localhost:8080/",
     "height": 210
    },
    "id": "YU8wTj-LDhm4",
    "outputId": "185dbd06-a890-4de1-cacb-480c96743e6c",
    "tags": []
   },
   "outputs": [
    {
     "data": {
      "image/png": "[encoded data removed]",
      "text/plain": [
       "<Figure size 640x480 with 1 Axes>"
      ]
     },
     "metadata": {},
     "output_type": "display_data"
    },
    {
     "name": "stdout",
     "output_type": "stream",
     "text": [
      "frog  horse frog  car  \n"
     ]
    }
   ],
   "source": [
    "# functions to show an image\n",
    "def imshow(img):\n",
    "    img = img / 2 + 0.5     # unnormalize\n",
    "    npimg = img.numpy()\n",
    "    plt.imshow(np.transpose(npimg, (1, 2, 0)))\n",
    "    plt.show()\n",
    "\n",
    "\n",
    "# get some random training images\n",
    "dataiter = iter(trainloader)\n",
    "images, labels = next(dataiter)\n",
    "\n",
    "# show images\n",
    "imshow(torchvision.utils.make_grid(images))\n",
    "# print labels\n",
    "print(' '.join(f'{classes[labels[j]]:5s}' for j in range(batch_size)))"
   ]
  },
  {
   "cell_type": "code",
   "execution_count": 33,
   "metadata": {
    "id": "oIkGlUKADlpq",
    "tags": []
   },
   "outputs": [],
   "source": [
    "import torch.nn as nn\n",
    "import torch.nn.functional as F\n",
    "\n",
    "class Net(nn.Module):\n",
    "    def __init__(self):\n",
    "        super().__init__()\n",
    "        self.conv1 = nn.Conv2d(3, 6, 5)  # Keep conv1 as is\n",
    "        self.pool = nn.MaxPool2d(2, 2)\n",
    "        \n",
    "        # Reduce the number of output channels in conv2\n",
    "        self.conv2 = nn.Conv2d(6, 10, 5)  # Adjust conv2 to 10 output channels\n",
    "        \n",
    "        # Reduce the number of units in the fully connected layers\n",
    "        self.fc1 = nn.Linear(10 * 5 * 5, 110)  # Adjust fc1 to 100 output units\n",
    "        self.fc2 = nn.Linear(110, 60)  # Adjust fc2 to 50 output units\n",
    "        self.fc3 = nn.Linear(60, 4)  # Keep fc3 as is\n",
    "\n",
    "    def forward(self, x):\n",
    "        x = self.pool(F.relu(self.conv1(x)))\n",
    "        x = self.pool(F.relu(self.conv2(x)))\n",
    "        x = torch.flatten(x, 1)  # flatten all dimensions except batch\n",
    "        x = F.relu(self.fc1(x))\n",
    "        x = F.relu(self.fc2(x))\n",
    "        x = self.fc3(x)\n",
    "        return x\n",
    "\n",
    "\n",
    "net = Net()"
   ]
  },
  {
   "cell_type": "code",
   "execution_count": 34,
   "metadata": {
    "colab": {
     "base_uri": "https://localhost:8080/"
    },
    "id": "GPf8RpIpJtbs",
    "outputId": "514c6e04-3405-4d2b-eb65-fb44a8f653a0",
    "tags": []
   },
   "outputs": [
    {
     "name": "stdout",
     "output_type": "stream",
     "text": [
      "36480\n"
     ]
    }
   ],
   "source": [
    "# Number of learnable parameters in the model\n",
    "pytorch_total_params = sum(p.numel() for p in net.parameters() if p.requires_grad)\n",
    "print(pytorch_total_params)"
   ]
  },
  {
   "cell_type": "code",
   "execution_count": 35,
   "metadata": {
    "id": "mL7VgGVjDsh_",
    "tags": []
   },
   "outputs": [],
   "source": [
    "criterion = nn.CrossEntropyLoss()\n",
    "optimizer = optim.SGD(net.parameters(), lr=0.001, momentum=0.9)"
   ]
  },
  {
   "cell_type": "code",
   "execution_count": 36,
   "metadata": {
    "id": "5oaijBg2EPdl",
    "tags": []
   },
   "outputs": [],
   "source": [
    "def accuracy(net, test=False):\n",
    "  # Let's test on the whole test-set\n",
    "  correct = 0\n",
    "  total = 0\n",
    "  # since we're not training, we don't need to calculate the gradients for our outputs\n",
    "  dataloader = testloader if test else trainloader\n",
    "  with torch.no_grad():\n",
    "      for data in dataloader:\n",
    "          images, labels = data\n",
    "          # calculate outputs by running images through the network\n",
    "          outputs = net(images)\n",
    "          loss = criterion(outputs, labels)\n",
    "          # the class with the highest energy is what we choose as prediction\n",
    "          _, predicted = torch.max(outputs.data, 1)\n",
    "          total += labels.size(0)\n",
    "          correct += (predicted == labels).sum().item()\n",
    "  accuracy = 100 * correct // total\n",
    "  # print(f'Accuracy of the network on the {\"test\" if test else \"train\"} images: {100 * correct // total} %')\n",
    "  return accuracy, loss.item()\n"
   ]
  },
  {
   "cell_type": "code",
   "execution_count": 37,
   "metadata": {
    "colab": {
     "base_uri": "https://localhost:8080/"
    },
    "id": "3FFCce0yD13y",
    "outputId": "691827fd-4ced-4237-eee6-4f3ac74a477b",
    "tags": []
   },
   "outputs": [
    {
     "name": "stdout",
     "output_type": "stream",
     "text": [
      "[1,  2000] loss: 1.095\n",
      "[1,  4000] loss: 0.731\n",
      "Epoch 1, Train accuracy: 76, Test accuracy: 76, Train loss: 0.6462128162384033, Test loss: 0.6091173887252808\n",
      "[2,  2000] loss: 0.558\n",
      "[2,  4000] loss: 0.506\n",
      "Epoch 2, Train accuracy: 78, Test accuracy: 77, Train loss: 0.20272332429885864, Test loss: 1.1350377798080444\n",
      "[3,  2000] loss: 0.433\n",
      "[3,  4000] loss: 0.441\n",
      "Epoch 3, Train accuracy: 86, Test accuracy: 84, Train loss: 0.8046306371688843, Test loss: 0.11201056838035583\n",
      "[4,  2000] loss: 0.379\n",
      "[4,  4000] loss: 0.389\n",
      "Epoch 4, Train accuracy: 88, Test accuracy: 86, Train loss: 0.8500084280967712, Test loss: 0.3217070996761322\n",
      "[5,  2000] loss: 0.340\n",
      "[5,  4000] loss: 0.335\n",
      "Epoch 5, Train accuracy: 89, Test accuracy: 86, Train loss: 0.38033559918403625, Test loss: 0.28092122077941895\n",
      "[6,  2000] loss: 0.311\n",
      "[6,  4000] loss: 0.306\n",
      "Epoch 6, Train accuracy: 89, Test accuracy: 86, Train loss: 0.05172101408243179, Test loss: 0.07879777997732162\n",
      "[7,  2000] loss: 0.275\n",
      "[7,  4000] loss: 0.284\n",
      "Epoch 7, Train accuracy: 89, Test accuracy: 85, Train loss: 0.24227365851402283, Test loss: 0.3907886743545532\n",
      "[8,  2000] loss: 0.258\n",
      "[8,  4000] loss: 0.258\n",
      "Epoch 8, Train accuracy: 92, Test accuracy: 87, Train loss: 0.09220696985721588, Test loss: 0.9779292345046997\n",
      "[9,  2000] loss: 0.224\n",
      "[9,  4000] loss: 0.237\n",
      "Epoch 9, Train accuracy: 94, Test accuracy: 88, Train loss: 0.02154717966914177, Test loss: 0.20681846141815186\n",
      "[10,  2000] loss: 0.193\n",
      "[10,  4000] loss: 0.215\n",
      "Epoch 10, Train accuracy: 93, Test accuracy: 86, Train loss: 0.16214168071746826, Test loss: 0.7766395211219788\n",
      "[11,  2000] loss: 0.172\n",
      "[11,  4000] loss: 0.205\n",
      "Epoch 11, Train accuracy: 93, Test accuracy: 87, Train loss: 0.8910237550735474, Test loss: 0.2623412013053894\n",
      "[12,  2000] loss: 0.162\n",
      "[12,  4000] loss: 0.177\n",
      "Epoch 12, Train accuracy: 96, Test accuracy: 88, Train loss: 0.03346344828605652, Test loss: 1.1801354885101318\n",
      "[13,  2000] loss: 0.148\n",
      "[13,  4000] loss: 0.161\n",
      "Epoch 13, Train accuracy: 95, Test accuracy: 88, Train loss: 0.0015834682853892446, Test loss: 1.1166696548461914\n",
      "[14,  2000] loss: 0.119\n",
      "[14,  4000] loss: 0.161\n",
      "Epoch 14, Train accuracy: 95, Test accuracy: 86, Train loss: 0.10634179413318634, Test loss: 1.3104287385940552\n",
      "[15,  2000] loss: 0.109\n",
      "[15,  4000] loss: 0.143\n",
      "Epoch 15, Train accuracy: 95, Test accuracy: 87, Train loss: 0.00890684500336647, Test loss: 0.9692597985267639\n",
      "[16,  2000] loss: 0.102\n",
      "[16,  4000] loss: 0.125\n",
      "Epoch 16, Train accuracy: 97, Test accuracy: 87, Train loss: 0.033866580575704575, Test loss: 0.3595157265663147\n",
      "[17,  2000] loss: 0.092\n",
      "[17,  4000] loss: 0.110\n",
      "Epoch 17, Train accuracy: 96, Test accuracy: 87, Train loss: 0.019853385165333748, Test loss: 0.7459143400192261\n",
      "[18,  2000] loss: 0.107\n",
      "[18,  4000] loss: 0.111\n",
      "Epoch 18, Train accuracy: 97, Test accuracy: 87, Train loss: 0.00038863770896568894, Test loss: 0.03063044138252735\n",
      "[19,  2000] loss: 0.096\n",
      "[19,  4000] loss: 0.113\n",
      "Epoch 19, Train accuracy: 96, Test accuracy: 87, Train loss: 0.07735081017017365, Test loss: 0.7208864688873291\n",
      "[20,  2000] loss: 0.075\n",
      "[20,  4000] loss: 0.092\n",
      "Epoch 20, Train accuracy: 97, Test accuracy: 87, Train loss: 0.1955261528491974, Test loss: 0.0532044917345047\n",
      "[21,  2000] loss: 0.070\n",
      "[21,  4000] loss: 0.094\n",
      "Epoch 21, Train accuracy: 98, Test accuracy: 87, Train loss: 0.00019788023200817406, Test loss: 0.004789256956428289\n",
      "[22,  2000] loss: 0.072\n",
      "[22,  4000] loss: 0.076\n",
      "Epoch 22, Train accuracy: 98, Test accuracy: 87, Train loss: 0.04392063617706299, Test loss: 0.0007621705299243331\n",
      "[23,  2000] loss: 0.059\n",
      "[23,  4000] loss: 0.071\n",
      "Epoch 23, Train accuracy: 98, Test accuracy: 87, Train loss: 1.9371464077266864e-06, Test loss: 0.07820390909910202\n",
      "[24,  2000] loss: 0.070\n",
      "[24,  4000] loss: 0.073\n",
      "Epoch 24, Train accuracy: 98, Test accuracy: 88, Train loss: 0.004171108826994896, Test loss: 0.00011073602945543826\n",
      "[25,  2000] loss: 0.066\n",
      "[25,  4000] loss: 0.071\n",
      "Epoch 25, Train accuracy: 98, Test accuracy: 87, Train loss: 0.0007994473562575877, Test loss: 0.36149683594703674\n",
      "[26,  2000] loss: 0.066\n",
      "[26,  4000] loss: 0.071\n",
      "Epoch 26, Train accuracy: 96, Test accuracy: 86, Train loss: 0.036929551512002945, Test loss: 0.17768904566764832\n",
      "[27,  2000] loss: 0.055\n",
      "[27,  4000] loss: 0.065\n",
      "Epoch 27, Train accuracy: 98, Test accuracy: 88, Train loss: 0.005866851657629013, Test loss: 0.0299115888774395\n",
      "[28,  2000] loss: 0.026\n",
      "[28,  4000] loss: 0.059\n",
      "Epoch 28, Train accuracy: 98, Test accuracy: 87, Train loss: 0.02102968841791153, Test loss: 0.010213480331003666\n",
      "[29,  2000] loss: 0.038\n",
      "[29,  4000] loss: 0.076\n",
      "Epoch 29, Train accuracy: 96, Test accuracy: 85, Train loss: 0.003226164961233735, Test loss: 0.00015638892364222556\n",
      "[30,  2000] loss: 0.076\n",
      "[30,  4000] loss: 0.063\n",
      "Epoch 30, Train accuracy: 99, Test accuracy: 88, Train loss: 0.00023035523190628737, Test loss: 4.798136160388822e-06\n",
      "[31,  2000] loss: 0.031\n",
      "[31,  4000] loss: 0.052\n",
      "Epoch 31, Train accuracy: 95, Test accuracy: 85, Train loss: 1.7552951248944737e-05, Test loss: 6.844737799838185e-05\n",
      "[32,  2000] loss: 0.042\n",
      "[32,  4000] loss: 0.045\n",
      "Epoch 32, Train accuracy: 98, Test accuracy: 87, Train loss: 0.005203922279179096, Test loss: 0.0022377704735845327\n",
      "[33,  2000] loss: 0.029\n",
      "[33,  4000] loss: 0.054\n",
      "Epoch 33, Train accuracy: 99, Test accuracy: 88, Train loss: 0.010565965436398983, Test loss: 0.0013035477604717016\n",
      "[34,  2000] loss: 0.029\n",
      "[34,  4000] loss: 0.062\n",
      "Epoch 34, Train accuracy: 98, Test accuracy: 87, Train loss: 0.006738452240824699, Test loss: 4.684602390625514e-05\n",
      "[35,  2000] loss: 0.039\n",
      "[35,  4000] loss: 0.045\n",
      "Epoch 35, Train accuracy: 98, Test accuracy: 86, Train loss: 0.025547921657562256, Test loss: 0.0011900013778358698\n",
      "[36,  2000] loss: 0.041\n",
      "[36,  4000] loss: 0.028\n",
      "Epoch 36, Train accuracy: 99, Test accuracy: 87, Train loss: 0.27698639035224915, Test loss: 0.0002233282575616613\n",
      "[37,  2000] loss: 0.031\n",
      "[37,  4000] loss: 0.047\n",
      "Epoch 37, Train accuracy: 98, Test accuracy: 87, Train loss: 0.0008120699203573167, Test loss: 4.172323428974778e-07\n",
      "[38,  2000] loss: 0.032\n",
      "[38,  4000] loss: 0.038\n",
      "Epoch 38, Train accuracy: 99, Test accuracy: 87, Train loss: 0.03233553469181061, Test loss: 0.012705672532320023\n",
      "[39,  2000] loss: 0.031\n",
      "[39,  4000] loss: 0.043\n",
      "Epoch 39, Train accuracy: 99, Test accuracy: 87, Train loss: 0.01902342028915882, Test loss: 1.3452314138412476\n",
      "[40,  2000] loss: 0.046\n",
      "[40,  4000] loss: 0.031\n",
      "Epoch 40, Train accuracy: 99, Test accuracy: 87, Train loss: 2.0861619987044833e-07, Test loss: 0.28661346435546875\n",
      "Finished Training\n"
     ]
    }
   ],
   "source": [
    "n_epochs = 40\n",
    "train_accuracy = []\n",
    "test_accuracy = []\n",
    "train_losses = []\n",
    "test_losses = []\n",
    "for epoch in range(n_epochs):  # loop over the dataset multiple times\n",
    "\n",
    "    running_loss = 0.0\n",
    "    for i, data in enumerate(trainloader, 0):\n",
    "        # get the inputs; data is a list of [inputs, labels]\n",
    "        inputs, labels = data\n",
    "\n",
    "        # zero the parameter gradients\n",
    "        optimizer.zero_grad()\n",
    "\n",
    "        # forward + backward + optimize\n",
    "        outputs = net(inputs)\n",
    "        loss = criterion(outputs, labels)\n",
    "        loss.backward()\n",
    "        optimizer.step()\n",
    "\n",
    "        # print statistics\n",
    "        running_loss += loss.item()\n",
    "        if i % 2000 == 1999:    # print every 2000 mini-batches\n",
    "            print(f'[{epoch + 1}, {i + 1:5d}] loss: {running_loss / 2000:.3f}')\n",
    "            running_loss = 0.0\n",
    "\n",
    "    n_samples = trainloader.dataset.data.shape[0]\n",
    "\n",
    "    # Calculate train accuracy\n",
    "    train_acc, train_loss = accuracy(net)\n",
    "    train_accuracy.append(train_acc)\n",
    "    train_losses.append(train_loss)\n",
    "\n",
    "    # Calculate test accuracy\n",
    "    test_acc, test_loss = accuracy(net, test=True)\n",
    "    test_accuracy.append(test_acc)\n",
    "    test_losses.append(test_loss)\n",
    "\n",
    "    print(f'Epoch {epoch+1}, Train accuracy: {train_acc}, Test accuracy: {test_acc}, Train loss: {train_loss}, Test loss: {test_loss}')\n",
    "\n",
    "print('Finished Training')"
   ]
  },
  {
   "cell_type": "code",
   "execution_count": 38,
   "metadata": {
    "id": "nOxIYePXD7uM",
    "tags": []
   },
   "outputs": [],
   "source": [
    "# dir_path = '/39590/'\n",
    "\n",
    "# Create a directory for the experiment\n",
    "# import os\n",
    "# os.makedirs(dir_path, exist_ok=True)\n",
    "\n",
    "# Save the net\n",
    "PATH = 'model_36480.pth'\n",
    "torch.save(net.state_dict(), PATH)\n",
    "\n",
    "# Save the accuracy (train, test), and loss\n",
    "df = pd.DataFrame({'train_accuracy': train_accuracy, 'test_accuracy': test_accuracy, 'train_loss': train_losses, 'test_loss': test_losses})\n",
    "df.to_csv('results_36480.csv', index=False)"
   ]
  },
  {
   "cell_type": "code",
   "execution_count": null,
   "metadata": {
    "colab": {
     "base_uri": "https://localhost:8080/"
    },
    "id": "NVTF6zYdIiYA",
    "outputId": "49da9779-1959-4b9a-a143-7e6a8f185369"
   },
   "outputs": [
    {
     "data": {
      "text/plain": [
       "62"
      ]
     },
     "execution_count": 19,
     "metadata": {},
     "output_type": "execute_result"
    }
   ],
   "source": [
    "print(accuracy(net, test=False))\n",
    "print(accuracy(net, test=True))"
   ]
  },
  {
   "cell_type": "code",
   "execution_count": null,
   "metadata": {
    "colab": {
     "base_uri": "https://localhost:8080/",
     "height": 210
    },
    "id": "4j3f2bwMEKp0",
    "outputId": "71e01e52-2d17-41f2-f705-01dd5209c949"
   },
   "outputs": [
    {
     "data": {
      "image/png": "[encoded data removed]",
      "text/plain": [
       "<Figure size 640x480 with 1 Axes>"
      ]
     },
     "metadata": {},
     "output_type": "display_data"
    },
    {
     "name": "stdout",
     "output_type": "stream",
     "text": [
      "GroundTruth:  cat   ship  ship  plane\n"
     ]
    }
   ],
   "source": [
    "dataiter = iter(testloader)\n",
    "images, labels = next(dataiter)\n",
    "\n",
    "# print images\n",
    "imshow(torchvision.utils.make_grid(images))\n",
    "print('GroundTruth: ', ' '.join(f'{classes[labels[j]]:5s}' for j in range(4)))"
   ]
  },
  {
   "cell_type": "code",
   "execution_count": null,
   "metadata": {
    "colab": {
     "base_uri": "https://localhost:8080/"
    },
    "id": "rzc5x5UKELOP",
    "outputId": "2e6ab9ee-c265-424b-c70b-6b4d4d1573ea"
   },
   "outputs": [
    {
     "data": {
      "text/plain": [
       "<All keys matched successfully>"
      ]
     },
     "execution_count": 12,
     "metadata": {},
     "output_type": "execute_result"
    }
   ],
   "source": [
    "# Load the network we learned\n",
    "net = Net()\n",
    "net.load_state_dict(torch.load(PATH))"
   ]
  },
  {
   "cell_type": "code",
   "execution_count": null,
   "metadata": {
    "colab": {
     "base_uri": "https://localhost:8080/"
    },
    "id": "qZEhdiH1EM_l",
    "outputId": "bfd75513-303e-4060-ae80-2c2dea0883f0"
   },
   "outputs": [
    {
     "name": "stdout",
     "output_type": "stream",
     "text": [
      "Predicted:  cat   ship  ship  plane\n"
     ]
    }
   ],
   "source": [
    "outputs = net(images)\n",
    "_, predicted = torch.max(outputs, 1)\n",
    "\n",
    "print('Predicted: ', ' '.join(f'{classes[predicted[j]]:5s}'\n",
    "                              for j in range(4)))"
   ]
  },
  {
   "cell_type": "code",
   "execution_count": null,
   "metadata": {
    "colab": {
     "base_uri": "https://localhost:8080/"
    },
    "id": "w5CdpKVaET3u",
    "outputId": "fc55df83-4b9e-4abb-f10f-41ef52f28895"
   },
   "outputs": [
    {
     "name": "stdout",
     "output_type": "stream",
     "text": [
      "Accuracy for class: plane is 59.9 %\n",
      "Accuracy for class: car   is 78.6 %\n",
      "Accuracy for class: bird  is 59.6 %\n",
      "Accuracy for class: cat   is 31.5 %\n",
      "Accuracy for class: deer  is 58.3 %\n",
      "Accuracy for class: dog   is 55.0 %\n",
      "Accuracy for class: frog  is 67.6 %\n",
      "Accuracy for class: horse is 69.1 %\n",
      "Accuracy for class: ship  is 84.2 %\n",
      "Accuracy for class: truck is 57.0 %\n"
     ]
    }
   ],
   "source": [
    "# prepare to count predictions for each class\n",
    "correct_pred = {classname: 0 for classname in classes}\n",
    "total_pred = {classname: 0 for classname in classes}\n",
    "\n",
    "# again no gradients needed\n",
    "with torch.no_grad():\n",
    "    for data in testloader:\n",
    "        images, labels = data\n",
    "        outputs = net(images)\n",
    "        _, predictions = torch.max(outputs, 1)\n",
    "        # collect the correct predictions for each class\n",
    "        for label, prediction in zip(labels, predictions):\n",
    "            if label == prediction:\n",
    "                correct_pred[classes[label]] += 1\n",
    "            total_pred[classes[label]] += 1\n",
    "\n",
    "\n",
    "# print accuracy for each class\n",
    "for classname, correct_count in correct_pred.items():\n",
    "    accuracy = 100 * float(correct_count) / total_pred[classname]\n",
    "    print(f'Accuracy for class: {classname:5s} is {accuracy:.1f} %')"
   ]
  },
  {
   "cell_type": "code",
   "execution_count": null,
   "metadata": {
    "id": "BCZL_W4lPR0h"
   },
   "outputs": [],
   "source": []
  },
  {
   "cell_type": "markdown",
   "metadata": {
    "id": "opdIAb1prhlI"
   },
   "source": [
    "The outcome we want:\n",
    "A graph of the test error vs. the number of parameters.\n",
    "We want to show the double-descent phenomenon.\n",
    "\n",
    "Additions:\n",
    "- We want to show the train-error as well - possibly on the same graph as the test error.\n",
    "- A graph of the convergance time (# of epochs) vs. the number of parameters (?) Something like this. Can be nice to talk about the convergance time maybe.\n",
    "\n",
    "The experiments that we want to do:\n",
    "- We want to have at least 15 data-points (we may need more).\n",
    "- So we will make at least 15 neural networks with different # of parameters approximately uniform between 10000-50000.\n",
    "- For each experiment, we save the following:\n",
    "  - All train and test accuracy, and loss values throughout the learning process (saved to csv file).\n"
   ]
  },
  {
   "cell_type": "markdown",
   "metadata": {
    "id": "GGXsm7dZ1YBN"
   },
   "source": [
    "The order of experiments: 40 epochs of each experiments\n",
    "Raz will run: From 12000 and up until 30000, with ~3000 granularity\n",
    "Itay will run: From 45000 and down to 30000, with ~3000 granularity"
   ]
  },
  {
   "cell_type": "code",
   "execution_count": null,
   "metadata": {
    "id": "vFhgm5691Xxn"
   },
   "outputs": [],
   "source": []
  }
 ],
 "metadata": {
  "colab": {
   "provenance": []
  },
  "kernelspec": {
   "display_name": ".conda-default:Python",
   "language": "python",
   "name": "conda-env-.conda-default-py"
  },
  "language_info": {
   "codemirror_mode": {
    "name": "ipython",
    "version": 3
   },
   "file_extension": ".py",
   "mimetype": "text/x-python",
   "name": "python",
   "nbconvert_exporter": "python",
   "pygments_lexer": "ipython3",
   "version": "3.9.19"
  }
 },
 "nbformat": 4,
 "nbformat_minor": 4
}
