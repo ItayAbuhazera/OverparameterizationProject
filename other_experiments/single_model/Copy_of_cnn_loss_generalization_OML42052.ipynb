{
  "nbformat": 4,
  "nbformat_minor": 0,
  "metadata": {
    "colab": {
      "provenance": []
    },
    "kernelspec": {
      "name": "python3",
      "display_name": "Python 3"
    },
    "language_info": {
      "name": "python"
    }
  },
  "cells": [
    {
      "cell_type": "code",
      "execution_count": 1,
      "metadata": {
        "id": "kzlidVIfDSyJ"
      },
      "outputs": [],
      "source": [
        "import torch\n",
        "import torchvision\n",
        "from torchvision import datasets, transforms\n",
        "import torch.optim as optim\n",
        "import matplotlib.pyplot as plt\n",
        "import numpy as np\n",
        "import pandas as pd"
      ]
    },
    {
      "cell_type": "code",
      "source": [
        "from google.colab import drive\n",
        "drive.mount('/content/drive')"
      ],
      "metadata": {
        "colab": {
          "base_uri": "https://localhost:8080/"
        },
        "id": "oJX7kWyquHY_",
        "outputId": "6725a430-be27-4498-ced3-2fe4048b4a75"
      },
      "execution_count": 3,
      "outputs": [
        {
          "output_type": "stream",
          "name": "stdout",
          "text": [
            "Mounted at /content/drive\n"
          ]
        }
      ]
    },
    {
      "cell_type": "code",
      "source": [
        "classes = ('plane', 'car', 'bird', 'cat',\n",
        "           'deer', 'dog', 'frog', 'horse', 'ship', 'truck')\n",
        "\n",
        "# ---------------------- Filter to our wanted classes only ---------------------\n",
        "# Define the classes you want to keep (e.g., class 0 and class 1)\n",
        "# classes = ('car', 'frog', 'horse', 'ship')\n",
        "classes_to_keep = [1, 6, 7, 8]\n",
        "\n",
        "# Define the transformation for the dataset\n",
        "transform = transforms.Compose([\n",
        "    transforms.ToTensor(),\n",
        "    transforms.Normalize((0.5, 0.5, 0.5), (0.5, 0.5, 0.5)),\n",
        "])\n",
        "\n",
        "# Load the CIFAR-10 dataset\n",
        "trainset = datasets.CIFAR10(root='./data', train=True, download=True, transform=transform)\n",
        "testset = datasets.CIFAR10(root='./data', train=False, download=True, transform=transform)\n",
        "\n",
        "# Function to filter the dataset by the specified classes\n",
        "def filter_dataset_by_class(dataset, classes):\n",
        "    # Get the data and targets\n",
        "    data, targets = dataset.data, torch.tensor(dataset.targets)\n",
        "\n",
        "    # Create a mask for the classes you want to keep\n",
        "    mask = torch.isin(targets, torch.tensor(classes))\n",
        "\n",
        "    # Filter the data and targets\n",
        "    filtered_data = data[mask.numpy()]\n",
        "    filtered_targets = targets[mask].numpy()\n",
        "\n",
        "    for i in range(len(filtered_targets)):\n",
        "      filtered_targets[i] = classes.index(filtered_targets[i])\n",
        "\n",
        "    # Update the dataset's data and targets\n",
        "    dataset.data = filtered_data\n",
        "    dataset.targets = filtered_targets\n",
        "\n",
        "# Size of the unfiltered sets\n",
        "print(f'Unfiltered train set size: {len(trainset)}')\n",
        "print(f'Unfiltered test set size: {len(testset)}')\n",
        "print(f'Unfiltered classes: {trainset.classes}')\n",
        "\n",
        "# Filter the train and test sets\n",
        "filter_dataset_by_class(trainset, classes_to_keep)\n",
        "filter_dataset_by_class(testset, classes_to_keep)\n",
        "\n",
        "# Now the trainset and testset objects are still CIFAR10 datasets, but only contain the selected classes\n",
        "print(f'Filtered train set size: {len(trainset)}')\n",
        "print(f'Filtered test set size: {len(testset)}')\n",
        "print(f'Filtered classes: {trainset.classes}')\n",
        "\n",
        "# Create DataLoader for the filtered datasets\n",
        "batch_size = 4\n",
        "trainloader = torch.utils.data.DataLoader(trainset, batch_size=batch_size, shuffle=True, num_workers=2)\n",
        "testloader = torch.utils.data.DataLoader(testset, batch_size=batch_size, shuffle=False, num_workers=2)\n",
        "\n",
        "# Example: Iterate through the filtered trainloader\n",
        "for i, (images, labels) in enumerate(trainloader):\n",
        "    print(f'Batch size: {images.size(0)}, Labels: {labels}')\n",
        "    if i == 3:\n",
        "      break\n",
        "\n",
        "print(trainset)\n",
        "print(testset)"
      ],
      "metadata": {
        "colab": {
          "base_uri": "https://localhost:8080/"
        },
        "id": "IrNT8njmDblN",
        "outputId": "bf9f0c34-7129-402d-b2ee-8202434be2ac"
      },
      "execution_count": 12,
      "outputs": [
        {
          "output_type": "stream",
          "name": "stdout",
          "text": [
            "Files already downloaded and verified\n",
            "Files already downloaded and verified\n",
            "Unfiltered train set size: 50000\n",
            "Unfiltered test set size: 10000\n",
            "Unfiltered classes: ['airplane', 'automobile', 'bird', 'cat', 'deer', 'dog', 'frog', 'horse', 'ship', 'truck']\n",
            "Filtered train set size: 20000\n",
            "Filtered test set size: 4000\n",
            "Filtered classes: ['airplane', 'automobile', 'bird', 'cat', 'deer', 'dog', 'frog', 'horse', 'ship', 'truck']\n",
            "Batch size: 4, Labels: tensor([3, 0, 1, 1])\n",
            "Batch size: 4, Labels: tensor([0, 2, 2, 3])\n",
            "Batch size: 4, Labels: tensor([3, 3, 1, 0])\n",
            "Batch size: 4, Labels: tensor([1, 2, 3, 3])\n",
            "Dataset CIFAR10\n",
            "    Number of datapoints: 20000\n",
            "    Root location: ./data\n",
            "    Split: Train\n",
            "    StandardTransform\n",
            "Transform: Compose(\n",
            "               ToTensor()\n",
            "               Normalize(mean=(0.5, 0.5, 0.5), std=(0.5, 0.5, 0.5))\n",
            "           )\n",
            "Dataset CIFAR10\n",
            "    Number of datapoints: 4000\n",
            "    Root location: ./data\n",
            "    Split: Test\n",
            "    StandardTransform\n",
            "Transform: Compose(\n",
            "               ToTensor()\n",
            "               Normalize(mean=(0.5, 0.5, 0.5), std=(0.5, 0.5, 0.5))\n",
            "           )\n"
          ]
        }
      ]
    },
    {
      "cell_type": "code",
      "source": [
        "classes = ('car', 'frog', 'horse', 'ship')\n",
        "# functions to show an image\n",
        "def imshow(img):\n",
        "    img = img / 2 + 0.5     # unnormalize\n",
        "    npimg = img.numpy()\n",
        "    plt.imshow(np.transpose(npimg, (1, 2, 0)))\n",
        "    plt.show()\n",
        "\n",
        "\n",
        "# get some random training images\n",
        "dataiter = iter(trainloader)\n",
        "images, labels = next(dataiter)\n",
        "\n",
        "# show images\n",
        "imshow(torchvision.utils.make_grid(images))\n",
        "# print labels\n",
        "print(' '.join(f'{classes[labels[j]]:5s}' for j in range(batch_size)))"
      ],
      "metadata": {
        "colab": {
          "base_uri": "https://localhost:8080/",
          "height": 210
        },
        "id": "YU8wTj-LDhm4",
        "outputId": "185dbd06-a890-4de1-cacb-480c96743e6c"
      },
      "execution_count": 13,
      "outputs": [
        {
          "output_type": "display_data",
          "data": {
            "text/plain": [
              "<Figure size 640x480 with 1 Axes>"
            ],
            "image/png": "[encoded data removed]"
          },
          "metadata": {}
        },
        {
          "output_type": "stream",
          "name": "stdout",
          "text": [
            "car   plane car   bird \n"
          ]
        }
      ]
    },
    {
      "cell_type": "code",
      "source": [
        "import torch.nn as nn\n",
        "import torch.nn.functional as F\n",
        "\n",
        "class Net(nn.Module):\n",
        "    def __init__(self):\n",
        "        super().__init__()\n",
        "        self.conv1 = nn.Conv2d(3, 6, 5)  # Keep conv1 as is\n",
        "        self.pool = nn.MaxPool2d(2, 2)\n",
        "\n",
        "        # Reduce the number of output channels in conv2 slightly\n",
        "        self.conv2 = nn.Conv2d(6, 12, 5)  # Adjust conv2 to 11 output channels\n",
        "\n",
        "        # Adjust the fully connected layers slightly to reduce parameters\n",
        "        self.fc1 = nn.Linear(12 * 5 * 5, 110)  # Adjust fc1 to 110 output units\n",
        "        self.fc2 = nn.Linear(110, 58)  # Adjust fc2 to 55 output units\n",
        "        self.fc3 = nn.Linear(58, 4)  # Keep fc3 as is\n",
        "\n",
        "    def forward(self, x):\n",
        "        x = self.pool(F.relu(self.conv1(x)))\n",
        "        x = self.pool(F.relu(self.conv2(x)))\n",
        "        x = torch.flatten(x, 1)  # flatten all dimensions except batch\n",
        "        x = F.relu(self.fc1(x))\n",
        "        x = F.relu(self.fc2(x))\n",
        "        x = self.fc3(x)\n",
        "        return x\n",
        "\n",
        "\n",
        "net = Net()"
      ],
      "metadata": {
        "id": "oIkGlUKADlpq"
      },
      "execution_count": 25,
      "outputs": []
    },
    {
      "cell_type": "code",
      "source": [
        "# Number of learnable parameters in the model\n",
        "pytorch_total_params = sum(p.numel() for p in net.parameters() if p.requires_grad)\n",
        "print(pytorch_total_params)"
      ],
      "metadata": {
        "colab": {
          "base_uri": "https://localhost:8080/"
        },
        "id": "GPf8RpIpJtbs",
        "outputId": "f4233fca-c241-4f18-83db-4c0e7c0c540d"
      },
      "execution_count": 26,
      "outputs": [
        {
          "output_type": "stream",
          "name": "stdout",
          "text": [
            "42052\n"
          ]
        }
      ]
    },
    {
      "cell_type": "code",
      "source": [
        "criterion = nn.CrossEntropyLoss()\n",
        "optimizer = optim.SGD(net.parameters(), lr=0.001, momentum=0.9)"
      ],
      "metadata": {
        "id": "mL7VgGVjDsh_"
      },
      "execution_count": 27,
      "outputs": []
    },
    {
      "cell_type": "code",
      "source": [
        "def accuracy(net, test=False):\n",
        "  # Let's test on the whole test-set\n",
        "  correct = 0\n",
        "  total = 0\n",
        "  # since we're not training, we don't need to calculate the gradients for our outputs\n",
        "  dataloader = testloader if test else trainloader\n",
        "  with torch.no_grad():\n",
        "      for data in dataloader:\n",
        "          images, labels = data\n",
        "          # calculate outputs by running images through the network\n",
        "          outputs = net(images)\n",
        "          loss = criterion(outputs, labels)\n",
        "          # the class with the highest energy is what we choose as prediction\n",
        "          _, predicted = torch.max(outputs.data, 1)\n",
        "          total += labels.size(0)\n",
        "          correct += (predicted == labels).sum().item()\n",
        "  accuracy = 100 * correct // total\n",
        "  # print(f'Accuracy of the network on the {\"test\" if test else \"train\"} images: {100 * correct // total} %')\n",
        "  return accuracy, loss.item()\n"
      ],
      "metadata": {
        "id": "5oaijBg2EPdl"
      },
      "execution_count": 28,
      "outputs": []
    },
    {
      "cell_type": "code",
      "source": [
        "n_epochs = 40\n",
        "train_accuracy = []\n",
        "test_accuracy = []\n",
        "train_losses = []\n",
        "test_losses = []\n",
        "for epoch in range(n_epochs):  # loop over the dataset multiple times\n",
        "\n",
        "    running_loss = 0.0\n",
        "    for i, data in enumerate(trainloader, 0):\n",
        "        # get the inputs; data is a list of [inputs, labels]\n",
        "        inputs, labels = data\n",
        "\n",
        "        # zero the parameter gradients\n",
        "        optimizer.zero_grad()\n",
        "\n",
        "        # forward + backward + optimize\n",
        "        outputs = net(inputs)\n",
        "        loss = criterion(outputs, labels)\n",
        "        loss.backward()\n",
        "        optimizer.step()\n",
        "\n",
        "        # print statistics\n",
        "        running_loss += loss.item()\n",
        "        if i % 2000 == 1999:    # print every 2000 mini-batches\n",
        "            print(f'[{epoch + 1}, {i + 1:5d}] loss: {running_loss / 2000:.3f}')\n",
        "            running_loss = 0.0\n",
        "\n",
        "    n_samples = trainloader.dataset.data.shape[0]\n",
        "\n",
        "    # Calculate train accuracy\n",
        "    train_acc, train_loss = accuracy(net)\n",
        "    train_accuracy.append(train_acc)\n",
        "    train_losses.append(train_loss)\n",
        "\n",
        "    # Calculate test accuracy\n",
        "    test_acc, test_loss = accuracy(net, test=True)\n",
        "    test_accuracy.append(test_acc)\n",
        "    test_losses.append(test_loss)\n",
        "\n",
        "    print(f'Epoch {epoch+1}, Train accuracy: {train_acc}, Test accuracy: {test_acc}, Train loss: {train_loss}, Test loss: {test_loss}')\n",
        "\n",
        "print('Finished Training')"
      ],
      "metadata": {
        "colab": {
          "base_uri": "https://localhost:8080/"
        },
        "id": "3FFCce0yD13y",
        "outputId": "733aa5e1-db70-4288-95ba-71cb899f25f2"
      },
      "execution_count": null,
      "outputs": [
        {
          "output_type": "stream",
          "name": "stdout",
          "text": [
            "[1,  2000] loss: 1.238\n",
            "[1,  4000] loss: 0.799\n",
            "Epoch 1, Train accuracy: 77, Test accuracy: 76, Train loss: 0.9672970771789551, Test loss: 0.8436278104782104\n",
            "[2,  2000] loss: 0.609\n",
            "[2,  4000] loss: 0.531\n",
            "Epoch 2, Train accuracy: 84, Test accuracy: 82, Train loss: 0.3973563611507416, Test loss: 0.08870242536067963\n",
            "[3,  2000] loss: 0.453\n",
            "[3,  4000] loss: 0.429\n",
            "Epoch 3, Train accuracy: 86, Test accuracy: 85, Train loss: 0.05520130693912506, Test loss: 0.04604426026344299\n",
            "[4,  2000] loss: 0.383\n",
            "[4,  4000] loss: 0.370\n",
            "Epoch 4, Train accuracy: 89, Test accuracy: 88, Train loss: 0.735341489315033, Test loss: 0.12602396309375763\n",
            "[5,  2000] loss: 0.331\n",
            "[5,  4000] loss: 0.314\n",
            "Epoch 5, Train accuracy: 88, Test accuracy: 86, Train loss: 0.03766263276338577, Test loss: 0.07594490796327591\n",
            "[6,  2000] loss: 0.273\n",
            "[6,  4000] loss: 0.296\n",
            "Epoch 6, Train accuracy: 90, Test accuracy: 87, Train loss: 0.1685776263475418, Test loss: 0.08781614154577255\n",
            "[7,  2000] loss: 0.244\n",
            "[7,  4000] loss: 0.266\n",
            "Epoch 7, Train accuracy: 92, Test accuracy: 88, Train loss: 0.009998439811170101, Test loss: 0.16889284551143646\n",
            "[8,  2000] loss: 0.222\n",
            "[8,  4000] loss: 0.230\n",
            "Epoch 8, Train accuracy: 93, Test accuracy: 89, Train loss: 0.02762017585337162, Test loss: 0.02499506250023842\n",
            "[9,  2000] loss: 0.185\n",
            "[9,  4000] loss: 0.200\n",
            "Epoch 9, Train accuracy: 94, Test accuracy: 88, Train loss: 0.011658042669296265, Test loss: 0.02959924191236496\n",
            "[10,  2000] loss: 0.162\n",
            "[10,  4000] loss: 0.183\n",
            "Epoch 10, Train accuracy: 92, Test accuracy: 87, Train loss: 0.34192678332328796, Test loss: 0.018339024856686592\n",
            "[11,  2000] loss: 0.151\n",
            "[11,  4000] loss: 0.172\n",
            "Epoch 11, Train accuracy: 92, Test accuracy: 86, Train loss: 0.21919666230678558, Test loss: 0.03764845058321953\n",
            "[12,  2000] loss: 0.125\n",
            "[12,  4000] loss: 0.149\n",
            "Epoch 12, Train accuracy: 94, Test accuracy: 87, Train loss: 0.024312088266015053, Test loss: 0.3462020456790924\n",
            "[13,  2000] loss: 0.127\n",
            "[13,  4000] loss: 0.129\n",
            "Epoch 13, Train accuracy: 96, Test accuracy: 88, Train loss: 0.007777368184179068, Test loss: 0.019337043166160583\n",
            "[14,  2000] loss: 0.111\n",
            "[14,  4000] loss: 0.130\n",
            "Epoch 14, Train accuracy: 94, Test accuracy: 86, Train loss: 0.0566093847155571, Test loss: 0.4689495265483856\n",
            "[15,  2000] loss: 0.088\n",
            "[15,  4000] loss: 0.119\n",
            "Epoch 15, Train accuracy: 97, Test accuracy: 87, Train loss: 0.7799170017242432, Test loss: 0.0029921820387244225\n",
            "[16,  2000] loss: 0.089\n",
            "[16,  4000] loss: 0.099\n",
            "Epoch 16, Train accuracy: 96, Test accuracy: 87, Train loss: 0.1513630449771881, Test loss: 0.006626476068049669\n",
            "[17,  2000] loss: 0.075\n",
            "[17,  4000] loss: 0.086\n",
            "Epoch 17, Train accuracy: 97, Test accuracy: 88, Train loss: 0.08226880431175232, Test loss: 0.017440568655729294\n",
            "[18,  2000] loss: 0.073\n",
            "[18,  4000] loss: 0.084\n",
            "Epoch 18, Train accuracy: 95, Test accuracy: 86, Train loss: 1.3470453268382698e-05, Test loss: 0.009873057715594769\n",
            "[19,  2000] loss: 0.061\n",
            "[19,  4000] loss: 0.087\n",
            "Epoch 19, Train accuracy: 96, Test accuracy: 87, Train loss: 0.017915120348334312, Test loss: 0.04126684367656708\n",
            "[20,  2000] loss: 0.058\n",
            "[20,  4000] loss: 0.067\n",
            "Epoch 20, Train accuracy: 98, Test accuracy: 88, Train loss: 0.02509814128279686, Test loss: 0.05735541135072708\n",
            "[21,  2000] loss: 0.071\n",
            "[21,  4000] loss: 0.083\n",
            "Epoch 21, Train accuracy: 98, Test accuracy: 88, Train loss: 0.006521220784634352, Test loss: 0.0035755785647779703\n",
            "[22,  2000] loss: 0.056\n",
            "[22,  4000] loss: 0.057\n",
            "Epoch 22, Train accuracy: 98, Test accuracy: 87, Train loss: 0.002079484984278679, Test loss: 0.0019945811945945024\n",
            "[23,  2000] loss: 0.050\n",
            "[23,  4000] loss: 0.068\n",
            "Epoch 23, Train accuracy: 97, Test accuracy: 86, Train loss: 0.013296038843691349, Test loss: 0.028327155858278275\n",
            "[24,  2000] loss: 0.041\n",
            "[24,  4000] loss: 0.064\n",
            "Epoch 24, Train accuracy: 98, Test accuracy: 87, Train loss: 0.0004672813229262829, Test loss: 0.000315154786221683\n",
            "[25,  2000] loss: 0.037\n",
            "[25,  4000] loss: 0.065\n",
            "Epoch 25, Train accuracy: 94, Test accuracy: 85, Train loss: 0.002821157220751047, Test loss: 0.2923806309700012\n",
            "[26,  2000] loss: 0.052\n",
            "[26,  4000] loss: 0.048\n",
            "Epoch 26, Train accuracy: 98, Test accuracy: 88, Train loss: 0.007884022779762745, Test loss: 0.00960614625364542\n",
            "[27,  2000] loss: 0.052\n",
            "[27,  4000] loss: 0.050\n",
            "Epoch 27, Train accuracy: 99, Test accuracy: 88, Train loss: 0.009629438631236553, Test loss: 9.238553502655122e-06\n",
            "[28,  2000] loss: 0.063\n",
            "[28,  4000] loss: 0.057\n",
            "Epoch 28, Train accuracy: 97, Test accuracy: 87, Train loss: 8.821338269626722e-06, Test loss: 0.03536687791347504\n",
            "[29,  2000] loss: 0.027\n",
            "[29,  4000] loss: 0.036\n",
            "Epoch 29, Train accuracy: 99, Test accuracy: 88, Train loss: 7.83791983849369e-06, Test loss: 0.00030612401315011084\n",
            "[30,  2000] loss: 0.029\n",
            "[30,  4000] loss: 0.043\n",
            "Epoch 30, Train accuracy: 99, Test accuracy: 88, Train loss: 0.006430556531995535, Test loss: 0.08690008521080017\n",
            "[31,  2000] loss: 0.024\n",
            "[31,  4000] loss: 0.030\n",
            "Epoch 31, Train accuracy: 98, Test accuracy: 88, Train loss: 0.46221596002578735, Test loss: 0.3120833933353424\n",
            "[32,  2000] loss: 0.029\n",
            "[32,  4000] loss: 0.059\n",
            "Epoch 32, Train accuracy: 99, Test accuracy: 88, Train loss: 7.780200394336134e-05, Test loss: 0.03244578465819359\n",
            "[33,  2000] loss: 0.041\n",
            "[33,  4000] loss: 0.035\n",
            "Epoch 33, Train accuracy: 98, Test accuracy: 88, Train loss: 0.00021915548131801188, Test loss: 0.00022538333723787218\n",
            "[34,  2000] loss: 0.021\n",
            "[34,  4000] loss: 0.033\n",
            "Epoch 34, Train accuracy: 96, Test accuracy: 86, Train loss: 0.0015150507679209113, Test loss: 5.0004506192635745e-05\n",
            "[35,  2000] loss: 0.038\n",
            "[35,  4000] loss: 0.057\n",
            "Epoch 35, Train accuracy: 99, Test accuracy: 88, Train loss: 8.344520210812334e-06, Test loss: 0.07478368282318115\n",
            "[36,  2000] loss: 0.026\n",
            "[36,  4000] loss: 0.031\n",
            "Epoch 36, Train accuracy: 99, Test accuracy: 88, Train loss: 0.0026242206804454327, Test loss: 0.016302021220326424\n",
            "[37,  2000] loss: 0.027\n",
            "[37,  4000] loss: 0.023\n",
            "Epoch 37, Train accuracy: 99, Test accuracy: 87, Train loss: 0.0016688966425135732, Test loss: 0.10583348572254181\n",
            "[38,  2000] loss: 0.019\n",
            "[38,  4000] loss: 0.030\n",
            "Epoch 38, Train accuracy: 99, Test accuracy: 88, Train loss: 7.748489224468358e-06, Test loss: 0.0884077325463295\n",
            "[39,  2000] loss: 0.036\n",
            "[39,  4000] loss: 0.020\n",
            "Epoch 39, Train accuracy: 99, Test accuracy: 88, Train loss: 5.990234967612196e-06, Test loss: 0.00015443374286405742\n",
            "[40,  2000] loss: 0.016\n",
            "[40,  4000] loss: 0.039\n"
          ]
        }
      ]
    },
    {
      "cell_type": "code",
      "source": [
        "dir_path = '/content/drive/MyDrive/MSc courses/OML project/4_class_cnn/42052/'\n",
        "\n",
        "# Create a directory for the experiment\n",
        "import os\n",
        "os.makedirs(dir_path, exist_ok=True)\n",
        "\n",
        "# Save the net\n",
        "PATH = dir_path + 'model_42052.pth'\n",
        "torch.save(net.state_dict(), PATH)\n",
        "\n",
        "# Save the accuracy (train, test), and loss\n",
        "df = pd.DataFrame({'train_accuracy': train_accuracy, 'test_accuracy': test_accuracy, 'train_loss': train_losses, 'test_loss': test_losses})\n",
        "df.to_csv(dir_path + 'results_42052.csv', index=False)"
      ],
      "metadata": {
        "id": "nOxIYePXD7uM"
      },
      "execution_count": null,
      "outputs": []
    },
    {
      "cell_type": "code",
      "source": [
        "print(accuracy(net, test=False))\n",
        "print(accuracy(net, test=True))"
      ],
      "metadata": {
        "colab": {
          "base_uri": "https://localhost:8080/"
        },
        "id": "NVTF6zYdIiYA",
        "outputId": "68237334-f4c3-4d41-a9cb-77c9636c98fe"
      },
      "execution_count": 20,
      "outputs": [
        {
          "output_type": "stream",
          "name": "stdout",
          "text": [
            "(99, 3.8742987840123533e-07)\n",
            "(88, 4.1450300216674805)\n"
          ]
        }
      ]
    },
    {
      "cell_type": "code",
      "source": [
        "classes = ('car', 'frog', 'horse', 'ship')\n",
        "dataiter = iter(testloader)\n",
        "images, labels = next(dataiter)\n",
        "\n",
        "# print images\n",
        "imshow(torchvision.utils.make_grid(images))\n",
        "print('GroundTruth: ', ' '.join(f'{classes[labels[j]]:5s}' for j in range(4)))"
      ],
      "metadata": {
        "colab": {
          "base_uri": "https://localhost:8080/",
          "height": 210
        },
        "id": "4j3f2bwMEKp0",
        "outputId": "8c1cf6b6-7aaa-409c-e232-81feceb4bfa2"
      },
      "execution_count": 21,
      "outputs": [
        {
          "output_type": "display_data",
          "data": {
            "text/plain": [
              "<Figure size 640x480 with 1 Axes>"
            ],
            "image/png": "[encoded data removed]"
          },
          "metadata": {}
        },
        {
          "output_type": "stream",
          "name": "stdout",
          "text": [
            "GroundTruth:  ship  ship  frog  frog \n"
          ]
        }
      ]
    },
    {
      "cell_type": "code",
      "source": [
        "# Load the network we learned\n",
        "net = Net()\n",
        "net.load_state_dict(torch.load(PATH))"
      ],
      "metadata": {
        "colab": {
          "base_uri": "https://localhost:8080/"
        },
        "id": "rzc5x5UKELOP",
        "outputId": "2e6ab9ee-c265-424b-c70b-6b4d4d1573ea"
      },
      "execution_count": null,
      "outputs": [
        {
          "output_type": "execute_result",
          "data": {
            "text/plain": [
              "<All keys matched successfully>"
            ]
          },
          "metadata": {},
          "execution_count": 12
        }
      ]
    },
    {
      "cell_type": "code",
      "source": [
        "outputs = net(images)\n",
        "_, predicted = torch.max(outputs, 1)\n",
        "\n",
        "print('Predicted: ', ' '.join(f'{classes[predicted[j]]:5s}'\n",
        "                              for j in range(4)))"
      ],
      "metadata": {
        "colab": {
          "base_uri": "https://localhost:8080/"
        },
        "id": "qZEhdiH1EM_l",
        "outputId": "f117a888-daa2-4f66-dded-f8f7b9c4680a"
      },
      "execution_count": 22,
      "outputs": [
        {
          "output_type": "stream",
          "name": "stdout",
          "text": [
            "Predicted:  car   ship  frog  frog \n"
          ]
        }
      ]
    },
    {
      "cell_type": "code",
      "source": [
        "# prepare to count predictions for each class\n",
        "correct_pred = {classname: 0 for classname in classes}\n",
        "total_pred = {classname: 0 for classname in classes}\n",
        "\n",
        "# again no gradients needed\n",
        "with torch.no_grad():\n",
        "    for data in testloader:\n",
        "        images, labels = data\n",
        "        outputs = net(images)\n",
        "        _, predictions = torch.max(outputs, 1)\n",
        "        # collect the correct predictions for each class\n",
        "        for label, prediction in zip(labels, predictions):\n",
        "            if label == prediction:\n",
        "                correct_pred[classes[label]] += 1\n",
        "            total_pred[classes[label]] += 1\n",
        "\n",
        "\n",
        "# print accuracy for each class\n",
        "for classname, correct_count in correct_pred.items():\n",
        "    accuracy = 100 * float(correct_count) / total_pred[classname]\n",
        "    print(f'Accuracy for class: {classname:5s} is {accuracy:.1f} %')"
      ],
      "metadata": {
        "colab": {
          "base_uri": "https://localhost:8080/"
        },
        "id": "w5CdpKVaET3u",
        "outputId": "fc55df83-4b9e-4abb-f10f-41ef52f28895"
      },
      "execution_count": null,
      "outputs": [
        {
          "output_type": "stream",
          "name": "stdout",
          "text": [
            "Accuracy for class: plane is 59.9 %\n",
            "Accuracy for class: car   is 78.6 %\n",
            "Accuracy for class: bird  is 59.6 %\n",
            "Accuracy for class: cat   is 31.5 %\n",
            "Accuracy for class: deer  is 58.3 %\n",
            "Accuracy for class: dog   is 55.0 %\n",
            "Accuracy for class: frog  is 67.6 %\n",
            "Accuracy for class: horse is 69.1 %\n",
            "Accuracy for class: ship  is 84.2 %\n",
            "Accuracy for class: truck is 57.0 %\n"
          ]
        }
      ]
    },
    {
      "cell_type": "code",
      "source": [],
      "metadata": {
        "id": "BCZL_W4lPR0h"
      },
      "execution_count": null,
      "outputs": []
    },
    {
      "cell_type": "markdown",
      "source": [
        "The outcome we want:\n",
        "A graph of the test error vs. the number of parameters.\n",
        "We want to show the double-descent phenomenon.\n",
        "\n",
        "Additions:\n",
        "- We want to show the train-error as well - possibly on the same graph as the test error.\n",
        "- A graph of the convergance time (# of epochs) vs. the number of parameters (?) Something like this. Can be nice to talk about the convergance time maybe.\n",
        "\n",
        "The experiments that we want to do:\n",
        "- We want to have at least 15 data-points (we may need more).\n",
        "- So we will make at least 15 neural networks with different # of parameters approximately uniform between 10000-50000.\n",
        "- For each experiment, we save the following:\n",
        "  - All train and test accuracy, and loss values throughout the learning process (saved to csv file).\n"
      ],
      "metadata": {
        "id": "opdIAb1prhlI"
      }
    },
    {
      "cell_type": "markdown",
      "source": [
        "The order of experiments: 40 epochs of each experiments\n",
        "Raz will run: From 12000 and up until 30000, with ~3000 granularity\n",
        "Itay will run: From 45000 and down to 30000, with ~3000 granularity"
      ],
      "metadata": {
        "id": "GGXsm7dZ1YBN"
      }
    },
    {
      "cell_type": "code",
      "source": [],
      "metadata": {
        "id": "vFhgm5691Xxn"
      },
      "execution_count": null,
      "outputs": []
    }
  ]
}