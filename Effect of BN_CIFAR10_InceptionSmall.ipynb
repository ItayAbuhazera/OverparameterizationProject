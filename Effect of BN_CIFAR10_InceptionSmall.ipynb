{
  "nbformat": 4,
  "nbformat_minor": 0,
  "metadata": {
    "colab": {
      "name": "SMAI_Project.ipynb",
      "provenance": []
    },
    "kernelspec": {
      "name": "python3",
      "display_name": "Python 3"
    },
    "language_info": {
      "name": "python"
    },
    "accelerator": "GPU",
    "widgets": {
      "application/vnd.jupyter.widget-state+json": {
        "d38557583a0e413b9ec8d4a0f2553b53": {
          "model_module": "@jupyter-widgets/controls",
          "model_name": "HBoxModel",
          "state": {
            "_view_name": "HBoxView",
            "_dom_classes": [],
            "_model_name": "HBoxModel",
            "_view_module": "@jupyter-widgets/controls",
            "_model_module_version": "1.5.0",
            "_view_count": null,
            "_view_module_version": "1.5.0",
            "box_style": "",
            "layout": "IPY_MODEL_0d6c2e016afa4e42b998af40ff088127",
            "_model_module": "@jupyter-widgets/controls",
            "children": [
              "IPY_MODEL_aff3182452ba4a939b88a1d36c3f2dff",
              "IPY_MODEL_380abf165e5540b4a0bbd96eec74d3bf"
            ]
          }
        },
        "0d6c2e016afa4e42b998af40ff088127": {
          "model_module": "@jupyter-widgets/base",
          "model_name": "LayoutModel",
          "state": {
            "_view_name": "LayoutView",
            "grid_template_rows": null,
            "right": null,
            "justify_content": null,
            "_view_module": "@jupyter-widgets/base",
            "overflow": null,
            "_model_module_version": "1.2.0",
            "_view_count": null,
            "flex_flow": null,
            "width": null,
            "min_width": null,
            "border": null,
            "align_items": null,
            "bottom": null,
            "_model_module": "@jupyter-widgets/base",
            "top": null,
            "grid_column": null,
            "overflow_y": null,
            "overflow_x": null,
            "grid_auto_flow": null,
            "grid_area": null,
            "grid_template_columns": null,
            "flex": null,
            "_model_name": "LayoutModel",
            "justify_items": null,
            "grid_row": null,
            "max_height": null,
            "align_content": null,
            "visibility": null,
            "align_self": null,
            "height": null,
            "min_height": null,
            "padding": null,
            "grid_auto_rows": null,
            "grid_gap": null,
            "max_width": null,
            "order": null,
            "_view_module_version": "1.2.0",
            "grid_template_areas": null,
            "object_position": null,
            "object_fit": null,
            "grid_auto_columns": null,
            "margin": null,
            "display": null,
            "left": null
          }
        },
        "aff3182452ba4a939b88a1d36c3f2dff": {
          "model_module": "@jupyter-widgets/controls",
          "model_name": "FloatProgressModel",
          "state": {
            "_view_name": "ProgressView",
            "style": "IPY_MODEL_d73eaa2d873a496d98eabbabdd86bb15",
            "_dom_classes": [],
            "description": "",
            "_model_name": "FloatProgressModel",
            "bar_style": "success",
            "max": 170498071,
            "_view_module": "@jupyter-widgets/controls",
            "_model_module_version": "1.5.0",
            "value": 170498071,
            "_view_count": null,
            "_view_module_version": "1.5.0",
            "orientation": "horizontal",
            "min": 0,
            "description_tooltip": null,
            "_model_module": "@jupyter-widgets/controls",
            "layout": "IPY_MODEL_ce732079317940318355a80dd2107aed"
          }
        },
        "380abf165e5540b4a0bbd96eec74d3bf": {
          "model_module": "@jupyter-widgets/controls",
          "model_name": "HTMLModel",
          "state": {
            "_view_name": "HTMLView",
            "style": "IPY_MODEL_59b69a769a1342baac4fd5dbb55173b2",
            "_dom_classes": [],
            "description": "",
            "_model_name": "HTMLModel",
            "placeholder": "​",
            "_view_module": "@jupyter-widgets/controls",
            "_model_module_version": "1.5.0",
            "value": " 170499072/? [05:13&lt;00:00, 544059.82it/s]",
            "_view_count": null,
            "_view_module_version": "1.5.0",
            "description_tooltip": null,
            "_model_module": "@jupyter-widgets/controls",
            "layout": "IPY_MODEL_7b30afcd703849ffa8f6dd7390ff722e"
          }
        },
        "d73eaa2d873a496d98eabbabdd86bb15": {
          "model_module": "@jupyter-widgets/controls",
          "model_name": "ProgressStyleModel",
          "state": {
            "_view_name": "StyleView",
            "_model_name": "ProgressStyleModel",
            "description_width": "initial",
            "_view_module": "@jupyter-widgets/base",
            "_model_module_version": "1.5.0",
            "_view_count": null,
            "_view_module_version": "1.2.0",
            "bar_color": null,
            "_model_module": "@jupyter-widgets/controls"
          }
        },
        "ce732079317940318355a80dd2107aed": {
          "model_module": "@jupyter-widgets/base",
          "model_name": "LayoutModel",
          "state": {
            "_view_name": "LayoutView",
            "grid_template_rows": null,
            "right": null,
            "justify_content": null,
            "_view_module": "@jupyter-widgets/base",
            "overflow": null,
            "_model_module_version": "1.2.0",
            "_view_count": null,
            "flex_flow": null,
            "width": null,
            "min_width": null,
            "border": null,
            "align_items": null,
            "bottom": null,
            "_model_module": "@jupyter-widgets/base",
            "top": null,
            "grid_column": null,
            "overflow_y": null,
            "overflow_x": null,
            "grid_auto_flow": null,
            "grid_area": null,
            "grid_template_columns": null,
            "flex": null,
            "_model_name": "LayoutModel",
            "justify_items": null,
            "grid_row": null,
            "max_height": null,
            "align_content": null,
            "visibility": null,
            "align_self": null,
            "height": null,
            "min_height": null,
            "padding": null,
            "grid_auto_rows": null,
            "grid_gap": null,
            "max_width": null,
            "order": null,
            "_view_module_version": "1.2.0",
            "grid_template_areas": null,
            "object_position": null,
            "object_fit": null,
            "grid_auto_columns": null,
            "margin": null,
            "display": null,
            "left": null
          }
        },
        "59b69a769a1342baac4fd5dbb55173b2": {
          "model_module": "@jupyter-widgets/controls",
          "model_name": "DescriptionStyleModel",
          "state": {
            "_view_name": "StyleView",
            "_model_name": "DescriptionStyleModel",
            "description_width": "",
            "_view_module": "@jupyter-widgets/base",
            "_model_module_version": "1.5.0",
            "_view_count": null,
            "_view_module_version": "1.2.0",
            "_model_module": "@jupyter-widgets/controls"
          }
        },
        "7b30afcd703849ffa8f6dd7390ff722e": {
          "model_module": "@jupyter-widgets/base",
          "model_name": "LayoutModel",
          "state": {
            "_view_name": "LayoutView",
            "grid_template_rows": null,
            "right": null,
            "justify_content": null,
            "_view_module": "@jupyter-widgets/base",
            "overflow": null,
            "_model_module_version": "1.2.0",
            "_view_count": null,
            "flex_flow": null,
            "width": null,
            "min_width": null,
            "border": null,
            "align_items": null,
            "bottom": null,
            "_model_module": "@jupyter-widgets/base",
            "top": null,
            "grid_column": null,
            "overflow_y": null,
            "overflow_x": null,
            "grid_auto_flow": null,
            "grid_area": null,
            "grid_template_columns": null,
            "flex": null,
            "_model_name": "LayoutModel",
            "justify_items": null,
            "grid_row": null,
            "max_height": null,
            "align_content": null,
            "visibility": null,
            "align_self": null,
            "height": null,
            "min_height": null,
            "padding": null,
            "grid_auto_rows": null,
            "grid_gap": null,
            "max_width": null,
            "order": null,
            "_view_module_version": "1.2.0",
            "grid_template_areas": null,
            "object_position": null,
            "object_fit": null,
            "grid_auto_columns": null,
            "margin": null,
            "display": null,
            "left": null
          }
        }
      }
    }
  },
  "cells": [
    {
      "cell_type": "code",
      "metadata": {
        "id": "K4fpoGNN7tVd"
      },
      "source": [
        "import torch\n",
        "import torchvision\n",
        "import torchvision.transforms as transforms\n",
        "import torch.nn as nn\n",
        "import numpy as np\n",
        "import matplotlib.pyplot as plt\n",
        "%matplotlib inline\n",
        "from torchsummary import summary\n",
        "import pandas as pd"
      ],
      "execution_count": 1,
      "outputs": []
    },
    {
      "cell_type": "code",
      "metadata": {
        "id": "RKffneOVzAC0"
      },
      "source": [
        "class ConvModule(nn.Module):\n",
        "    def __init__(self, in_channels, out_channels, kernel_size, stride, padding):\n",
        "        super(ConvModule, self).__init__()\n",
        "        \n",
        "        self.conv = nn.Conv2d(in_channels, out_channels, kernel_size, stride, padding)\n",
        "        self.bn = nn.BatchNorm2d(out_channels)\n",
        "        self.act = nn.ReLU()\n",
        "        \n",
        "    def forward(self, x):\n",
        "        x = self.conv(x)\n",
        "        x = self.bn(x)\n",
        "        x = self.act(x)\n",
        "        return x\n",
        " \n",
        "class InceptionModule(nn.Module):\n",
        "    \n",
        "    def __init__(self, in_channels, f_1x1, f_3x3):\n",
        "        super(InceptionModule, self).__init__()\n",
        "        \n",
        "        self.branch1 = nn.Sequential(\n",
        "            ConvModule(in_channels, f_1x1, kernel_size=1, stride=1, padding=0)\n",
        "        )\n",
        "        \n",
        "        self.branch2 = nn.Sequential(\n",
        "            ConvModule(in_channels, f_3x3, kernel_size=3, stride=1, padding=1)\n",
        "        )\n",
        "                \n",
        "    def forward(self, x):\n",
        "        branch1 = self.branch1(x)\n",
        "        branch2 = self.branch2(x)\n",
        "        return torch.cat([branch1, branch2], 1)\n",
        "\n",
        "\n",
        "class DownsampleModule(nn.Module):\n",
        "    def __init__(self, in_channels, f_3x3):\n",
        "        super(DownsampleModule, self).__init__()\n",
        "    \n",
        "        self.branch1 = nn.Sequential(ConvModule(in_channels, f_3x3, kernel_size=3, stride=2, padding=0))\n",
        "        self.branch2 = nn.MaxPool2d(3, stride=2)\n",
        "    \n",
        "    def forward(self, x):\n",
        "        branch1 = self.branch1(x)\n",
        "        branch2 = self.branch2(x)\n",
        "        return torch.cat([branch1, branch2], 1)\n",
        "   \n",
        "class InceptionSmall(nn.Module):\n",
        "    def __init__(self, num_classes = 10):\n",
        "        super(InceptionSmall, self).__init__()\n",
        "        \n",
        "        self.conv1 = ConvModule(in_channels =3,out_channels=96, kernel_size=3, stride=1, padding=0)\n",
        "        self.inception1 = InceptionModule(in_channels=96,f_1x1=32,f_3x3=32)\n",
        "        self.inception2 = InceptionModule(in_channels=64,f_1x1=32,f_3x3=48)\n",
        "        self.down1 = DownsampleModule(in_channels=80,f_3x3=80)\n",
        "        self.inception3 = InceptionModule(in_channels=160,f_1x1=112,f_3x3=48)\n",
        "        self.inception4 = InceptionModule(in_channels=160,f_1x1=96,f_3x3=64)\n",
        "        self.inception5 = InceptionModule(in_channels=160,f_1x1=80,f_3x3=80)\n",
        "        self.inception6 = InceptionModule(in_channels=160,f_1x1=48,f_3x3=96)   \n",
        "        self.down2 = DownsampleModule(in_channels=144,f_3x3=96)\n",
        "        self.inception7 = InceptionModule(in_channels=240,f_1x1=176,f_3x3=160)\n",
        "        self.inception8 = InceptionModule(in_channels=336,f_1x1=176,f_3x3=160)\n",
        "        self.meanpool = nn.AdaptiveAvgPool2d((7,7))\n",
        "        self.fc = nn.Linear(16464, num_classes)\n",
        "       \n",
        "    def forward(self, x):\n",
        "        x = self.conv1(x)\n",
        "        x = self.inception1(x)\n",
        "        x = self.inception2(x)\n",
        "        x = self.down1(x)\n",
        "        x = self.inception3(x)\n",
        "        x = self.inception4(x)\n",
        "        x = self.inception5(x)\n",
        "        x = self.inception6(x)\n",
        "        x = self.down2(x)\n",
        "        x = self.inception7(x)\n",
        "        x = self.inception8(x)\n",
        "        x = self.meanpool(x)\n",
        "        x = torch.flatten(x,1)\n",
        "        x = self.fc(x)\n",
        "        return x"
      ],
      "execution_count": 2,
      "outputs": []
    },
    {
      "cell_type": "code",
      "metadata": {
        "id": "fpF9eBfUzJQi"
      },
      "source": [
        "transform = transforms.Compose([transforms.ToTensor(),transforms.CenterCrop(28),transforms.Normalize((0.5, 0.5, 0.5), (0.5, 0.5, 0.5))])"
      ],
      "execution_count": 3,
      "outputs": []
    },
    {
      "cell_type": "code",
      "metadata": {
        "colab": {
          "base_uri": "https://localhost:8080/",
          "height": 100,
          "referenced_widgets": [
            "d38557583a0e413b9ec8d4a0f2553b53",
            "0d6c2e016afa4e42b998af40ff088127",
            "aff3182452ba4a939b88a1d36c3f2dff",
            "380abf165e5540b4a0bbd96eec74d3bf",
            "d73eaa2d873a496d98eabbabdd86bb15",
            "ce732079317940318355a80dd2107aed",
            "59b69a769a1342baac4fd5dbb55173b2",
            "7b30afcd703849ffa8f6dd7390ff722e"
          ]
        },
        "id": "FYeskUTS7lu3",
        "outputId": "a3998962-b4f5-477f-fef9-d200d3d2fa1a"
      },
      "source": [
        "trainset = torchvision.datasets.CIFAR10(root='./', train=True, download=True, transform=transform)\n",
        "testset = torchvision.datasets.CIFAR10(root='./', train=False, transform=transform)"
      ],
      "execution_count": 4,
      "outputs": [
        {
          "output_type": "stream",
          "text": [
            "Downloading https://www.cs.toronto.edu/~kriz/cifar-10-python.tar.gz to ./cifar-10-python.tar.gz\n"
          ],
          "name": "stdout"
        },
        {
          "output_type": "display_data",
          "data": {
            "application/vnd.jupyter.widget-view+json": {
              "model_id": "d38557583a0e413b9ec8d4a0f2553b53",
              "version_minor": 0,
              "version_major": 2
            },
            "text/plain": [
              "HBox(children=(FloatProgress(value=0.0, max=170498071.0), HTML(value='')))"
            ]
          },
          "metadata": {
            "tags": []
          }
        },
        {
          "output_type": "stream",
          "text": [
            "\n",
            "Extracting ./cifar-10-python.tar.gz to ./\n"
          ],
          "name": "stdout"
        }
      ]
    },
    {
      "cell_type": "code",
      "metadata": {
        "id": "kA0e2l4a7yL3"
      },
      "source": [
        "trainloader = torch.utils.data.DataLoader(trainset,batch_size=128, shuffle=True, num_workers=2)\n",
        "testloader = torch.utils.data.DataLoader(testset,batch_size=128, shuffle=False, num_workers=2)"
      ],
      "execution_count": null,
      "outputs": []
    },
    {
      "cell_type": "code",
      "metadata": {
        "colab": {
          "base_uri": "https://localhost:8080/"
        },
        "id": "0Mo8l9Y_76_T",
        "outputId": "9bf53db0-b1c7-4ac1-e27e-670fb2dfe2e0"
      },
      "source": [
        "def get_device():\n",
        "  if torch.cuda.is_available():\n",
        "      return torch.device('cuda')\n",
        "  else:\n",
        "      return torch.device('cpu')\n",
        "device = get_device()\n",
        "device"
      ],
      "execution_count": 5,
      "outputs": [
        {
          "output_type": "execute_result",
          "data": {
            "text/plain": [
              "device(type='cuda')"
            ]
          },
          "metadata": {
            "tags": []
          },
          "execution_count": 5
        }
      ]
    },
    {
      "cell_type": "code",
      "metadata": {
        "id": "WTeEobeE8AQW"
      },
      "source": [
        "def fit(epoch, model, trainloader, testloader, optimizer,scheduler):\n",
        "  history_t = {}\n",
        "  history_v = {}\n",
        "  criterion = nn.CrossEntropyLoss()\n",
        "  for epoch in range(epoch):  \n",
        "    running_loss = 0.0\n",
        "    correct = 0\n",
        "    total = 0\n",
        "    for i, data in enumerate(trainloader, 0):\n",
        "        inputs, labels = data[0].to(device), data[1].to(device)\n",
        "        optimizer.zero_grad()\n",
        "        outputs = model(inputs)\n",
        "        loss = criterion(outputs, labels)\n",
        "        loss.backward()\n",
        "        optimizer.step()\n",
        "        running_loss += loss.item()\n",
        "        _, preds = torch.max(outputs, dim=1)\n",
        "        total += labels.size(0)\n",
        "        correct += (preds == labels).sum().item()  \n",
        "    acc_t = (correct / total)\n",
        "    history_t[epoch+1] = acc_t\n",
        "    scheduler.step()\n",
        "\n",
        "    correct = 0\n",
        "    total = 0\n",
        "    for data in testloader:\n",
        "      images, labels = data[0].to(device), data[1].to(device)\n",
        "      outputs = model(images)\n",
        "      _, preds = torch.max(outputs, dim=1)\n",
        "      total += labels.size(0)\n",
        "      correct += (preds == labels).sum().item()\n",
        "    acc_v = (correct / total)\n",
        "    history_v[epoch+1] = acc_v\n",
        "    print(\"Epoch {} | loss: {:.4f} | Train acc: {:.4f} | Val acc: {:.4f}\".format(epoch+1, running_loss,acc_t, acc_v))\n",
        "    log_ = str(epoch+1)+\",\"+str(acc_t)+\",\"+str(acc_v)+\"\\n\"\n",
        "    with open(\"model.log\", \"a\") as f:\n",
        "      f.write(log_)\n",
        "  return model,history_t,history_v"
      ],
      "execution_count": 7,
      "outputs": []
    },
    {
      "cell_type": "code",
      "metadata": {
        "colab": {
          "base_uri": "https://localhost:8080/"
        },
        "id": "bpgwL6gD_T-I",
        "outputId": "b530ad17-12c6-4074-bd41-030c74e77c31"
      },
      "source": [
        "trainloader = torch.utils.data.DataLoader(trainset,batch_size=32, shuffle=True, num_workers=2)\n",
        "testloader = torch.utils.data.DataLoader(testset,batch_size=32, shuffle=False, num_workers=2)\n",
        "net = InceptionSmall().to(device)\n",
        "optimizer = torch.optim.SGD(net.parameters(), lr=0.1, momentum=0.9)\n",
        "scheduler = torch.optim.lr_scheduler.StepLR(optimizer, 1, gamma=0.95)\n",
        "trained_model,history_t,history_v = fit(20, net, trainloader, testloader, optimizer,scheduler)"
      ],
      "execution_count": null,
      "outputs": [
        {
          "output_type": "stream",
          "text": [
            "Epoch 1 | loss: 4090.1372 | Train acc: 9.9600 | Val acc: 10.0800\n",
            "Epoch 2 | loss: 3599.7287 | Train acc: 10.3680 | Val acc: 11.6900\n",
            "Epoch 3 | loss: 3553.0748 | Train acc: 12.8540 | Val acc: 16.4600\n",
            "Epoch 4 | loss: 3217.4165 | Train acc: 22.9820 | Val acc: 29.9000\n",
            "Epoch 5 | loss: 2834.9328 | Train acc: 32.7020 | Val acc: 38.9800\n",
            "Epoch 6 | loss: 2563.1171 | Train acc: 39.6160 | Val acc: 42.8900\n",
            "Epoch 7 | loss: 2351.8948 | Train acc: 45.2100 | Val acc: 46.9900\n",
            "Epoch 8 | loss: 2157.6741 | Train acc: 50.3800 | Val acc: 51.6700\n",
            "Epoch 9 | loss: 2005.9170 | Train acc: 54.1840 | Val acc: 54.9000\n",
            "Epoch 10 | loss: 1869.4180 | Train acc: 57.3040 | Val acc: 56.9800\n",
            "Epoch 11 | loss: 1762.8481 | Train acc: 60.0040 | Val acc: 58.6600\n",
            "Epoch 12 | loss: 1668.8617 | Train acc: 62.2780 | Val acc: 60.6200\n",
            "Epoch 13 | loss: 1583.2067 | Train acc: 64.3280 | Val acc: 62.6000\n",
            "Epoch 14 | loss: 1505.0558 | Train acc: 66.0280 | Val acc: 63.1200\n",
            "Epoch 15 | loss: 1442.6010 | Train acc: 67.4120 | Val acc: 65.3700\n",
            "Epoch 16 | loss: 1385.0821 | Train acc: 68.7680 | Val acc: 64.7800\n",
            "Epoch 17 | loss: 1314.8838 | Train acc: 70.4180 | Val acc: 66.5600\n",
            "Epoch 18 | loss: 1258.2388 | Train acc: 71.6040 | Val acc: 66.7500\n",
            "Epoch 19 | loss: 1194.3985 | Train acc: 73.1980 | Val acc: 66.5500\n",
            "Epoch 20 | loss: 1143.5546 | Train acc: 73.9880 | Val acc: 67.1500\n"
          ],
          "name": "stdout"
        }
      ]
    },
    {
      "cell_type": "code",
      "metadata": {
        "colab": {
          "base_uri": "https://localhost:8080/",
          "height": 295
        },
        "id": "PtO6_kxLA8lY",
        "outputId": "7c1a6940-f055-41d1-8ebc-8b8911f5880d"
      },
      "source": [
        "plt.plot(list(history_t.values()),label='Train')\n",
        "plt.plot(list(history_v.values()),label='Test')\n",
        "plt.xlabel('Accuracy')\n",
        "plt.ylabel('loss')\n",
        "plt.title('Accuracy vs. No. of epochs')\n",
        "plt.legend()\n",
        "plt.show()"
      ],
      "execution_count": null,
      "outputs": [
        {
          "output_type": "display_data",
          "data": {
            "image/png": "[encoded data removed]",
            "text/plain": [
              "<Figure size 432x288 with 1 Axes>"
            ]
          },
          "metadata": {
            "tags": [],
            "needs_background": "light"
          }
        }
      ]
    },
    {
      "cell_type": "code",
      "metadata": {
        "colab": {
          "base_uri": "https://localhost:8080/",
          "height": 1000
        },
        "id": "UGj0_NRnI3f8",
        "outputId": "7dcf27b5-d0c8-442a-8308-481f2749ab17"
      },
      "source": [
        "trainloader = torch.utils.data.DataLoader(trainset,batch_size=128, shuffle=True, num_workers=2)\n",
        "testloader = torch.utils.data.DataLoader(testset,batch_size=128, shuffle=False, num_workers=2)\n",
        "net = InceptionSmall().to(device)\n",
        "optimizer = torch.optim.SGD(net.parameters(), lr=0.1, momentum=0.9)\n",
        "scheduler = torch.optim.lr_scheduler.StepLR(optimizer, 1, gamma=0.95)\n",
        "trained_model,history_t,history_v = fit(100, net, trainloader, testloader, optimizer,scheduler)\n",
        "plt.plot(list(history_t.values()),label='Train')\n",
        "plt.plot(list(history_v.values()),label='Test')\n",
        "plt.xlabel('Epochs')\n",
        "plt.ylabel('Accuracy')\n",
        "plt.title('Accuracy vs. No. of epochs')\n",
        "plt.legend()\n",
        "plt.show()"
      ],
      "execution_count": 9,
      "outputs": [
        {
          "output_type": "stream",
          "text": [
            "Epoch 1 | loss: 1199.2837 | Train acc: 0.1032 | Val acc: 0.1067\n",
            "Epoch 2 | loss: 897.6040 | Train acc: 0.1059 | Val acc: 0.1111\n",
            "Epoch 3 | loss: 892.2954 | Train acc: 0.1189 | Val acc: 0.1232\n",
            "Epoch 4 | loss: 848.6075 | Train acc: 0.1822 | Val acc: 0.2347\n",
            "Epoch 5 | loss: 770.2321 | Train acc: 0.2574 | Val acc: 0.2888\n",
            "Epoch 6 | loss: 709.4081 | Train acc: 0.3213 | Val acc: 0.3718\n",
            "Epoch 7 | loss: 641.0765 | Train acc: 0.3937 | Val acc: 0.4230\n",
            "Epoch 8 | loss: 602.8583 | Train acc: 0.4311 | Val acc: 0.4287\n",
            "Epoch 9 | loss: 577.6399 | Train acc: 0.4574 | Val acc: 0.4665\n",
            "Epoch 10 | loss: 552.8545 | Train acc: 0.4824 | Val acc: 0.5021\n",
            "Epoch 11 | loss: 530.6137 | Train acc: 0.5049 | Val acc: 0.5147\n",
            "Epoch 12 | loss: 510.2016 | Train acc: 0.5268 | Val acc: 0.5365\n",
            "Epoch 13 | loss: 493.3175 | Train acc: 0.5411 | Val acc: 0.5589\n",
            "Epoch 14 | loss: 473.5434 | Train acc: 0.5612 | Val acc: 0.5616\n",
            "Epoch 15 | loss: 457.2205 | Train acc: 0.5762 | Val acc: 0.5655\n",
            "Epoch 16 | loss: 439.7495 | Train acc: 0.5948 | Val acc: 0.5828\n",
            "Epoch 17 | loss: 427.1881 | Train acc: 0.6070 | Val acc: 0.5988\n",
            "Epoch 18 | loss: 411.3282 | Train acc: 0.6238 | Val acc: 0.6004\n",
            "Epoch 19 | loss: 400.4863 | Train acc: 0.6317 | Val acc: 0.6229\n",
            "Epoch 20 | loss: 385.4017 | Train acc: 0.6454 | Val acc: 0.6205\n",
            "Epoch 21 | loss: 374.7441 | Train acc: 0.6603 | Val acc: 0.6331\n",
            "Epoch 22 | loss: 362.1034 | Train acc: 0.6694 | Val acc: 0.6387\n",
            "Epoch 23 | loss: 351.3116 | Train acc: 0.6808 | Val acc: 0.6531\n",
            "Epoch 24 | loss: 343.9688 | Train acc: 0.6878 | Val acc: 0.6529\n",
            "Epoch 25 | loss: 332.3270 | Train acc: 0.6956 | Val acc: 0.6664\n",
            "Epoch 26 | loss: 324.2144 | Train acc: 0.7058 | Val acc: 0.6699\n",
            "Epoch 27 | loss: 315.3970 | Train acc: 0.7129 | Val acc: 0.6722\n",
            "Epoch 28 | loss: 307.8371 | Train acc: 0.7190 | Val acc: 0.6723\n",
            "Epoch 29 | loss: 300.0833 | Train acc: 0.7276 | Val acc: 0.6866\n",
            "Epoch 30 | loss: 293.2951 | Train acc: 0.7344 | Val acc: 0.6862\n",
            "Epoch 31 | loss: 285.6537 | Train acc: 0.7382 | Val acc: 0.6854\n",
            "Epoch 32 | loss: 279.1465 | Train acc: 0.7449 | Val acc: 0.6920\n",
            "Epoch 33 | loss: 269.0060 | Train acc: 0.7563 | Val acc: 0.6984\n",
            "Epoch 34 | loss: 263.3157 | Train acc: 0.7599 | Val acc: 0.6951\n",
            "Epoch 35 | loss: 256.5609 | Train acc: 0.7654 | Val acc: 0.6990\n",
            "Epoch 36 | loss: 250.1491 | Train acc: 0.7736 | Val acc: 0.6988\n",
            "Epoch 37 | loss: 243.2451 | Train acc: 0.7787 | Val acc: 0.6940\n",
            "Epoch 38 | loss: 237.0322 | Train acc: 0.7831 | Val acc: 0.6993\n",
            "Epoch 39 | loss: 232.0985 | Train acc: 0.7907 | Val acc: 0.7052\n",
            "Epoch 40 | loss: 225.8523 | Train acc: 0.7951 | Val acc: 0.6987\n",
            "Epoch 41 | loss: 219.6838 | Train acc: 0.8001 | Val acc: 0.6994\n",
            "Epoch 42 | loss: 216.6079 | Train acc: 0.8023 | Val acc: 0.7013\n",
            "Epoch 43 | loss: 210.0009 | Train acc: 0.8088 | Val acc: 0.7008\n",
            "Epoch 44 | loss: 203.5518 | Train acc: 0.8146 | Val acc: 0.7020\n",
            "Epoch 45 | loss: 197.3425 | Train acc: 0.8198 | Val acc: 0.7013\n",
            "Epoch 46 | loss: 191.6361 | Train acc: 0.8261 | Val acc: 0.6949\n",
            "Epoch 47 | loss: 186.4766 | Train acc: 0.8296 | Val acc: 0.7023\n",
            "Epoch 48 | loss: 181.5582 | Train acc: 0.8330 | Val acc: 0.7046\n",
            "Epoch 49 | loss: 175.6286 | Train acc: 0.8396 | Val acc: 0.7034\n",
            "Epoch 50 | loss: 169.0877 | Train acc: 0.8452 | Val acc: 0.7024\n",
            "Epoch 51 | loss: 164.8628 | Train acc: 0.8485 | Val acc: 0.6978\n",
            "Epoch 52 | loss: 161.1069 | Train acc: 0.8533 | Val acc: 0.7010\n",
            "Epoch 53 | loss: 154.2840 | Train acc: 0.8581 | Val acc: 0.7027\n",
            "Epoch 54 | loss: 150.1549 | Train acc: 0.8623 | Val acc: 0.6938\n",
            "Epoch 55 | loss: 144.3557 | Train acc: 0.8677 | Val acc: 0.6987\n",
            "Epoch 56 | loss: 140.0618 | Train acc: 0.8731 | Val acc: 0.6979\n",
            "Epoch 57 | loss: 135.6059 | Train acc: 0.8764 | Val acc: 0.6973\n",
            "Epoch 58 | loss: 129.4943 | Train acc: 0.8809 | Val acc: 0.6931\n",
            "Epoch 59 | loss: 126.5984 | Train acc: 0.8831 | Val acc: 0.6924\n",
            "Epoch 60 | loss: 121.2013 | Train acc: 0.8896 | Val acc: 0.6893\n",
            "Epoch 61 | loss: 118.3357 | Train acc: 0.8911 | Val acc: 0.6937\n",
            "Epoch 62 | loss: 113.5529 | Train acc: 0.8964 | Val acc: 0.6907\n",
            "Epoch 63 | loss: 109.6083 | Train acc: 0.8992 | Val acc: 0.6889\n",
            "Epoch 64 | loss: 104.7698 | Train acc: 0.9038 | Val acc: 0.6895\n",
            "Epoch 65 | loss: 101.1209 | Train acc: 0.9086 | Val acc: 0.6843\n",
            "Epoch 66 | loss: 98.2797 | Train acc: 0.9104 | Val acc: 0.6880\n",
            "Epoch 67 | loss: 93.4348 | Train acc: 0.9133 | Val acc: 0.6877\n",
            "Epoch 68 | loss: 89.1880 | Train acc: 0.9185 | Val acc: 0.6866\n",
            "Epoch 69 | loss: 87.4545 | Train acc: 0.9200 | Val acc: 0.6900\n",
            "Epoch 70 | loss: 82.4124 | Train acc: 0.9257 | Val acc: 0.6846\n",
            "Epoch 71 | loss: 79.8143 | Train acc: 0.9285 | Val acc: 0.6878\n",
            "Epoch 72 | loss: 77.9594 | Train acc: 0.9281 | Val acc: 0.6856\n",
            "Epoch 73 | loss: 72.6548 | Train acc: 0.9340 | Val acc: 0.6844\n",
            "Epoch 74 | loss: 68.9590 | Train acc: 0.9374 | Val acc: 0.6836\n",
            "Epoch 75 | loss: 66.9622 | Train acc: 0.9390 | Val acc: 0.6809\n",
            "Epoch 76 | loss: 65.5366 | Train acc: 0.9406 | Val acc: 0.6820\n",
            "Epoch 77 | loss: 61.9263 | Train acc: 0.9433 | Val acc: 0.6862\n",
            "Epoch 78 | loss: 58.5083 | Train acc: 0.9477 | Val acc: 0.6870\n",
            "Epoch 79 | loss: 57.8360 | Train acc: 0.9480 | Val acc: 0.6836\n",
            "Epoch 80 | loss: 53.4345 | Train acc: 0.9521 | Val acc: 0.6867\n",
            "Epoch 81 | loss: 50.8022 | Train acc: 0.9564 | Val acc: 0.6855\n",
            "Epoch 82 | loss: 49.8018 | Train acc: 0.9557 | Val acc: 0.6822\n",
            "Epoch 83 | loss: 48.8102 | Train acc: 0.9560 | Val acc: 0.6815\n",
            "Epoch 84 | loss: 45.3531 | Train acc: 0.9599 | Val acc: 0.6829\n",
            "Epoch 85 | loss: 45.3059 | Train acc: 0.9606 | Val acc: 0.6824\n",
            "Epoch 86 | loss: 43.3716 | Train acc: 0.9624 | Val acc: 0.6826\n",
            "Epoch 87 | loss: 41.3089 | Train acc: 0.9635 | Val acc: 0.6828\n",
            "Epoch 88 | loss: 40.5214 | Train acc: 0.9654 | Val acc: 0.6797\n",
            "Epoch 89 | loss: 37.2083 | Train acc: 0.9677 | Val acc: 0.6823\n",
            "Epoch 90 | loss: 36.6581 | Train acc: 0.9685 | Val acc: 0.6820\n",
            "Epoch 91 | loss: 35.4669 | Train acc: 0.9699 | Val acc: 0.6841\n",
            "Epoch 92 | loss: 33.9591 | Train acc: 0.9710 | Val acc: 0.6803\n",
            "Epoch 93 | loss: 32.4215 | Train acc: 0.9724 | Val acc: 0.6791\n",
            "Epoch 94 | loss: 32.7251 | Train acc: 0.9722 | Val acc: 0.6813\n",
            "Epoch 95 | loss: 31.6845 | Train acc: 0.9727 | Val acc: 0.6796\n",
            "Epoch 96 | loss: 31.0215 | Train acc: 0.9743 | Val acc: 0.6811\n",
            "Epoch 97 | loss: 29.8985 | Train acc: 0.9758 | Val acc: 0.6809\n",
            "Epoch 98 | loss: 29.3873 | Train acc: 0.9748 | Val acc: 0.6823\n",
            "Epoch 99 | loss: 28.9414 | Train acc: 0.9760 | Val acc: 0.6811\n",
            "Epoch 100 | loss: 26.5465 | Train acc: 0.9781 | Val acc: 0.6808\n"
          ],
          "name": "stdout"
        },
        {
          "output_type": "display_data",
          "data": {
            "image/png": "[encoded data removed]",
            "text/plain": [
              "<Figure size 432x288 with 1 Axes>"
            ]
          },
          "metadata": {
            "tags": [],
            "needs_background": "light"
          }
        }
      ]
    },
    {
      "cell_type": "code",
      "metadata": {
        "colab": {
          "base_uri": "https://localhost:8080/"
        },
        "id": "a4kiXjMVEoff",
        "outputId": "30d8cd05-05de-48c5-d43f-6d47f5c2227b"
      },
      "source": [
        "trainloader = torch.utils.data.DataLoader(trainset,batch_size=64, shuffle=True, num_workers=2)\n",
        "testloader = torch.utils.data.DataLoader(testset,batch_size=64, shuffle=False, num_workers=2)\n",
        "net = InceptionSmall().to(device)\n",
        "optimizer = torch.optim.SGD(net.parameters(), lr=0.1, momentum=0.9)\n",
        "scheduler = torch.optim.lr_scheduler.StepLR(optimizer, 1, gamma=0.95)\n",
        "trained_model,history_t1,history_v1 = fit(100, net, trainloader, testloader, optimizer,scheduler)\n",
        "plt.plot(list(history_t1.values()),label='Train')\n",
        "plt.plot(list(history_v1.values()),label='Test')\n",
        "plt.xlabel('Epochs')\n",
        "plt.ylabel('Accuracy')\n",
        "plt.title('Accuracy vs. No. of epochs')\n",
        "plt.legend()\n",
        "plt.show()"
      ],
      "execution_count": null,
      "outputs": [
        {
          "output_type": "stream",
          "text": [
            "Epoch 1 | loss: 2006.7165 | Train acc: 0.1559 | Val acc: 0.2242\n",
            "Epoch 2 | loss: 1477.7316 | Train acc: 0.3007 | Val acc: 0.3576\n",
            "Epoch 3 | loss: 1302.0073 | Train acc: 0.3861 | Val acc: 0.4162\n",
            "Epoch 4 | loss: 1201.1573 | Train acc: 0.4331 | Val acc: 0.4612\n",
            "Epoch 5 | loss: 1127.8903 | Train acc: 0.4743 | Val acc: 0.4930\n",
            "Epoch 6 | loss: 1054.9130 | Train acc: 0.5092 | Val acc: 0.5242\n",
            "Epoch 7 | loss: 983.9896 | Train acc: 0.5462 | Val acc: 0.5503\n",
            "Epoch 8 | loss: 919.5299 | Train acc: 0.5807 | Val acc: 0.5746\n",
            "Epoch 9 | loss: 859.7834 | Train acc: 0.6080 | Val acc: 0.6073\n",
            "Epoch 10 | loss: 810.0165 | Train acc: 0.6316 | Val acc: 0.6330\n",
            "Epoch 11 | loss: 762.8690 | Train acc: 0.6536 | Val acc: 0.6338\n",
            "Epoch 12 | loss: 715.3034 | Train acc: 0.6755 | Val acc: 0.6541\n",
            "Epoch 13 | loss: 670.7213 | Train acc: 0.6972 | Val acc: 0.6652\n",
            "Epoch 14 | loss: 633.2089 | Train acc: 0.7152 | Val acc: 0.6729\n",
            "Epoch 15 | loss: 592.1438 | Train acc: 0.7334 | Val acc: 0.6907\n",
            "Epoch 16 | loss: 556.4926 | Train acc: 0.7508 | Val acc: 0.6921\n",
            "Epoch 17 | loss: 522.8531 | Train acc: 0.7629 | Val acc: 0.7054\n",
            "Epoch 18 | loss: 488.8138 | Train acc: 0.7803 | Val acc: 0.7001\n",
            "Epoch 19 | loss: 453.2543 | Train acc: 0.7956 | Val acc: 0.7071\n",
            "Epoch 20 | loss: 420.6670 | Train acc: 0.8086 | Val acc: 0.7182\n",
            "Epoch 21 | loss: 386.7320 | Train acc: 0.8239 | Val acc: 0.7099\n",
            "Epoch 22 | loss: 356.4772 | Train acc: 0.8353 | Val acc: 0.7183\n",
            "Epoch 23 | loss: 323.1336 | Train acc: 0.8529 | Val acc: 0.7080\n",
            "Epoch 24 | loss: 292.8932 | Train acc: 0.8664 | Val acc: 0.7104\n",
            "Epoch 25 | loss: 265.5844 | Train acc: 0.8776 | Val acc: 0.7081\n",
            "Epoch 26 | loss: 242.4311 | Train acc: 0.8881 | Val acc: 0.7087\n",
            "Epoch 27 | loss: 213.0133 | Train acc: 0.9001 | Val acc: 0.7089\n",
            "Epoch 28 | loss: 194.3892 | Train acc: 0.9099 | Val acc: 0.7137\n",
            "Epoch 29 | loss: 171.9125 | Train acc: 0.9198 | Val acc: 0.7181\n",
            "Epoch 30 | loss: 151.3559 | Train acc: 0.9289 | Val acc: 0.7133\n",
            "Epoch 31 | loss: 135.3853 | Train acc: 0.9371 | Val acc: 0.7162\n",
            "Epoch 32 | loss: 116.5137 | Train acc: 0.9463 | Val acc: 0.7070\n",
            "Epoch 33 | loss: 107.1712 | Train acc: 0.9503 | Val acc: 0.7109\n",
            "Epoch 34 | loss: 91.7495 | Train acc: 0.9571 | Val acc: 0.7134\n",
            "Epoch 35 | loss: 78.6574 | Train acc: 0.9644 | Val acc: 0.7081\n",
            "Epoch 36 | loss: 70.0081 | Train acc: 0.9678 | Val acc: 0.7107\n",
            "Epoch 37 | loss: 63.8137 | Train acc: 0.9721 | Val acc: 0.7114\n",
            "Epoch 38 | loss: 54.5698 | Train acc: 0.9756 | Val acc: 0.7095\n",
            "Epoch 39 | loss: 45.5440 | Train acc: 0.9796 | Val acc: 0.7196\n",
            "Epoch 40 | loss: 38.0582 | Train acc: 0.9830 | Val acc: 0.7115\n",
            "Epoch 41 | loss: 37.4418 | Train acc: 0.9833 | Val acc: 0.7153\n"
          ],
          "name": "stdout"
        }
      ]
    },
    {
      "cell_type": "code",
      "metadata": {
        "id": "GlTcLuKdHCyd"
      },
      "source": [
        "def fit(epoch, model, trainloader, testloader, optimizer,scheduler):\n",
        "  history_t[0] = 0\n",
        "  history_v[0] = 0\n",
        "  correct_t = 0\n",
        "  total_t = 0\n",
        "  correct_v = 0\n",
        "  total_v = 0\n",
        "  ct = 0\n",
        "  cv = 0\n",
        "  criterion = nn.CrossEntropyLoss()\n",
        "  for epoch in range(epoch):  \n",
        "    running_loss = 0.0\n",
        "    for i, data in enumerate(trainloader, 0):\n",
        "        inputs, labels = data[0].to(device), data[1].to(device)\n",
        "        optimizer.zero_grad()\n",
        "        outputs = model(inputs)\n",
        "        loss = criterion(outputs, labels)\n",
        "        loss.backward()\n",
        "        optimizer.step()\n",
        "        running_loss += loss.item()\n",
        "        _, preds = torch.max(outputs, dim=1)\n",
        "        total_t += labels.size(0)\n",
        "        correct_t += (preds == labels).sum().item()\n",
        "        if total_t>=10000:\n",
        "          acc_t = (correct_t / total_t)\n",
        "          history_t[ct+1] = acc_t\n",
        "          total_t = 0\n",
        "          correct_t = 0\n",
        "          ct+=1\n",
        "\n",
        "    scheduler.step()\n",
        "\n",
        "    for data in testloader:\n",
        "      images, labels = data[0].to(device), data[1].to(device)\n",
        "      outputs = model(images)\n",
        "      _, preds = torch.max(outputs, dim=1)\n",
        "      total_v += labels.size(0)\n",
        "      correct_v += (preds == labels).sum().item()\n",
        "      if total_v>=10000:\n",
        "        acc_v = (correct_v / total_v)\n",
        "        history_v[cv+5] = acc_v\n",
        "        total_v = 0\n",
        "        correct_v = 0\n",
        "        cv+=5     \n",
        "    print(\"Epoch {} | loss: {:.4f} | Train acc: {:.4f} | Val acc: {:.4f}\".format(epoch+1, running_loss,acc_t, acc_v))\n",
        "  return model,history_t,history_v"
      ],
      "execution_count": null,
      "outputs": []
    },
    {
      "cell_type": "code",
      "metadata": {
        "id": "2eLSN6VpUYXS"
      },
      "source": [
        ""
      ],
      "execution_count": null,
      "outputs": []
    }
  ]
}