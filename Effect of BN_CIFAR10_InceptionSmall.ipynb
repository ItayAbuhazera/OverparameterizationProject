{
  "nbformat": 4,
  "nbformat_minor": 0,
  "metadata": {
    "colab": {
      "name": "SMAI_Project.ipynb",
      "provenance": []
    },
    "kernelspec": {
      "name": "python3",
      "display_name": "Python 3"
    },
    "language_info": {
      "name": "python"
    },
    "accelerator": "GPU"
  },
  "cells": [
    {
      "cell_type": "code",
      "metadata": {
        "id": "K4fpoGNN7tVd"
      },
      "source": [
        "import torch\n",
        "import torchvision\n",
        "import torchvision.transforms as transforms\n",
        "import torch.nn as nn\n",
        "import numpy as np\n",
        "import matplotlib.pyplot as plt\n",
        "%matplotlib inline\n",
        "from torchsummary import summary\n",
        "import pandas as pd"
      ],
      "execution_count": 1,
      "outputs": []
    },
    {
      "cell_type": "code",
      "metadata": {
        "id": "fpF9eBfUzJQi"
      },
      "source": [
        "transform = transforms.Compose([transforms.ToTensor(),transforms.CenterCrop(28),transforms.Normalize((0.5, 0.5, 0.5), (0.5, 0.5, 0.5))])"
      ],
      "execution_count": 2,
      "outputs": []
    },
    {
      "cell_type": "code",
      "metadata": {
        "colab": {
          "base_uri": "https://localhost:8080/"
        },
        "id": "FYeskUTS7lu3",
        "outputId": "5f85852c-6830-402f-9b6a-21a6e9b1061a"
      },
      "source": [
        "trainset = torchvision.datasets.CIFAR10(root='./', train=True, download=True, transform=transform)\n",
        "testset = torchvision.datasets.CIFAR10(root='./', train=False, transform=transform)"
      ],
      "execution_count": 3,
      "outputs": [
        {
          "output_type": "stream",
          "text": [
            "Files already downloaded and verified\n"
          ],
          "name": "stdout"
        }
      ]
    },
    {
      "cell_type": "code",
      "metadata": {
        "id": "kA0e2l4a7yL3"
      },
      "source": [
        "trainloader = torch.utils.data.DataLoader(trainset,batch_size=64, shuffle=True, num_workers=2)\n",
        "testloader = torch.utils.data.DataLoader(testset,batch_size=64, shuffle=False, num_workers=2)"
      ],
      "execution_count": 4,
      "outputs": []
    },
    {
      "cell_type": "code",
      "metadata": {
        "id": "RKffneOVzAC0"
      },
      "source": [
        "class ConvModule(nn.Module):\n",
        "    def __init__(self, in_channels, out_channels, kernel_size, stride, padding):\n",
        "        super(ConvModule, self).__init__()\n",
        "        \n",
        "        self.conv = nn.Conv2d(in_channels, out_channels, kernel_size, stride, padding)\n",
        "        self.bn = nn.BatchNorm2d(out_channels)\n",
        "        self.act = nn.ReLU()\n",
        "        \n",
        "    def forward(self, x):\n",
        "        x = self.conv(x)\n",
        "        x = self.bn(x)\n",
        "        x = self.act(x)\n",
        "        return x\n",
        " \n",
        "class InceptionModule(nn.Module):\n",
        "    \n",
        "    def __init__(self, in_channels, f_1x1, f_3x3):\n",
        "        super(InceptionModule, self).__init__()\n",
        "        \n",
        "        self.branch1 = nn.Sequential(\n",
        "            ConvModule(in_channels, f_1x1, kernel_size=1, stride=1, padding=0)\n",
        "        )\n",
        "        \n",
        "        self.branch2 = nn.Sequential(\n",
        "            ConvModule(in_channels, f_3x3, kernel_size=3, stride=1, padding=1)\n",
        "        )\n",
        "                \n",
        "    def forward(self, x):\n",
        "        branch1 = self.branch1(x)\n",
        "        branch2 = self.branch2(x)\n",
        "        return torch.cat([branch1, branch2], 1)\n",
        "\n",
        "\n",
        "class DownsampleModule(nn.Module):\n",
        "    def __init__(self, in_channels, f_3x3):\n",
        "        super(DownsampleModule, self).__init__()\n",
        "    \n",
        "        self.branch1 = nn.Sequential(ConvModule(in_channels, f_3x3, kernel_size=3, stride=2, padding=0))\n",
        "        self.branch2 = nn.MaxPool2d(3, stride=2)\n",
        "    \n",
        "    def forward(self, x):\n",
        "        branch1 = self.branch1(x)\n",
        "        branch2 = self.branch2(x)\n",
        "        return torch.cat([branch1, branch2], 1)\n",
        "   \n",
        "class InceptionSmall(nn.Module):\n",
        "    def __init__(self, num_classes = 10):\n",
        "        super(InceptionSmall, self).__init__()\n",
        "        \n",
        "        self.conv1 = ConvModule(in_channels =3,out_channels=96, kernel_size=3, stride=1, padding=0)\n",
        "        self.inception1 = InceptionModule(in_channels=96,f_1x1=32,f_3x3=32)\n",
        "        self.inception2 = InceptionModule(in_channels=64,f_1x1=32,f_3x3=48)\n",
        "        self.down1 = DownsampleModule(in_channels=80,f_3x3=80)\n",
        "        self.inception3 = InceptionModule(in_channels=160,f_1x1=112,f_3x3=48)\n",
        "        self.inception4 = InceptionModule(in_channels=160,f_1x1=96,f_3x3=64)\n",
        "        self.inception5 = InceptionModule(in_channels=160,f_1x1=80,f_3x3=80)\n",
        "        self.inception6 = InceptionModule(in_channels=160,f_1x1=48,f_3x3=96)   \n",
        "        self.down2 = DownsampleModule(in_channels=144,f_3x3=96)\n",
        "        self.inception7 = InceptionModule(in_channels=240,f_1x1=176,f_3x3=160)\n",
        "        self.inception8 = InceptionModule(in_channels=336,f_1x1=176,f_3x3=160)\n",
        "        self.meanpool = nn.AdaptiveAvgPool2d((7,7))\n",
        "        self.fc = nn.Linear(16464, num_classes)\n",
        "       \n",
        "    def forward(self, x):\n",
        "        x = self.conv1(x)\n",
        "        x = self.inception1(x)\n",
        "        x = self.inception2(x)\n",
        "        x = self.down1(x)\n",
        "        x = self.inception3(x)\n",
        "        x = self.inception4(x)\n",
        "        x = self.inception5(x)\n",
        "        x = self.inception6(x)\n",
        "        x = self.down2(x)\n",
        "        x = self.inception7(x)\n",
        "        x = self.inception8(x)\n",
        "        x = self.meanpool(x)\n",
        "        x = torch.flatten(x,1)\n",
        "        x = self.fc(x)\n",
        "        return x"
      ],
      "execution_count": 5,
      "outputs": []
    },
    {
      "cell_type": "code",
      "metadata": {
        "colab": {
          "base_uri": "https://localhost:8080/"
        },
        "id": "0Mo8l9Y_76_T",
        "outputId": "6c9d2689-d605-436e-a250-9257f42020c0"
      },
      "source": [
        "def get_device():\n",
        "  if torch.cuda.is_available():\n",
        "      return torch.device('cuda')\n",
        "  else:\n",
        "      return torch.device('cpu')\n",
        "device = get_device()\n",
        "device"
      ],
      "execution_count": 6,
      "outputs": [
        {
          "output_type": "execute_result",
          "data": {
            "text/plain": [
              "device(type='cuda')"
            ]
          },
          "metadata": {
            "tags": []
          },
          "execution_count": 6
        }
      ]
    },
    {
      "cell_type": "code",
      "metadata": {
        "id": "WTeEobeE8AQW"
      },
      "source": [
        "def fit(epoch, model, trainloader, testloader, optimizer,scheduler):\n",
        "  history_t = {}\n",
        "  history_v = {}\n",
        "  criterion = nn.CrossEntropyLoss()\n",
        "  for epoch in range(epoch):  \n",
        "    running_loss = 0.0\n",
        "    correct = 0\n",
        "    total = 0\n",
        "    for i, data in enumerate(trainloader, 0):\n",
        "        inputs, labels = data[0].to(device), data[1].to(device)\n",
        "        optimizer.zero_grad()\n",
        "        outputs = model(inputs)\n",
        "        loss = criterion(outputs, labels)\n",
        "        loss.backward()\n",
        "        optimizer.step()\n",
        "        running_loss += loss.item()\n",
        "        _, preds = torch.max(outputs, dim=1)\n",
        "        total += labels.size(0)\n",
        "        correct += (preds == labels).sum().item()  \n",
        "    acc_t = (correct / total)\n",
        "    history_t[epoch+1] = acc_t\n",
        "    scheduler.step()\n",
        "\n",
        "    correct = 0\n",
        "    total = 0\n",
        "    for data in testloader:\n",
        "      images, labels = data[0].to(device), data[1].to(device)\n",
        "      outputs = model(images)\n",
        "      _, preds = torch.max(outputs, dim=1)\n",
        "      total += labels.size(0)\n",
        "      correct += (preds == labels).sum().item()\n",
        "    acc_v = (correct / total)\n",
        "    history_v[epoch+1] = acc_v\n",
        "    print(\"Epoch {} | loss: {:.4f} | Train acc: {:.4f} | Val acc: {:.4f}\".format(epoch+1, running_loss,acc_t, acc_v))\n",
        "    log_ = str(epoch+1)+\",\"+str(acc_t)+\",\"+str(acc_v)+\"\\n\"\n",
        "    with open(\"model.log\", \"a\") as f:\n",
        "      f.write(log_)\n",
        "  return model,history_t,history_v"
      ],
      "execution_count": 27,
      "outputs": []
    },
    {
      "cell_type": "code",
      "metadata": {
        "colab": {
          "base_uri": "https://localhost:8080/"
        },
        "id": "a4kiXjMVEoff",
        "outputId": "21427bc7-e94f-4652-d841-cc22a5ce422e"
      },
      "source": [
        "net = InceptionSmall().to(device)\n",
        "optimizer = torch.optim.SGD(net.parameters(), lr=0.1, momentum=0.9)\n",
        "scheduler = torch.optim.lr_scheduler.StepLR(optimizer, 1, gamma=0.95)\n",
        "trained_model,history_t1,history_v1 = fit(100, net, trainloader, testloader, optimizer,scheduler)"
      ],
      "execution_count": 8,
      "outputs": [
        {
          "output_type": "stream",
          "text": [
            "Epoch 1 | loss: 2021.1163 | Train acc: 0.1245 | Val acc: 0.1539\n",
            "Epoch 2 | loss: 1679.8393 | Train acc: 0.2032 | Val acc: 0.2476\n",
            "Epoch 3 | loss: 1498.8844 | Train acc: 0.2799 | Val acc: 0.3188\n",
            "Epoch 4 | loss: 1375.2481 | Train acc: 0.3429 | Val acc: 0.3653\n",
            "Epoch 5 | loss: 1265.8656 | Train acc: 0.4003 | Val acc: 0.4315\n",
            "Epoch 6 | loss: 1189.6255 | Train acc: 0.4468 | Val acc: 0.4768\n",
            "Epoch 7 | loss: 1115.2057 | Train acc: 0.4851 | Val acc: 0.4779\n",
            "Epoch 8 | loss: 1043.6959 | Train acc: 0.5191 | Val acc: 0.4941\n",
            "Epoch 9 | loss: 980.2064 | Train acc: 0.5477 | Val acc: 0.5638\n",
            "Epoch 10 | loss: 922.9494 | Train acc: 0.5789 | Val acc: 0.5785\n",
            "Epoch 11 | loss: 875.3960 | Train acc: 0.6002 | Val acc: 0.6031\n",
            "Epoch 12 | loss: 827.9213 | Train acc: 0.6237 | Val acc: 0.6110\n",
            "Epoch 13 | loss: 786.9009 | Train acc: 0.6428 | Val acc: 0.6266\n",
            "Epoch 14 | loss: 745.4008 | Train acc: 0.6638 | Val acc: 0.6429\n",
            "Epoch 15 | loss: 713.9405 | Train acc: 0.6757 | Val acc: 0.6656\n",
            "Epoch 16 | loss: 674.2355 | Train acc: 0.6941 | Val acc: 0.6688\n",
            "Epoch 17 | loss: 643.6445 | Train acc: 0.7074 | Val acc: 0.6852\n",
            "Epoch 18 | loss: 613.0812 | Train acc: 0.7226 | Val acc: 0.6958\n",
            "Epoch 19 | loss: 584.6079 | Train acc: 0.7363 | Val acc: 0.6791\n",
            "Epoch 20 | loss: 559.8614 | Train acc: 0.7476 | Val acc: 0.7047\n",
            "Epoch 21 | loss: 533.5082 | Train acc: 0.7590 | Val acc: 0.7082\n",
            "Epoch 22 | loss: 504.3897 | Train acc: 0.7726 | Val acc: 0.7150\n",
            "Epoch 23 | loss: 478.1967 | Train acc: 0.7856 | Val acc: 0.7158\n",
            "Epoch 24 | loss: 456.6943 | Train acc: 0.7939 | Val acc: 0.7227\n",
            "Epoch 25 | loss: 434.9786 | Train acc: 0.8022 | Val acc: 0.7208\n",
            "Epoch 26 | loss: 410.4064 | Train acc: 0.8129 | Val acc: 0.7315\n",
            "Epoch 27 | loss: 387.5453 | Train acc: 0.8249 | Val acc: 0.7314\n",
            "Epoch 28 | loss: 362.4111 | Train acc: 0.8367 | Val acc: 0.7279\n",
            "Epoch 29 | loss: 340.6355 | Train acc: 0.8447 | Val acc: 0.7300\n",
            "Epoch 30 | loss: 314.1233 | Train acc: 0.8564 | Val acc: 0.7315\n",
            "Epoch 31 | loss: 297.8174 | Train acc: 0.8633 | Val acc: 0.7362\n",
            "Epoch 32 | loss: 272.7596 | Train acc: 0.8743 | Val acc: 0.7285\n",
            "Epoch 33 | loss: 252.2211 | Train acc: 0.8837 | Val acc: 0.7311\n",
            "Epoch 34 | loss: 234.2649 | Train acc: 0.8915 | Val acc: 0.7308\n",
            "Epoch 35 | loss: 215.0634 | Train acc: 0.9007 | Val acc: 0.7283\n",
            "Epoch 36 | loss: 194.6318 | Train acc: 0.9120 | Val acc: 0.7240\n",
            "Epoch 37 | loss: 177.5300 | Train acc: 0.9195 | Val acc: 0.7207\n",
            "Epoch 38 | loss: 155.0479 | Train acc: 0.9286 | Val acc: 0.7314\n",
            "Epoch 39 | loss: 140.8866 | Train acc: 0.9351 | Val acc: 0.7246\n",
            "Epoch 40 | loss: 124.8176 | Train acc: 0.9414 | Val acc: 0.7213\n",
            "Epoch 41 | loss: 112.2705 | Train acc: 0.9479 | Val acc: 0.7231\n",
            "Epoch 42 | loss: 98.8728 | Train acc: 0.9539 | Val acc: 0.7312\n",
            "Epoch 43 | loss: 88.1090 | Train acc: 0.9598 | Val acc: 0.7280\n",
            "Epoch 44 | loss: 77.7436 | Train acc: 0.9650 | Val acc: 0.7258\n",
            "Epoch 45 | loss: 70.2283 | Train acc: 0.9678 | Val acc: 0.7266\n",
            "Epoch 46 | loss: 61.2737 | Train acc: 0.9708 | Val acc: 0.7225\n",
            "Epoch 47 | loss: 54.6369 | Train acc: 0.9750 | Val acc: 0.7253\n",
            "Epoch 48 | loss: 47.1019 | Train acc: 0.9792 | Val acc: 0.7290\n",
            "Epoch 49 | loss: 41.4927 | Train acc: 0.9810 | Val acc: 0.7320\n",
            "Epoch 50 | loss: 35.7561 | Train acc: 0.9843 | Val acc: 0.7327\n",
            "Epoch 51 | loss: 32.4910 | Train acc: 0.9856 | Val acc: 0.7307\n",
            "Epoch 52 | loss: 26.8763 | Train acc: 0.9887 | Val acc: 0.7318\n",
            "Epoch 53 | loss: 22.8552 | Train acc: 0.9898 | Val acc: 0.7342\n",
            "Epoch 54 | loss: 22.0038 | Train acc: 0.9907 | Val acc: 0.7351\n",
            "Epoch 55 | loss: 20.4864 | Train acc: 0.9910 | Val acc: 0.7313\n",
            "Epoch 56 | loss: 16.0095 | Train acc: 0.9930 | Val acc: 0.7321\n",
            "Epoch 57 | loss: 13.0859 | Train acc: 0.9942 | Val acc: 0.7333\n",
            "Epoch 58 | loss: 10.4944 | Train acc: 0.9953 | Val acc: 0.7313\n",
            "Epoch 59 | loss: 9.0372 | Train acc: 0.9961 | Val acc: 0.7326\n",
            "Epoch 60 | loss: 8.0191 | Train acc: 0.9968 | Val acc: 0.7358\n",
            "Epoch 61 | loss: 7.9063 | Train acc: 0.9968 | Val acc: 0.7340\n",
            "Epoch 62 | loss: 6.6209 | Train acc: 0.9974 | Val acc: 0.7338\n",
            "Epoch 63 | loss: 7.2530 | Train acc: 0.9973 | Val acc: 0.7343\n",
            "Epoch 64 | loss: 4.7830 | Train acc: 0.9981 | Val acc: 0.7333\n",
            "Epoch 65 | loss: 3.8381 | Train acc: 0.9988 | Val acc: 0.7324\n",
            "Epoch 66 | loss: 3.9964 | Train acc: 0.9985 | Val acc: 0.7349\n",
            "Epoch 67 | loss: 3.2003 | Train acc: 0.9989 | Val acc: 0.7351\n",
            "Epoch 68 | loss: 3.2495 | Train acc: 0.9989 | Val acc: 0.7345\n",
            "Epoch 69 | loss: 2.7354 | Train acc: 0.9989 | Val acc: 0.7330\n",
            "Epoch 70 | loss: 2.3816 | Train acc: 0.9992 | Val acc: 0.7377\n",
            "Epoch 71 | loss: 3.0697 | Train acc: 0.9989 | Val acc: 0.7363\n",
            "Epoch 72 | loss: 2.2721 | Train acc: 0.9992 | Val acc: 0.7361\n",
            "Epoch 73 | loss: 2.7436 | Train acc: 0.9991 | Val acc: 0.7366\n",
            "Epoch 74 | loss: 2.3967 | Train acc: 0.9991 | Val acc: 0.7364\n",
            "Epoch 75 | loss: 1.7153 | Train acc: 0.9994 | Val acc: 0.7381\n",
            "Epoch 76 | loss: 2.2665 | Train acc: 0.9992 | Val acc: 0.7366\n",
            "Epoch 77 | loss: 2.3983 | Train acc: 0.9994 | Val acc: 0.7381\n",
            "Epoch 78 | loss: 2.8992 | Train acc: 0.9989 | Val acc: 0.7374\n",
            "Epoch 79 | loss: 2.7800 | Train acc: 0.9991 | Val acc: 0.7374\n",
            "Epoch 80 | loss: 2.6754 | Train acc: 0.9992 | Val acc: 0.7364\n",
            "Epoch 81 | loss: 1.9358 | Train acc: 0.9994 | Val acc: 0.7357\n",
            "Epoch 82 | loss: 2.1028 | Train acc: 0.9993 | Val acc: 0.7361\n",
            "Epoch 83 | loss: 1.9028 | Train acc: 0.9994 | Val acc: 0.7361\n",
            "Epoch 84 | loss: 1.4507 | Train acc: 0.9996 | Val acc: 0.7343\n",
            "Epoch 85 | loss: 1.8497 | Train acc: 0.9994 | Val acc: 0.7349\n",
            "Epoch 86 | loss: 1.3431 | Train acc: 0.9995 | Val acc: 0.7367\n",
            "Epoch 87 | loss: 1.0400 | Train acc: 0.9996 | Val acc: 0.7351\n",
            "Epoch 88 | loss: 1.3737 | Train acc: 0.9995 | Val acc: 0.7363\n",
            "Epoch 89 | loss: 1.3033 | Train acc: 0.9995 | Val acc: 0.7357\n",
            "Epoch 90 | loss: 1.2021 | Train acc: 0.9996 | Val acc: 0.7366\n",
            "Epoch 91 | loss: 1.4164 | Train acc: 0.9996 | Val acc: 0.7359\n",
            "Epoch 92 | loss: 1.1413 | Train acc: 0.9996 | Val acc: 0.7369\n",
            "Epoch 93 | loss: 1.0352 | Train acc: 0.9997 | Val acc: 0.7361\n",
            "Epoch 94 | loss: 0.9847 | Train acc: 0.9997 | Val acc: 0.7367\n",
            "Epoch 95 | loss: 1.4532 | Train acc: 0.9995 | Val acc: 0.7356\n",
            "Epoch 96 | loss: 1.1269 | Train acc: 0.9997 | Val acc: 0.7365\n",
            "Epoch 97 | loss: 0.9980 | Train acc: 0.9997 | Val acc: 0.7360\n",
            "Epoch 98 | loss: 1.8057 | Train acc: 0.9995 | Val acc: 0.7369\n",
            "Epoch 99 | loss: 1.1692 | Train acc: 0.9996 | Val acc: 0.7364\n",
            "Epoch 100 | loss: 1.1697 | Train acc: 0.9997 | Val acc: 0.7370\n"
          ],
          "name": "stdout"
        }
      ]
    },
    {
      "cell_type": "code",
      "metadata": {
        "colab": {
          "base_uri": "https://localhost:8080/",
          "height": 295
        },
        "id": "sE2eavFS7xFK",
        "outputId": "acfb5b17-e567-4d4a-cf0a-a11863757479"
      },
      "source": [
        "plt.plot(list(history_t1.values()),label='Train')\n",
        "plt.plot(list(history_v1.values()),label='Test')\n",
        "plt.xlabel('Epochs')\n",
        "plt.ylabel('Accuracy')\n",
        "plt.title('Accuracy vs. No. of epochs')\n",
        "plt.legend()\n",
        "plt.show()"
      ],
      "execution_count": 9,
      "outputs": [
        {
          "output_type": "display_data",
          "data": {
            "image/png": "[encoded data removed]",
            "text/plain": [
              "<Figure size 432x288 with 1 Axes>"
            ]
          },
          "metadata": {
            "tags": [],
            "needs_background": "light"
          }
        }
      ]
    },
    {
      "cell_type": "markdown",
      "metadata": {
        "id": "oCIv5f9hrIlc"
      },
      "source": [
        "Without Batch Normalization"
      ]
    },
    {
      "cell_type": "code",
      "metadata": {
        "id": "Wncdm2coHR6v"
      },
      "source": [
        "class ConvModule(nn.Module):\n",
        "    def __init__(self, in_channels, out_channels, kernel_size, stride, padding):\n",
        "        super(ConvModule, self).__init__()\n",
        "        \n",
        "        self.conv = nn.Conv2d(in_channels, out_channels, kernel_size, stride, padding)\n",
        "        self.act = nn.ReLU()\n",
        "        \n",
        "    def forward(self, x):\n",
        "        x = self.conv(x)\n",
        "        x = self.act(x)\n",
        "        return x\n",
        " \n",
        "class InceptionModule(nn.Module):\n",
        "    \n",
        "    def __init__(self, in_channels, f_1x1, f_3x3):\n",
        "        super(InceptionModule, self).__init__()\n",
        "        \n",
        "        self.branch1 = nn.Sequential(\n",
        "            ConvModule(in_channels, f_1x1, kernel_size=1, stride=1, padding=0)\n",
        "        )\n",
        "        \n",
        "        self.branch2 = nn.Sequential(\n",
        "            ConvModule(in_channels, f_3x3, kernel_size=3, stride=1, padding=1)\n",
        "        )\n",
        "                \n",
        "    def forward(self, x):\n",
        "        branch1 = self.branch1(x)\n",
        "        branch2 = self.branch2(x)\n",
        "        return torch.cat([branch1, branch2], 1)\n",
        "\n",
        "\n",
        "class DownsampleModule(nn.Module):\n",
        "    def __init__(self, in_channels, f_3x3):\n",
        "        super(DownsampleModule, self).__init__()\n",
        "    \n",
        "        self.branch1 = nn.Sequential(ConvModule(in_channels, f_3x3, kernel_size=3, stride=2, padding=0))\n",
        "        self.branch2 = nn.MaxPool2d(3, stride=2)\n",
        "    \n",
        "    def forward(self, x):\n",
        "        branch1 = self.branch1(x)\n",
        "        branch2 = self.branch2(x)\n",
        "        return torch.cat([branch1, branch2], 1)\n",
        "   \n",
        "class InceptionSmall2(nn.Module):\n",
        "    def __init__(self, num_classes = 10):\n",
        "        super(InceptionSmall2, self).__init__()\n",
        "        \n",
        "        self.conv1 = ConvModule(in_channels =3,out_channels=96, kernel_size=3, stride=1, padding=0)\n",
        "        self.inception1 = InceptionModule(in_channels=96,f_1x1=32,f_3x3=32)\n",
        "        self.inception2 = InceptionModule(in_channels=64,f_1x1=32,f_3x3=48)\n",
        "        self.down1 = DownsampleModule(in_channels=80,f_3x3=80)\n",
        "        self.inception3 = InceptionModule(in_channels=160,f_1x1=112,f_3x3=48)\n",
        "        self.inception4 = InceptionModule(in_channels=160,f_1x1=96,f_3x3=64)\n",
        "        self.inception5 = InceptionModule(in_channels=160,f_1x1=80,f_3x3=80)\n",
        "        self.inception6 = InceptionModule(in_channels=160,f_1x1=48,f_3x3=96)   \n",
        "        self.down2 = DownsampleModule(in_channels=144,f_3x3=96)\n",
        "        self.inception7 = InceptionModule(in_channels=240,f_1x1=176,f_3x3=160)\n",
        "        self.inception8 = InceptionModule(in_channels=336,f_1x1=176,f_3x3=160)\n",
        "        self.meanpool = nn.AdaptiveAvgPool2d((7,7))\n",
        "        self.fc = nn.Linear(16464, num_classes)\n",
        "       \n",
        "    def forward(self, x):\n",
        "        x = self.conv1(x)\n",
        "        x = self.inception1(x)\n",
        "        x = self.inception2(x)\n",
        "        x = self.down1(x)\n",
        "        x = self.inception3(x)\n",
        "        x = self.inception4(x)\n",
        "        x = self.inception5(x)\n",
        "        x = self.inception6(x)\n",
        "        x = self.down2(x)\n",
        "        x = self.inception7(x)\n",
        "        x = self.inception8(x)\n",
        "        x = self.meanpool(x)\n",
        "        x = torch.flatten(x,1)\n",
        "        x = self.fc(x)\n",
        "        return x"
      ],
      "execution_count": 28,
      "outputs": []
    },
    {
      "cell_type": "code",
      "metadata": {
        "id": "7wkKbwj1UBhf",
        "outputId": "3d8c2991-e2b3-45c5-ed24-dcfb65c314c6",
        "colab": {
          "base_uri": "https://localhost:8080/"
        }
      },
      "source": [
        "trainloader = torch.utils.data.DataLoader(trainset,batch_size=64, shuffle=True, num_workers=2)\n",
        "testloader = torch.utils.data.DataLoader(testset,batch_size=64, shuffle=False, num_workers=2)\n",
        "net = InceptionSmall2().to(device)\n",
        "optimizer = torch.optim.SGD(net.parameters(), lr=0.001, momentum=0.9)\n",
        "scheduler = torch.optim.lr_scheduler.StepLR(optimizer, 1000, gamma=1.0)\n",
        "trained_model2,history_t2,history_v2 = fit(100, net, trainloader, testloader, optimizer,scheduler)"
      ],
      "execution_count": 30,
      "outputs": [
        {
          "output_type": "stream",
          "text": [
            "Epoch 1 | loss: 1800.9625 | Train acc: 0.0975 | Val acc: 0.1000\n",
            "Epoch 2 | loss: 1800.9035 | Train acc: 0.0984 | Val acc: 0.1000\n",
            "Epoch 3 | loss: 1800.9329 | Train acc: 0.0972 | Val acc: 0.1000\n",
            "Epoch 4 | loss: 1800.8438 | Train acc: 0.1012 | Val acc: 0.1000\n",
            "Epoch 5 | loss: 1800.8454 | Train acc: 0.0980 | Val acc: 0.1000\n",
            "Epoch 6 | loss: 1800.8500 | Train acc: 0.0991 | Val acc: 0.1000\n",
            "Epoch 7 | loss: 1800.8179 | Train acc: 0.0998 | Val acc: 0.1000\n",
            "Epoch 8 | loss: 1800.8138 | Train acc: 0.0979 | Val acc: 0.1000\n",
            "Epoch 9 | loss: 1800.8045 | Train acc: 0.0987 | Val acc: 0.1000\n",
            "Epoch 10 | loss: 1800.7865 | Train acc: 0.0982 | Val acc: 0.1000\n",
            "Epoch 11 | loss: 1800.7538 | Train acc: 0.0997 | Val acc: 0.1000\n",
            "Epoch 12 | loss: 1800.7223 | Train acc: 0.0997 | Val acc: 0.1000\n",
            "Epoch 13 | loss: 1800.7363 | Train acc: 0.0983 | Val acc: 0.1000\n",
            "Epoch 14 | loss: 1800.6854 | Train acc: 0.0996 | Val acc: 0.1000\n",
            "Epoch 15 | loss: 1800.6919 | Train acc: 0.1006 | Val acc: 0.1000\n",
            "Epoch 16 | loss: 1800.5968 | Train acc: 0.1006 | Val acc: 0.1008\n",
            "Epoch 17 | loss: 1800.4299 | Train acc: 0.1031 | Val acc: 0.1000\n",
            "Epoch 18 | loss: 1799.7632 | Train acc: 0.1078 | Val acc: 0.1253\n",
            "Epoch 19 | loss: 1760.8919 | Train acc: 0.1628 | Val acc: 0.1982\n",
            "Epoch 20 | loss: 1561.5582 | Train acc: 0.2335 | Val acc: 0.2647\n",
            "Epoch 21 | loss: 1452.8590 | Train acc: 0.2770 | Val acc: 0.3027\n",
            "Epoch 22 | loss: 1390.1563 | Train acc: 0.3201 | Val acc: 0.3452\n",
            "Epoch 23 | loss: 1297.0384 | Train acc: 0.3820 | Val acc: 0.4010\n",
            "Epoch 24 | loss: 1201.6068 | Train acc: 0.4347 | Val acc: 0.4331\n",
            "Epoch 25 | loss: 1141.6565 | Train acc: 0.4684 | Val acc: 0.4662\n",
            "Epoch 26 | loss: 1095.2417 | Train acc: 0.4957 | Val acc: 0.4882\n",
            "Epoch 27 | loss: 1051.2640 | Train acc: 0.5159 | Val acc: 0.5222\n",
            "Epoch 28 | loss: 1014.3308 | Train acc: 0.5357 | Val acc: 0.5379\n",
            "Epoch 29 | loss: 976.7119 | Train acc: 0.5522 | Val acc: 0.5322\n",
            "Epoch 30 | loss: 949.6003 | Train acc: 0.5662 | Val acc: 0.5679\n",
            "Epoch 31 | loss: 913.0490 | Train acc: 0.5833 | Val acc: 0.5619\n",
            "Epoch 32 | loss: 888.3557 | Train acc: 0.5955 | Val acc: 0.5772\n",
            "Epoch 33 | loss: 866.3125 | Train acc: 0.6058 | Val acc: 0.6021\n",
            "Epoch 34 | loss: 844.0843 | Train acc: 0.6167 | Val acc: 0.6027\n",
            "Epoch 35 | loss: 822.1379 | Train acc: 0.6260 | Val acc: 0.6044\n",
            "Epoch 36 | loss: 798.7938 | Train acc: 0.6364 | Val acc: 0.6290\n",
            "Epoch 37 | loss: 777.8144 | Train acc: 0.6482 | Val acc: 0.6301\n",
            "Epoch 38 | loss: 752.8761 | Train acc: 0.6592 | Val acc: 0.6413\n",
            "Epoch 39 | loss: 729.1999 | Train acc: 0.6687 | Val acc: 0.6459\n",
            "Epoch 40 | loss: 714.3652 | Train acc: 0.6762 | Val acc: 0.6238\n",
            "Epoch 41 | loss: 693.9572 | Train acc: 0.6899 | Val acc: 0.6487\n",
            "Epoch 42 | loss: 678.5694 | Train acc: 0.6942 | Val acc: 0.6660\n",
            "Epoch 43 | loss: 661.7252 | Train acc: 0.7013 | Val acc: 0.6588\n",
            "Epoch 44 | loss: 643.6061 | Train acc: 0.7079 | Val acc: 0.6724\n",
            "Epoch 45 | loss: 623.3475 | Train acc: 0.7199 | Val acc: 0.6770\n",
            "Epoch 46 | loss: 607.0451 | Train acc: 0.7283 | Val acc: 0.6870\n",
            "Epoch 47 | loss: 594.0647 | Train acc: 0.7323 | Val acc: 0.6831\n",
            "Epoch 48 | loss: 575.8684 | Train acc: 0.7412 | Val acc: 0.6871\n",
            "Epoch 49 | loss: 556.7635 | Train acc: 0.7493 | Val acc: 0.6793\n",
            "Epoch 50 | loss: 538.5057 | Train acc: 0.7560 | Val acc: 0.6886\n",
            "Epoch 51 | loss: 523.1109 | Train acc: 0.7625 | Val acc: 0.6976\n",
            "Epoch 52 | loss: 503.9965 | Train acc: 0.7725 | Val acc: 0.6682\n",
            "Epoch 53 | loss: 486.6302 | Train acc: 0.7807 | Val acc: 0.6773\n",
            "Epoch 54 | loss: 468.9749 | Train acc: 0.7876 | Val acc: 0.7038\n",
            "Epoch 55 | loss: 450.5960 | Train acc: 0.7965 | Val acc: 0.7074\n",
            "Epoch 56 | loss: 430.1874 | Train acc: 0.8050 | Val acc: 0.6919\n",
            "Epoch 57 | loss: 415.7135 | Train acc: 0.8106 | Val acc: 0.6986\n",
            "Epoch 58 | loss: 391.3790 | Train acc: 0.8215 | Val acc: 0.7099\n",
            "Epoch 59 | loss: 376.1747 | Train acc: 0.8297 | Val acc: 0.6789\n",
            "Epoch 60 | loss: 356.8301 | Train acc: 0.8383 | Val acc: 0.6992\n",
            "Epoch 61 | loss: 333.3126 | Train acc: 0.8466 | Val acc: 0.6938\n",
            "Epoch 62 | loss: 309.4930 | Train acc: 0.8581 | Val acc: 0.6801\n",
            "Epoch 63 | loss: 292.8979 | Train acc: 0.8656 | Val acc: 0.7000\n",
            "Epoch 64 | loss: 263.9161 | Train acc: 0.8780 | Val acc: 0.6909\n",
            "Epoch 65 | loss: 247.9896 | Train acc: 0.8858 | Val acc: 0.6984\n",
            "Epoch 66 | loss: 235.1531 | Train acc: 0.8909 | Val acc: 0.7006\n",
            "Epoch 67 | loss: 212.8583 | Train acc: 0.9004 | Val acc: 0.7011\n",
            "Epoch 68 | loss: 190.6048 | Train acc: 0.9114 | Val acc: 0.6922\n",
            "Epoch 69 | loss: 177.9538 | Train acc: 0.9180 | Val acc: 0.6952\n",
            "Epoch 70 | loss: 171.2929 | Train acc: 0.9204 | Val acc: 0.6966\n",
            "Epoch 71 | loss: 146.5327 | Train acc: 0.9323 | Val acc: 0.6942\n",
            "Epoch 72 | loss: 129.3816 | Train acc: 0.9396 | Val acc: 0.6950\n",
            "Epoch 73 | loss: 126.6257 | Train acc: 0.9420 | Val acc: 0.6932\n",
            "Epoch 74 | loss: 117.8060 | Train acc: 0.9455 | Val acc: 0.6948\n",
            "Epoch 75 | loss: 109.1753 | Train acc: 0.9500 | Val acc: 0.6975\n",
            "Epoch 76 | loss: 96.5199 | Train acc: 0.9557 | Val acc: 0.6976\n",
            "Epoch 77 | loss: 87.9730 | Train acc: 0.9596 | Val acc: 0.7030\n",
            "Epoch 78 | loss: 81.0655 | Train acc: 0.9629 | Val acc: 0.6957\n",
            "Epoch 79 | loss: 74.8825 | Train acc: 0.9663 | Val acc: 0.7013\n",
            "Epoch 80 | loss: 72.7518 | Train acc: 0.9670 | Val acc: 0.7028\n",
            "Epoch 81 | loss: 69.3288 | Train acc: 0.9684 | Val acc: 0.7013\n",
            "Epoch 82 | loss: 55.5821 | Train acc: 0.9745 | Val acc: 0.7008\n",
            "Epoch 83 | loss: 61.1944 | Train acc: 0.9726 | Val acc: 0.7017\n",
            "Epoch 84 | loss: 52.6587 | Train acc: 0.9765 | Val acc: 0.6926\n",
            "Epoch 85 | loss: 53.5193 | Train acc: 0.9760 | Val acc: 0.6996\n",
            "Epoch 86 | loss: 41.0574 | Train acc: 0.9815 | Val acc: 0.7040\n",
            "Epoch 87 | loss: 45.2940 | Train acc: 0.9803 | Val acc: 0.7006\n",
            "Epoch 88 | loss: 42.7972 | Train acc: 0.9812 | Val acc: 0.7007\n",
            "Epoch 89 | loss: 33.2174 | Train acc: 0.9860 | Val acc: 0.6960\n",
            "Epoch 90 | loss: 42.2009 | Train acc: 0.9805 | Val acc: 0.6916\n",
            "Epoch 91 | loss: 41.2723 | Train acc: 0.9819 | Val acc: 0.6929\n",
            "Epoch 92 | loss: 37.0391 | Train acc: 0.9835 | Val acc: 0.6886\n",
            "Epoch 93 | loss: 31.2066 | Train acc: 0.9867 | Val acc: 0.7057\n",
            "Epoch 94 | loss: 41.9019 | Train acc: 0.9815 | Val acc: 0.7030\n",
            "Epoch 95 | loss: 27.8328 | Train acc: 0.9877 | Val acc: 0.7050\n",
            "Epoch 96 | loss: 31.6430 | Train acc: 0.9864 | Val acc: 0.7103\n",
            "Epoch 97 | loss: 16.2632 | Train acc: 0.9932 | Val acc: 0.7015\n",
            "Epoch 98 | loss: 25.6963 | Train acc: 0.9883 | Val acc: 0.6977\n",
            "Epoch 99 | loss: 23.5736 | Train acc: 0.9900 | Val acc: 0.7027\n",
            "Epoch 100 | loss: 34.3182 | Train acc: 0.9851 | Val acc: 0.6997\n"
          ],
          "name": "stdout"
        }
      ]
    },
    {
      "cell_type": "code",
      "metadata": {
        "id": "2eLSN6VpUYXS",
        "colab": {
          "base_uri": "https://localhost:8080/",
          "height": 295
        },
        "outputId": "cf645564-9761-4144-96f6-133829853afd"
      },
      "source": [
        "plt.plot(list(history_t2.values()),label='Train, w/o BN')\n",
        "plt.plot(list(history_v2.values()),label='Test, w/o BN')\n",
        "plt.xlabel('Epochs')\n",
        "plt.ylabel('Accuracy')\n",
        "plt.title('Accuracy vs. No. of epochs')\n",
        "plt.legend()\n",
        "plt.show()"
      ],
      "execution_count": 36,
      "outputs": [
        {
          "output_type": "display_data",
          "data": {
            "image/png": "[encoded data removed]",
            "text/plain": [
              "<Figure size 432x288 with 1 Axes>"
            ]
          },
          "metadata": {
            "tags": [],
            "needs_background": "light"
          }
        }
      ]
    },
    {
      "cell_type": "code",
      "metadata": {
        "id": "qIPz3lBxqZLd",
        "outputId": "80893510-e5b3-47e8-d286-4cc2f4307156",
        "colab": {
          "base_uri": "https://localhost:8080/",
          "height": 295
        }
      },
      "source": [
        "plt.plot(list(history_t1.values()),label='Train')\n",
        "plt.plot(list(history_v1.values()),label='Test')\n",
        "plt.plot(list(history_t2.values()),label='Train, w/o BN')\n",
        "plt.plot(list(history_v2.values()),label='Test, w/o BN')\n",
        "plt.xlabel('Epochs')\n",
        "plt.ylabel('Accuracy')\n",
        "plt.title('Inception Small on CIFAR-10 ')\n",
        "plt.legend()\n",
        "plt.show()"
      ],
      "execution_count": 35,
      "outputs": [
        {
          "output_type": "display_data",
          "data": {
            "image/png": "[encoded data removed]",
            "text/plain": [
              "<Figure size 432x288 with 1 Axes>"
            ]
          },
          "metadata": {
            "tags": [],
            "needs_background": "light"
          }
        }
      ]
    }
  ]
}