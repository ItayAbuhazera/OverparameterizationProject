{
  "nbformat": 4,
  "nbformat_minor": 0,
  "metadata": {
    "colab": {
      "name": "Effect of labels_CIFAR10_InceptionSmall.ipynb",
      "provenance": []
    },
    "kernelspec": {
      "name": "python3",
      "display_name": "Python 3"
    },
    "language_info": {
      "name": "python"
    },
    "accelerator": "GPU",
    "widgets": {
      "application/vnd.jupyter.widget-state+json": {
        "81d5dc2594a14a51a74585369f49e938": {
          "model_module": "@jupyter-widgets/controls",
          "model_name": "HBoxModel",
          "state": {
            "_view_name": "HBoxView",
            "_dom_classes": [],
            "_model_name": "HBoxModel",
            "_view_module": "@jupyter-widgets/controls",
            "_model_module_version": "1.5.0",
            "_view_count": null,
            "_view_module_version": "1.5.0",
            "box_style": "",
            "layout": "IPY_MODEL_64b7a773dd6a4e80b37a052618c8740f",
            "_model_module": "@jupyter-widgets/controls",
            "children": [
              "IPY_MODEL_c8b16d7c7cca415eafe29cce6c0588c3",
              "IPY_MODEL_19d17dc860964a2294262922aee5cf76"
            ]
          }
        },
        "64b7a773dd6a4e80b37a052618c8740f": {
          "model_module": "@jupyter-widgets/base",
          "model_name": "LayoutModel",
          "state": {
            "_view_name": "LayoutView",
            "grid_template_rows": null,
            "right": null,
            "justify_content": null,
            "_view_module": "@jupyter-widgets/base",
            "overflow": null,
            "_model_module_version": "1.2.0",
            "_view_count": null,
            "flex_flow": null,
            "width": null,
            "min_width": null,
            "border": null,
            "align_items": null,
            "bottom": null,
            "_model_module": "@jupyter-widgets/base",
            "top": null,
            "grid_column": null,
            "overflow_y": null,
            "overflow_x": null,
            "grid_auto_flow": null,
            "grid_area": null,
            "grid_template_columns": null,
            "flex": null,
            "_model_name": "LayoutModel",
            "justify_items": null,
            "grid_row": null,
            "max_height": null,
            "align_content": null,
            "visibility": null,
            "align_self": null,
            "height": null,
            "min_height": null,
            "padding": null,
            "grid_auto_rows": null,
            "grid_gap": null,
            "max_width": null,
            "order": null,
            "_view_module_version": "1.2.0",
            "grid_template_areas": null,
            "object_position": null,
            "object_fit": null,
            "grid_auto_columns": null,
            "margin": null,
            "display": null,
            "left": null
          }
        },
        "c8b16d7c7cca415eafe29cce6c0588c3": {
          "model_module": "@jupyter-widgets/controls",
          "model_name": "FloatProgressModel",
          "state": {
            "_view_name": "ProgressView",
            "style": "IPY_MODEL_5b1ed90cc3a6443091e3e749b964e008",
            "_dom_classes": [],
            "description": "",
            "_model_name": "FloatProgressModel",
            "bar_style": "success",
            "max": 170498071,
            "_view_module": "@jupyter-widgets/controls",
            "_model_module_version": "1.5.0",
            "value": 170498071,
            "_view_count": null,
            "_view_module_version": "1.5.0",
            "orientation": "horizontal",
            "min": 0,
            "description_tooltip": null,
            "_model_module": "@jupyter-widgets/controls",
            "layout": "IPY_MODEL_d29548b4047a461aa3d7cd98150af348"
          }
        },
        "19d17dc860964a2294262922aee5cf76": {
          "model_module": "@jupyter-widgets/controls",
          "model_name": "HTMLModel",
          "state": {
            "_view_name": "HTMLView",
            "style": "IPY_MODEL_38e8ab92f3b4421c95a6901ea1bf97f5",
            "_dom_classes": [],
            "description": "",
            "_model_name": "HTMLModel",
            "placeholder": "​",
            "_view_module": "@jupyter-widgets/controls",
            "_model_module_version": "1.5.0",
            "value": " 170499072/? [10:15&lt;00:00, 277233.36it/s]",
            "_view_count": null,
            "_view_module_version": "1.5.0",
            "description_tooltip": null,
            "_model_module": "@jupyter-widgets/controls",
            "layout": "IPY_MODEL_145482dabbea482f8e806fb25ae49bf3"
          }
        },
        "5b1ed90cc3a6443091e3e749b964e008": {
          "model_module": "@jupyter-widgets/controls",
          "model_name": "ProgressStyleModel",
          "state": {
            "_view_name": "StyleView",
            "_model_name": "ProgressStyleModel",
            "description_width": "initial",
            "_view_module": "@jupyter-widgets/base",
            "_model_module_version": "1.5.0",
            "_view_count": null,
            "_view_module_version": "1.2.0",
            "bar_color": null,
            "_model_module": "@jupyter-widgets/controls"
          }
        },
        "d29548b4047a461aa3d7cd98150af348": {
          "model_module": "@jupyter-widgets/base",
          "model_name": "LayoutModel",
          "state": {
            "_view_name": "LayoutView",
            "grid_template_rows": null,
            "right": null,
            "justify_content": null,
            "_view_module": "@jupyter-widgets/base",
            "overflow": null,
            "_model_module_version": "1.2.0",
            "_view_count": null,
            "flex_flow": null,
            "width": null,
            "min_width": null,
            "border": null,
            "align_items": null,
            "bottom": null,
            "_model_module": "@jupyter-widgets/base",
            "top": null,
            "grid_column": null,
            "overflow_y": null,
            "overflow_x": null,
            "grid_auto_flow": null,
            "grid_area": null,
            "grid_template_columns": null,
            "flex": null,
            "_model_name": "LayoutModel",
            "justify_items": null,
            "grid_row": null,
            "max_height": null,
            "align_content": null,
            "visibility": null,
            "align_self": null,
            "height": null,
            "min_height": null,
            "padding": null,
            "grid_auto_rows": null,
            "grid_gap": null,
            "max_width": null,
            "order": null,
            "_view_module_version": "1.2.0",
            "grid_template_areas": null,
            "object_position": null,
            "object_fit": null,
            "grid_auto_columns": null,
            "margin": null,
            "display": null,
            "left": null
          }
        },
        "38e8ab92f3b4421c95a6901ea1bf97f5": {
          "model_module": "@jupyter-widgets/controls",
          "model_name": "DescriptionStyleModel",
          "state": {
            "_view_name": "StyleView",
            "_model_name": "DescriptionStyleModel",
            "description_width": "",
            "_view_module": "@jupyter-widgets/base",
            "_model_module_version": "1.5.0",
            "_view_count": null,
            "_view_module_version": "1.2.0",
            "_model_module": "@jupyter-widgets/controls"
          }
        },
        "145482dabbea482f8e806fb25ae49bf3": {
          "model_module": "@jupyter-widgets/base",
          "model_name": "LayoutModel",
          "state": {
            "_view_name": "LayoutView",
            "grid_template_rows": null,
            "right": null,
            "justify_content": null,
            "_view_module": "@jupyter-widgets/base",
            "overflow": null,
            "_model_module_version": "1.2.0",
            "_view_count": null,
            "flex_flow": null,
            "width": null,
            "min_width": null,
            "border": null,
            "align_items": null,
            "bottom": null,
            "_model_module": "@jupyter-widgets/base",
            "top": null,
            "grid_column": null,
            "overflow_y": null,
            "overflow_x": null,
            "grid_auto_flow": null,
            "grid_area": null,
            "grid_template_columns": null,
            "flex": null,
            "_model_name": "LayoutModel",
            "justify_items": null,
            "grid_row": null,
            "max_height": null,
            "align_content": null,
            "visibility": null,
            "align_self": null,
            "height": null,
            "min_height": null,
            "padding": null,
            "grid_auto_rows": null,
            "grid_gap": null,
            "max_width": null,
            "order": null,
            "_view_module_version": "1.2.0",
            "grid_template_areas": null,
            "object_position": null,
            "object_fit": null,
            "grid_auto_columns": null,
            "margin": null,
            "display": null,
            "left": null
          }
        }
      }
    }
  },
  "cells": [
    {
      "cell_type": "code",
      "metadata": {
        "id": "K4fpoGNN7tVd"
      },
      "source": [
        "import torch\n",
        "import torchvision\n",
        "import torchvision.transforms as transforms\n",
        "import torch.nn as nn\n",
        "import numpy as np\n",
        "import matplotlib.pyplot as plt\n",
        "%matplotlib inline\n",
        "from torchsummary import summary\n",
        "import pandas as pd"
      ],
      "execution_count": 1,
      "outputs": []
    },
    {
      "cell_type": "code",
      "metadata": {
        "id": "fpF9eBfUzJQi"
      },
      "source": [
        "transform = transforms.Compose([transforms.ToTensor(),transforms.CenterCrop(28),transforms.Normalize((0.5, 0.5, 0.5), (0.5, 0.5, 0.5))])"
      ],
      "execution_count": 2,
      "outputs": []
    },
    {
      "cell_type": "code",
      "metadata": {
        "colab": {
          "base_uri": "https://localhost:8080/",
          "height": 100,
          "referenced_widgets": [
            "81d5dc2594a14a51a74585369f49e938",
            "64b7a773dd6a4e80b37a052618c8740f",
            "c8b16d7c7cca415eafe29cce6c0588c3",
            "19d17dc860964a2294262922aee5cf76",
            "5b1ed90cc3a6443091e3e749b964e008",
            "d29548b4047a461aa3d7cd98150af348",
            "38e8ab92f3b4421c95a6901ea1bf97f5",
            "145482dabbea482f8e806fb25ae49bf3"
          ]
        },
        "id": "FYeskUTS7lu3",
        "outputId": "ceab3701-6622-4423-abe7-e0b2402903ea"
      },
      "source": [
        "trainset = torchvision.datasets.CIFAR10(root='./', train=True, download=True, transform=transform)\n",
        "testset = torchvision.datasets.CIFAR10(root='./', train=False, transform=transform)"
      ],
      "execution_count": 3,
      "outputs": [
        {
          "output_type": "stream",
          "text": [
            "Downloading https://www.cs.toronto.edu/~kriz/cifar-10-python.tar.gz to ./cifar-10-python.tar.gz\n"
          ],
          "name": "stdout"
        },
        {
          "output_type": "display_data",
          "data": {
            "application/vnd.jupyter.widget-view+json": {
              "model_id": "81d5dc2594a14a51a74585369f49e938",
              "version_minor": 0,
              "version_major": 2
            },
            "text/plain": [
              "HBox(children=(FloatProgress(value=0.0, max=170498071.0), HTML(value='')))"
            ]
          },
          "metadata": {
            "tags": []
          }
        },
        {
          "output_type": "stream",
          "text": [
            "\n",
            "Extracting ./cifar-10-python.tar.gz to ./\n"
          ],
          "name": "stdout"
        }
      ]
    },
    {
      "cell_type": "code",
      "metadata": {
        "id": "kA0e2l4a7yL3"
      },
      "source": [
        "trainloader = torch.utils.data.DataLoader(trainset,batch_size=32, shuffle=True, num_workers=2,pin_memory=True)\n",
        "testloader = torch.utils.data.DataLoader(testset,batch_size=32, shuffle=False, num_workers=2,pin_memory=True)"
      ],
      "execution_count": 4,
      "outputs": []
    },
    {
      "cell_type": "code",
      "metadata": {
        "id": "RKffneOVzAC0"
      },
      "source": [
        "class ConvModule(nn.Module):\n",
        "    def __init__(self, in_channels, out_channels, kernel_size, stride, padding):\n",
        "        super(ConvModule, self).__init__()\n",
        "        \n",
        "        self.conv = nn.Conv2d(in_channels, out_channels, kernel_size, stride, padding)\n",
        "        self.bn = nn.BatchNorm2d(out_channels)\n",
        "        self.act = nn.ReLU()\n",
        "        \n",
        "    def forward(self, x):\n",
        "        x = self.conv(x)\n",
        "        x = self.bn(x)\n",
        "        x = self.act(x)\n",
        "        return x\n",
        " \n",
        "class InceptionModule(nn.Module):\n",
        "    \n",
        "    def __init__(self, in_channels, f_1x1, f_3x3):\n",
        "        super(InceptionModule, self).__init__()\n",
        "        \n",
        "        self.branch1 = nn.Sequential(\n",
        "            ConvModule(in_channels, f_1x1, kernel_size=1, stride=1, padding=0)\n",
        "        )\n",
        "        \n",
        "        self.branch2 = nn.Sequential(\n",
        "            ConvModule(in_channels, f_3x3, kernel_size=3, stride=1, padding=1)\n",
        "        )\n",
        "                \n",
        "    def forward(self, x):\n",
        "        branch1 = self.branch1(x)\n",
        "        branch2 = self.branch2(x)\n",
        "        return torch.cat([branch1, branch2], 1)\n",
        "\n",
        "\n",
        "class DownsampleModule(nn.Module):\n",
        "    def __init__(self, in_channels, f_3x3):\n",
        "        super(DownsampleModule, self).__init__()\n",
        "    \n",
        "        self.branch1 = nn.Sequential(ConvModule(in_channels, f_3x3, kernel_size=3, stride=2, padding=0))\n",
        "        self.branch2 = nn.MaxPool2d(3, stride=2)\n",
        "    \n",
        "    def forward(self, x):\n",
        "        branch1 = self.branch1(x)\n",
        "        branch2 = self.branch2(x)\n",
        "        return torch.cat([branch1, branch2], 1)\n",
        "   \n",
        "class InceptionSmall(nn.Module):\n",
        "    def __init__(self, num_classes = 10):\n",
        "        super(InceptionSmall, self).__init__()\n",
        "        \n",
        "        self.conv1 = ConvModule(in_channels =3,out_channels=96, kernel_size=3, stride=1, padding=0)\n",
        "        self.inception1 = InceptionModule(in_channels=96,f_1x1=32,f_3x3=32)\n",
        "        self.inception2 = InceptionModule(in_channels=64,f_1x1=32,f_3x3=48)\n",
        "        self.down1 = DownsampleModule(in_channels=80,f_3x3=80)\n",
        "        self.inception3 = InceptionModule(in_channels=160,f_1x1=112,f_3x3=48)\n",
        "        self.inception4 = InceptionModule(in_channels=160,f_1x1=96,f_3x3=64)\n",
        "        self.inception5 = InceptionModule(in_channels=160,f_1x1=80,f_3x3=80)\n",
        "        self.inception6 = InceptionModule(in_channels=160,f_1x1=48,f_3x3=96)   \n",
        "        self.down2 = DownsampleModule(in_channels=144,f_3x3=96)\n",
        "        self.inception7 = InceptionModule(in_channels=240,f_1x1=176,f_3x3=160)\n",
        "        self.inception8 = InceptionModule(in_channels=336,f_1x1=176,f_3x3=160)\n",
        "        self.meanpool = nn.AdaptiveAvgPool2d((7,7))\n",
        "        self.fc = nn.Linear(16464, num_classes)\n",
        "       \n",
        "    def forward(self, x):\n",
        "        x = self.conv1(x)\n",
        "        x = self.inception1(x)\n",
        "        x = self.inception2(x)\n",
        "        x = self.down1(x)\n",
        "        x = self.inception3(x)\n",
        "        x = self.inception4(x)\n",
        "        x = self.inception5(x)\n",
        "        x = self.inception6(x)\n",
        "        x = self.down2(x)\n",
        "        x = self.inception7(x)\n",
        "        x = self.inception8(x)\n",
        "        x = self.meanpool(x)\n",
        "        x = torch.flatten(x,1)\n",
        "        x = self.fc(x)\n",
        "        return x"
      ],
      "execution_count": 5,
      "outputs": []
    },
    {
      "cell_type": "code",
      "metadata": {
        "colab": {
          "base_uri": "https://localhost:8080/"
        },
        "id": "0Mo8l9Y_76_T",
        "outputId": "0dd21aa6-d6b6-4373-c339-26876226ea0b"
      },
      "source": [
        "def get_device():\n",
        "  if torch.cuda.is_available():\n",
        "      return torch.device('cuda')\n",
        "  else:\n",
        "      return torch.device('cpu')\n",
        "device = get_device()\n",
        "device"
      ],
      "execution_count": 6,
      "outputs": [
        {
          "output_type": "execute_result",
          "data": {
            "text/plain": [
              "device(type='cuda')"
            ]
          },
          "metadata": {
            "tags": []
          },
          "execution_count": 6
        }
      ]
    },
    {
      "cell_type": "code",
      "metadata": {
        "id": "YcszL06Dw0ZA"
      },
      "source": [
        "def fit(epoch, model, trainloader, testloader, optimizer,scheduler,name='model', random_shuffle=False, shuffled_pixels=False):\n",
        "  history_t = []\n",
        "  history_v = []\n",
        "  history_loss = []\n",
        "  step_count = 0\n",
        "  criterion = nn.CrossEntropyLoss().to(device)\n",
        "  if shuffled_pixels:\n",
        "    rng = np.random.default_rng()\n",
        "  for epoch in range(epoch):  \n",
        "    running_loss = 0.0\n",
        "    for i, data in enumerate(trainloader, 0):\n",
        "      inputs, labels = data[0].to(device), data[1].to(device)\n",
        "      if random_shuffle:\n",
        "        labels = labels[torch.randperm(len(labels))]\n",
        "      if shuffled_pixels:\n",
        "        data_ = data.cpu().numpy()\n",
        "        data_perm = rng.permutation(data_, axis=2)\n",
        "        data = torch.from_numpy(data_perm)\n",
        "      optimizer.zero_grad()\n",
        "      outputs = model(inputs)\n",
        "      loss = criterion(outputs, labels)\n",
        "      loss.backward()\n",
        "      optimizer.step()\n",
        "      running_loss += loss.item()\n",
        "      step_count += 1\n",
        "      if step_count%1000==0:\n",
        "        acc_t,acc_v = eval_model(model,trainloader,testloader)\n",
        "        model.train()\n",
        "        history_t.append(acc_t)\n",
        "        history_v.append(acc_v)\n",
        "        log_ = str(step_count)+\",\"+str(acc_t)+\",\"+str(acc_v)+ \",\" + str(running_loss/1000)+\"\\n\"\n",
        "        with open(\"{}.log\".format(name), \"a\") as f:\n",
        "          f.write(log_)\n",
        "    print(\"Epoch {} | loss: {:.4f} | Train acc: {:.4f} | Val acc: {:.4f}\".format(epoch+1, running_loss/1000,acc_t, acc_v))\n",
        "    history_loss.append(running_loss/1000)\n",
        "    scheduler.step()\n",
        "  return model,history_t,history_v, history_loss"
      ],
      "execution_count": 15,
      "outputs": []
    },
    {
      "cell_type": "code",
      "metadata": {
        "id": "eodRzVV1CJkM",
        "colab": {
          "base_uri": "https://localhost:8080/"
        },
        "outputId": "4083169b-a691-43d8-fd26-aaccbd97a438"
      },
      "source": [
        "net = InceptionSmall().to(device)\n",
        "optimizer = torch.optim.SGD(net.parameters(), lr=0.1, momentum=0.9)\n",
        "scheduler = torch.optim.lr_scheduler.StepLR(optimizer, 1, gamma=0.95)\n",
        "trained_model,history_t1,history_v1, history_loss = fit(100, net, trainloader, testloader, optimizer,scheduler, name='normal_labels')"
      ],
      "execution_count": 11,
      "outputs": [
        {
          "output_type": "stream",
          "text": [
            "Epoch 1 | loss: 3.8118 | Train acc: 0.1019 | Val acc: 0.1009\n",
            "Epoch 2 | loss: 3.6089 | Train acc: 0.1005 | Val acc: 0.1004\n",
            "Epoch 3 | loss: 3.6095 | Train acc: 0.1010 | Val acc: 0.1004\n",
            "Epoch 4 | loss: 3.6075 | Train acc: 0.1003 | Val acc: 0.1001\n",
            "Epoch 5 | loss: 3.6082 | Train acc: 0.1008 | Val acc: 0.1003\n",
            "Epoch 6 | loss: 3.6079 | Train acc: 0.1002 | Val acc: 0.1002\n",
            "Epoch 7 | loss: 3.6070 | Train acc: 0.1006 | Val acc: 0.1003\n",
            "Epoch 8 | loss: 3.6066 | Train acc: 0.1005 | Val acc: 0.1003\n",
            "Epoch 9 | loss: 3.6064 | Train acc: 0.0986 | Val acc: 0.0990\n",
            "Epoch 10 | loss: 3.6058 | Train acc: 0.1009 | Val acc: 0.1005\n",
            "Epoch 11 | loss: 3.5749 | Train acc: 0.1204 | Val acc: 0.1213\n",
            "Epoch 12 | loss: 3.5544 | Train acc: 0.1209 | Val acc: 0.1195\n",
            "Epoch 13 | loss: 3.1537 | Train acc: 0.2693 | Val acc: 0.2670\n",
            "Epoch 14 | loss: 2.7399 | Train acc: 0.3557 | Val acc: 0.3550\n",
            "Epoch 15 | loss: 2.5227 | Train acc: 0.4229 | Val acc: 0.4125\n",
            "Epoch 16 | loss: 2.3317 | Train acc: 0.4671 | Val acc: 0.4617\n",
            "Epoch 17 | loss: 2.1745 | Train acc: 0.5014 | Val acc: 0.4972\n",
            "Epoch 18 | loss: 1.9990 | Train acc: 0.5606 | Val acc: 0.5456\n",
            "Epoch 19 | loss: 1.8488 | Train acc: 0.5846 | Val acc: 0.5680\n",
            "Epoch 20 | loss: 1.7385 | Train acc: 0.6146 | Val acc: 0.5918\n",
            "Epoch 21 | loss: 1.6268 | Train acc: 0.6480 | Val acc: 0.6219\n",
            "Epoch 22 | loss: 1.5227 | Train acc: 0.6578 | Val acc: 0.6307\n",
            "Epoch 23 | loss: 1.4318 | Train acc: 0.6957 | Val acc: 0.6616\n",
            "Epoch 24 | loss: 1.3502 | Train acc: 0.7214 | Val acc: 0.6800\n",
            "Epoch 25 | loss: 1.2548 | Train acc: 0.7316 | Val acc: 0.6909\n",
            "Epoch 26 | loss: 1.1791 | Train acc: 0.7654 | Val acc: 0.7141\n",
            "Epoch 27 | loss: 1.1109 | Train acc: 0.7758 | Val acc: 0.7119\n",
            "Epoch 28 | loss: 1.0465 | Train acc: 0.7833 | Val acc: 0.7155\n",
            "Epoch 29 | loss: 0.9745 | Train acc: 0.8011 | Val acc: 0.7301\n",
            "Epoch 30 | loss: 0.9175 | Train acc: 0.8031 | Val acc: 0.7268\n",
            "Epoch 31 | loss: 0.8627 | Train acc: 0.8166 | Val acc: 0.7230\n",
            "Epoch 32 | loss: 0.8058 | Train acc: 0.8510 | Val acc: 0.7464\n",
            "Epoch 33 | loss: 0.7482 | Train acc: 0.8591 | Val acc: 0.7477\n",
            "Epoch 34 | loss: 0.6950 | Train acc: 0.8819 | Val acc: 0.7541\n",
            "Epoch 35 | loss: 0.6447 | Train acc: 0.8924 | Val acc: 0.7594\n",
            "Epoch 36 | loss: 0.5899 | Train acc: 0.9016 | Val acc: 0.7460\n",
            "Epoch 37 | loss: 0.5411 | Train acc: 0.9072 | Val acc: 0.7493\n",
            "Epoch 38 | loss: 0.4987 | Train acc: 0.9086 | Val acc: 0.7458\n",
            "Epoch 39 | loss: 0.4515 | Train acc: 0.9312 | Val acc: 0.7536\n",
            "Epoch 40 | loss: 0.4122 | Train acc: 0.9384 | Val acc: 0.7487\n",
            "Epoch 41 | loss: 0.3694 | Train acc: 0.9431 | Val acc: 0.7432\n",
            "Epoch 42 | loss: 0.3318 | Train acc: 0.9566 | Val acc: 0.7523\n",
            "Epoch 43 | loss: 0.2990 | Train acc: 0.9649 | Val acc: 0.7548\n",
            "Epoch 44 | loss: 0.2703 | Train acc: 0.9681 | Val acc: 0.7518\n",
            "Epoch 45 | loss: 0.2319 | Train acc: 0.9791 | Val acc: 0.7581\n",
            "Epoch 46 | loss: 0.2130 | Train acc: 0.9768 | Val acc: 0.7530\n",
            "Epoch 47 | loss: 0.1915 | Train acc: 0.9765 | Val acc: 0.7470\n",
            "Epoch 48 | loss: 0.1684 | Train acc: 0.9842 | Val acc: 0.7553\n",
            "Epoch 49 | loss: 0.1453 | Train acc: 0.9861 | Val acc: 0.7568\n",
            "Epoch 50 | loss: 0.1365 | Train acc: 0.9888 | Val acc: 0.7470\n",
            "Epoch 51 | loss: 0.1204 | Train acc: 0.9902 | Val acc: 0.7541\n",
            "Epoch 52 | loss: 0.1048 | Train acc: 0.9922 | Val acc: 0.7517\n",
            "Epoch 53 | loss: 0.0875 | Train acc: 0.9944 | Val acc: 0.7550\n",
            "Epoch 54 | loss: 0.0818 | Train acc: 0.9938 | Val acc: 0.7515\n",
            "Epoch 55 | loss: 0.0692 | Train acc: 0.9951 | Val acc: 0.7517\n",
            "Epoch 56 | loss: 0.0656 | Train acc: 0.9978 | Val acc: 0.7593\n",
            "Epoch 57 | loss: 0.0503 | Train acc: 0.9978 | Val acc: 0.7575\n",
            "Epoch 58 | loss: 0.0491 | Train acc: 0.9986 | Val acc: 0.7559\n",
            "Epoch 59 | loss: 0.0420 | Train acc: 0.9991 | Val acc: 0.7549\n",
            "Epoch 60 | loss: 0.0406 | Train acc: 0.9990 | Val acc: 0.7565\n",
            "Epoch 61 | loss: 0.0329 | Train acc: 0.9991 | Val acc: 0.7535\n",
            "Epoch 62 | loss: 0.0282 | Train acc: 0.9994 | Val acc: 0.7571\n",
            "Epoch 63 | loss: 0.0304 | Train acc: 0.9994 | Val acc: 0.7583\n",
            "Epoch 64 | loss: 0.0246 | Train acc: 0.9995 | Val acc: 0.7553\n",
            "Epoch 65 | loss: 0.0236 | Train acc: 0.9996 | Val acc: 0.7556\n",
            "Epoch 66 | loss: 0.0165 | Train acc: 0.9999 | Val acc: 0.7549\n",
            "Epoch 67 | loss: 0.0192 | Train acc: 0.9999 | Val acc: 0.7587\n",
            "Epoch 68 | loss: 0.0139 | Train acc: 0.9999 | Val acc: 0.7609\n",
            "Epoch 69 | loss: 0.0116 | Train acc: 1.0000 | Val acc: 0.7610\n",
            "Epoch 70 | loss: 0.0111 | Train acc: 1.0000 | Val acc: 0.7597\n",
            "Epoch 71 | loss: 0.0120 | Train acc: 0.9999 | Val acc: 0.7584\n",
            "Epoch 72 | loss: 0.0109 | Train acc: 1.0000 | Val acc: 0.7602\n",
            "Epoch 73 | loss: 0.0093 | Train acc: 1.0000 | Val acc: 0.7608\n",
            "Epoch 74 | loss: 0.0112 | Train acc: 0.9999 | Val acc: 0.7598\n",
            "Epoch 75 | loss: 0.0079 | Train acc: 1.0000 | Val acc: 0.7589\n",
            "Epoch 76 | loss: 0.0081 | Train acc: 1.0000 | Val acc: 0.7598\n",
            "Epoch 77 | loss: 0.0072 | Train acc: 1.0000 | Val acc: 0.7597\n",
            "Epoch 78 | loss: 0.0066 | Train acc: 1.0000 | Val acc: 0.7623\n",
            "Epoch 79 | loss: 0.0054 | Train acc: 1.0000 | Val acc: 0.7593\n",
            "Epoch 80 | loss: 0.0053 | Train acc: 1.0000 | Val acc: 0.7632\n",
            "Epoch 81 | loss: 0.0057 | Train acc: 1.0000 | Val acc: 0.7601\n",
            "Epoch 82 | loss: 0.0034 | Train acc: 1.0000 | Val acc: 0.7617\n",
            "Epoch 83 | loss: 0.0059 | Train acc: 1.0000 | Val acc: 0.7642\n",
            "Epoch 84 | loss: 0.0044 | Train acc: 1.0000 | Val acc: 0.7602\n",
            "Epoch 85 | loss: 0.0050 | Train acc: 1.0000 | Val acc: 0.7606\n",
            "Epoch 86 | loss: 0.0032 | Train acc: 1.0000 | Val acc: 0.7597\n",
            "Epoch 87 | loss: 0.0029 | Train acc: 1.0000 | Val acc: 0.7591\n",
            "Epoch 88 | loss: 0.0038 | Train acc: 1.0000 | Val acc: 0.7582\n",
            "Epoch 89 | loss: 0.0027 | Train acc: 1.0000 | Val acc: 0.7592\n",
            "Epoch 90 | loss: 0.0035 | Train acc: 1.0000 | Val acc: 0.7617\n",
            "Epoch 91 | loss: 0.0026 | Train acc: 1.0000 | Val acc: 0.7610\n",
            "Epoch 92 | loss: 0.0031 | Train acc: 1.0000 | Val acc: 0.7609\n",
            "Epoch 93 | loss: 0.0025 | Train acc: 1.0000 | Val acc: 0.7588\n",
            "Epoch 94 | loss: 0.0035 | Train acc: 1.0000 | Val acc: 0.7594\n",
            "Epoch 95 | loss: 0.0026 | Train acc: 1.0000 | Val acc: 0.7594\n",
            "Epoch 96 | loss: 0.0021 | Train acc: 1.0000 | Val acc: 0.7591\n",
            "Epoch 97 | loss: 0.0025 | Train acc: 1.0000 | Val acc: 0.7609\n",
            "Epoch 98 | loss: 0.0025 | Train acc: 1.0000 | Val acc: 0.7610\n",
            "Epoch 99 | loss: 0.0029 | Train acc: 1.0000 | Val acc: 0.7596\n",
            "Epoch 100 | loss: 0.0025 | Train acc: 1.0000 | Val acc: 0.7612\n"
          ],
          "name": "stdout"
        }
      ]
    },
    {
      "cell_type": "code",
      "metadata": {
        "colab": {
          "base_uri": "https://localhost:8080/",
          "height": 295
        },
        "id": "KHxzSVoN_jHN",
        "outputId": "f7bf6179-1c23-47eb-f5b9-382f0f12cdbd"
      },
      "source": [
        "plt.plot(list(history_loss), label='true labels')\n",
        "plt.xlabel('Training Steps')\n",
        "plt.ylabel('loss')\n",
        "plt.title('Inception Small on Cifar-10')\n",
        "plt.show()"
      ],
      "execution_count": 12,
      "outputs": [
        {
          "output_type": "display_data",
          "data": {
            "image/png": "[encoded data removed]",
            "text/plain": [
              "<Figure size 432x288 with 1 Axes>"
            ]
          },
          "metadata": {
            "tags": [],
            "needs_background": "light"
          }
        }
      ]
    },
    {
      "cell_type": "code",
      "metadata": {
        "colab": {
          "base_uri": "https://localhost:8080/"
        },
        "id": "UW2u4t_cbttO",
        "outputId": "673e8a2b-cff0-4c9b-8f0c-8bb6ba956850"
      },
      "source": [
        "net = InceptionSmall().to(device)\n",
        "optimizer = torch.optim.SGD(net.parameters(), lr=0.1, momentum=0.9)\n",
        "scheduler = torch.optim.lr_scheduler.StepLR(optimizer, 1, gamma=0.95)\n",
        "trained_model,history_t1,history_v1, history_loss_random = fit(100, net, trainloader, testloader, optimizer,scheduler, name='random_labels', random_shuffle=True)"
      ],
      "execution_count": null,
      "outputs": [
        {
          "output_type": "stream",
          "text": [
            "Epoch 1 | loss: 3.9750 | Train acc: 0.1000 | Val acc: 0.1002\n"
          ],
          "name": "stdout"
        }
      ]
    },
    {
      "cell_type": "code",
      "metadata": {
        "id": "uu2Mwe24yKeM"
      },
      "source": [
        "plt.plot(list(history_loss_random), label='random labels')\n",
        "plt.xlabel('Training Steps')\n",
        "plt.ylabel('loss')\n",
        "plt.title('Inception Small on Cifar-10')\n",
        "plt.show()"
      ],
      "execution_count": null,
      "outputs": []
    },
    {
      "cell_type": "code",
      "metadata": {
        "id": "DHayOjg__ayj"
      },
      "source": [
        "net = InceptionSmall().to(device)\n",
        "optimizer = torch.optim.SGD(net.parameters(), lr=0.1, momentum=0.9)\n",
        "scheduler = torch.optim.lr_scheduler.StepLR(optimizer, 1, gamma=0.95)\n",
        "trained_model,history_t1,history_v1, history_loss_shuffled_pixels = fit(100, net, trainloader, testloader, optimizer,scheduler, name='shuffled_pixels', shuffled_pixels=True)"
      ],
      "execution_count": null,
      "outputs": []
    },
    {
      "cell_type": "code",
      "metadata": {
        "id": "Megt5Vbh_iLg"
      },
      "source": [
        "plt.plot(list(history_loss_shuffled_pixels), label='shuffled pixels')\n",
        "plt.xlabel('Training Steps')\n",
        "plt.ylabel('loss')\n",
        "plt.title('Inception Small on Cifar-10')\n",
        "plt.show()"
      ],
      "execution_count": null,
      "outputs": []
    }
  ]
}