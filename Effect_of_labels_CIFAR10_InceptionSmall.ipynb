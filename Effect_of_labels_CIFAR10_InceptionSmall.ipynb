{
  "nbformat": 4,
  "nbformat_minor": 0,
  "metadata": {
    "colab": {
      "name": "Effect of labels_CIFAR10_InceptionSmall.ipynb",
      "provenance": []
    },
    "kernelspec": {
      "name": "python3",
      "display_name": "Python 3"
    },
    "language_info": {
      "name": "python"
    },
    "accelerator": "GPU",
    "widgets": {
      "application/vnd.jupyter.widget-state+json": {
        "81d5dc2594a14a51a74585369f49e938": {
          "model_module": "@jupyter-widgets/controls",
          "model_name": "HBoxModel",
          "state": {
            "_view_name": "HBoxView",
            "_dom_classes": [],
            "_model_name": "HBoxModel",
            "_view_module": "@jupyter-widgets/controls",
            "_model_module_version": "1.5.0",
            "_view_count": null,
            "_view_module_version": "1.5.0",
            "box_style": "",
            "layout": "IPY_MODEL_64b7a773dd6a4e80b37a052618c8740f",
            "_model_module": "@jupyter-widgets/controls",
            "children": [
              "IPY_MODEL_c8b16d7c7cca415eafe29cce6c0588c3",
              "IPY_MODEL_19d17dc860964a2294262922aee5cf76"
            ]
          }
        },
        "64b7a773dd6a4e80b37a052618c8740f": {
          "model_module": "@jupyter-widgets/base",
          "model_name": "LayoutModel",
          "state": {
            "_view_name": "LayoutView",
            "grid_template_rows": null,
            "right": null,
            "justify_content": null,
            "_view_module": "@jupyter-widgets/base",
            "overflow": null,
            "_model_module_version": "1.2.0",
            "_view_count": null,
            "flex_flow": null,
            "width": null,
            "min_width": null,
            "border": null,
            "align_items": null,
            "bottom": null,
            "_model_module": "@jupyter-widgets/base",
            "top": null,
            "grid_column": null,
            "overflow_y": null,
            "overflow_x": null,
            "grid_auto_flow": null,
            "grid_area": null,
            "grid_template_columns": null,
            "flex": null,
            "_model_name": "LayoutModel",
            "justify_items": null,
            "grid_row": null,
            "max_height": null,
            "align_content": null,
            "visibility": null,
            "align_self": null,
            "height": null,
            "min_height": null,
            "padding": null,
            "grid_auto_rows": null,
            "grid_gap": null,
            "max_width": null,
            "order": null,
            "_view_module_version": "1.2.0",
            "grid_template_areas": null,
            "object_position": null,
            "object_fit": null,
            "grid_auto_columns": null,
            "margin": null,
            "display": null,
            "left": null
          }
        },
        "c8b16d7c7cca415eafe29cce6c0588c3": {
          "model_module": "@jupyter-widgets/controls",
          "model_name": "FloatProgressModel",
          "state": {
            "_view_name": "ProgressView",
            "style": "IPY_MODEL_5b1ed90cc3a6443091e3e749b964e008",
            "_dom_classes": [],
            "description": "",
            "_model_name": "FloatProgressModel",
            "bar_style": "success",
            "max": 170498071,
            "_view_module": "@jupyter-widgets/controls",
            "_model_module_version": "1.5.0",
            "value": 170498071,
            "_view_count": null,
            "_view_module_version": "1.5.0",
            "orientation": "horizontal",
            "min": 0,
            "description_tooltip": null,
            "_model_module": "@jupyter-widgets/controls",
            "layout": "IPY_MODEL_d29548b4047a461aa3d7cd98150af348"
          }
        },
        "19d17dc860964a2294262922aee5cf76": {
          "model_module": "@jupyter-widgets/controls",
          "model_name": "HTMLModel",
          "state": {
            "_view_name": "HTMLView",
            "style": "IPY_MODEL_38e8ab92f3b4421c95a6901ea1bf97f5",
            "_dom_classes": [],
            "description": "",
            "_model_name": "HTMLModel",
            "placeholder": "​",
            "_view_module": "@jupyter-widgets/controls",
            "_model_module_version": "1.5.0",
            "value": " 170499072/? [10:15&lt;00:00, 277233.36it/s]",
            "_view_count": null,
            "_view_module_version": "1.5.0",
            "description_tooltip": null,
            "_model_module": "@jupyter-widgets/controls",
            "layout": "IPY_MODEL_145482dabbea482f8e806fb25ae49bf3"
          }
        },
        "5b1ed90cc3a6443091e3e749b964e008": {
          "model_module": "@jupyter-widgets/controls",
          "model_name": "ProgressStyleModel",
          "state": {
            "_view_name": "StyleView",
            "_model_name": "ProgressStyleModel",
            "description_width": "initial",
            "_view_module": "@jupyter-widgets/base",
            "_model_module_version": "1.5.0",
            "_view_count": null,
            "_view_module_version": "1.2.0",
            "bar_color": null,
            "_model_module": "@jupyter-widgets/controls"
          }
        },
        "d29548b4047a461aa3d7cd98150af348": {
          "model_module": "@jupyter-widgets/base",
          "model_name": "LayoutModel",
          "state": {
            "_view_name": "LayoutView",
            "grid_template_rows": null,
            "right": null,
            "justify_content": null,
            "_view_module": "@jupyter-widgets/base",
            "overflow": null,
            "_model_module_version": "1.2.0",
            "_view_count": null,
            "flex_flow": null,
            "width": null,
            "min_width": null,
            "border": null,
            "align_items": null,
            "bottom": null,
            "_model_module": "@jupyter-widgets/base",
            "top": null,
            "grid_column": null,
            "overflow_y": null,
            "overflow_x": null,
            "grid_auto_flow": null,
            "grid_area": null,
            "grid_template_columns": null,
            "flex": null,
            "_model_name": "LayoutModel",
            "justify_items": null,
            "grid_row": null,
            "max_height": null,
            "align_content": null,
            "visibility": null,
            "align_self": null,
            "height": null,
            "min_height": null,
            "padding": null,
            "grid_auto_rows": null,
            "grid_gap": null,
            "max_width": null,
            "order": null,
            "_view_module_version": "1.2.0",
            "grid_template_areas": null,
            "object_position": null,
            "object_fit": null,
            "grid_auto_columns": null,
            "margin": null,
            "display": null,
            "left": null
          }
        },
        "38e8ab92f3b4421c95a6901ea1bf97f5": {
          "model_module": "@jupyter-widgets/controls",
          "model_name": "DescriptionStyleModel",
          "state": {
            "_view_name": "StyleView",
            "_model_name": "DescriptionStyleModel",
            "description_width": "",
            "_view_module": "@jupyter-widgets/base",
            "_model_module_version": "1.5.0",
            "_view_count": null,
            "_view_module_version": "1.2.0",
            "_model_module": "@jupyter-widgets/controls"
          }
        },
        "145482dabbea482f8e806fb25ae49bf3": {
          "model_module": "@jupyter-widgets/base",
          "model_name": "LayoutModel",
          "state": {
            "_view_name": "LayoutView",
            "grid_template_rows": null,
            "right": null,
            "justify_content": null,
            "_view_module": "@jupyter-widgets/base",
            "overflow": null,
            "_model_module_version": "1.2.0",
            "_view_count": null,
            "flex_flow": null,
            "width": null,
            "min_width": null,
            "border": null,
            "align_items": null,
            "bottom": null,
            "_model_module": "@jupyter-widgets/base",
            "top": null,
            "grid_column": null,
            "overflow_y": null,
            "overflow_x": null,
            "grid_auto_flow": null,
            "grid_area": null,
            "grid_template_columns": null,
            "flex": null,
            "_model_name": "LayoutModel",
            "justify_items": null,
            "grid_row": null,
            "max_height": null,
            "align_content": null,
            "visibility": null,
            "align_self": null,
            "height": null,
            "min_height": null,
            "padding": null,
            "grid_auto_rows": null,
            "grid_gap": null,
            "max_width": null,
            "order": null,
            "_view_module_version": "1.2.0",
            "grid_template_areas": null,
            "object_position": null,
            "object_fit": null,
            "grid_auto_columns": null,
            "margin": null,
            "display": null,
            "left": null
          }
        }
      }
    }
  },
  "cells": [
    {
      "cell_type": "code",
      "metadata": {
        "id": "K4fpoGNN7tVd"
      },
      "source": [
        "import torch\n",
        "import torchvision\n",
        "import torchvision.transforms as transforms\n",
        "import torch.nn as nn\n",
        "import numpy as np\n",
        "import matplotlib.pyplot as plt\n",
        "%matplotlib inline\n",
        "from torchsummary import summary\n",
        "import pandas as pd"
      ],
      "execution_count": 1,
      "outputs": []
    },
    {
      "cell_type": "code",
      "metadata": {
        "id": "fpF9eBfUzJQi"
      },
      "source": [
        "transform = transforms.Compose([transforms.ToTensor(),transforms.CenterCrop(28),transforms.Normalize((0.5, 0.5, 0.5), (0.5, 0.5, 0.5))])"
      ],
      "execution_count": 2,
      "outputs": []
    },
    {
      "cell_type": "code",
      "metadata": {
        "colab": {
          "base_uri": "https://localhost:8080/",
          "height": 100,
          "referenced_widgets": [
            "81d5dc2594a14a51a74585369f49e938",
            "64b7a773dd6a4e80b37a052618c8740f",
            "c8b16d7c7cca415eafe29cce6c0588c3",
            "19d17dc860964a2294262922aee5cf76",
            "5b1ed90cc3a6443091e3e749b964e008",
            "d29548b4047a461aa3d7cd98150af348",
            "38e8ab92f3b4421c95a6901ea1bf97f5",
            "145482dabbea482f8e806fb25ae49bf3"
          ]
        },
        "id": "FYeskUTS7lu3",
        "outputId": "ceab3701-6622-4423-abe7-e0b2402903ea"
      },
      "source": [
        "trainset = torchvision.datasets.CIFAR10(root='./', train=True, download=True, transform=transform)\n",
        "testset = torchvision.datasets.CIFAR10(root='./', train=False, transform=transform)"
      ],
      "execution_count": 3,
      "outputs": [
        {
          "output_type": "stream",
          "text": [
            "Downloading https://www.cs.toronto.edu/~kriz/cifar-10-python.tar.gz to ./cifar-10-python.tar.gz\n"
          ],
          "name": "stdout"
        },
        {
          "output_type": "display_data",
          "data": {
            "application/vnd.jupyter.widget-view+json": {
              "model_id": "81d5dc2594a14a51a74585369f49e938",
              "version_minor": 0,
              "version_major": 2
            },
            "text/plain": [
              "HBox(children=(FloatProgress(value=0.0, max=170498071.0), HTML(value='')))"
            ]
          },
          "metadata": {
            "tags": []
          }
        },
        {
          "output_type": "stream",
          "text": [
            "\n",
            "Extracting ./cifar-10-python.tar.gz to ./\n"
          ],
          "name": "stdout"
        }
      ]
    },
    {
      "cell_type": "code",
      "metadata": {
        "id": "kA0e2l4a7yL3"
      },
      "source": [
        "trainloader = torch.utils.data.DataLoader(trainset,batch_size=32, shuffle=True, num_workers=2,pin_memory=True)\n",
        "testloader = torch.utils.data.DataLoader(testset,batch_size=32, shuffle=False, num_workers=2,pin_memory=True)"
      ],
      "execution_count": 4,
      "outputs": []
    },
    {
      "cell_type": "code",
      "metadata": {
        "id": "RKffneOVzAC0"
      },
      "source": [
        "class ConvModule(nn.Module):\n",
        "    def __init__(self, in_channels, out_channels, kernel_size, stride, padding):\n",
        "        super(ConvModule, self).__init__()\n",
        "        \n",
        "        self.conv = nn.Conv2d(in_channels, out_channels, kernel_size, stride, padding)\n",
        "        self.bn = nn.BatchNorm2d(out_channels)\n",
        "        self.act = nn.ReLU()\n",
        "        \n",
        "    def forward(self, x):\n",
        "        x = self.conv(x)\n",
        "        x = self.bn(x)\n",
        "        x = self.act(x)\n",
        "        return x\n",
        " \n",
        "class InceptionModule(nn.Module):\n",
        "    \n",
        "    def __init__(self, in_channels, f_1x1, f_3x3):\n",
        "        super(InceptionModule, self).__init__()\n",
        "        \n",
        "        self.branch1 = nn.Sequential(\n",
        "            ConvModule(in_channels, f_1x1, kernel_size=1, stride=1, padding=0)\n",
        "        )\n",
        "        \n",
        "        self.branch2 = nn.Sequential(\n",
        "            ConvModule(in_channels, f_3x3, kernel_size=3, stride=1, padding=1)\n",
        "        )\n",
        "                \n",
        "    def forward(self, x):\n",
        "        branch1 = self.branch1(x)\n",
        "        branch2 = self.branch2(x)\n",
        "        return torch.cat([branch1, branch2], 1)\n",
        "\n",
        "\n",
        "class DownsampleModule(nn.Module):\n",
        "    def __init__(self, in_channels, f_3x3):\n",
        "        super(DownsampleModule, self).__init__()\n",
        "    \n",
        "        self.branch1 = nn.Sequential(ConvModule(in_channels, f_3x3, kernel_size=3, stride=2, padding=0))\n",
        "        self.branch2 = nn.MaxPool2d(3, stride=2)\n",
        "    \n",
        "    def forward(self, x):\n",
        "        branch1 = self.branch1(x)\n",
        "        branch2 = self.branch2(x)\n",
        "        return torch.cat([branch1, branch2], 1)\n",
        "   \n",
        "class InceptionSmall(nn.Module):\n",
        "    def __init__(self, num_classes = 10):\n",
        "        super(InceptionSmall, self).__init__()\n",
        "        \n",
        "        self.conv1 = ConvModule(in_channels =3,out_channels=96, kernel_size=3, stride=1, padding=0)\n",
        "        self.inception1 = InceptionModule(in_channels=96,f_1x1=32,f_3x3=32)\n",
        "        self.inception2 = InceptionModule(in_channels=64,f_1x1=32,f_3x3=48)\n",
        "        self.down1 = DownsampleModule(in_channels=80,f_3x3=80)\n",
        "        self.inception3 = InceptionModule(in_channels=160,f_1x1=112,f_3x3=48)\n",
        "        self.inception4 = InceptionModule(in_channels=160,f_1x1=96,f_3x3=64)\n",
        "        self.inception5 = InceptionModule(in_channels=160,f_1x1=80,f_3x3=80)\n",
        "        self.inception6 = InceptionModule(in_channels=160,f_1x1=48,f_3x3=96)   \n",
        "        self.down2 = DownsampleModule(in_channels=144,f_3x3=96)\n",
        "        self.inception7 = InceptionModule(in_channels=240,f_1x1=176,f_3x3=160)\n",
        "        self.inception8 = InceptionModule(in_channels=336,f_1x1=176,f_3x3=160)\n",
        "        self.meanpool = nn.AdaptiveAvgPool2d((7,7))\n",
        "        self.fc = nn.Linear(16464, num_classes)\n",
        "       \n",
        "    def forward(self, x):\n",
        "        x = self.conv1(x)\n",
        "        x = self.inception1(x)\n",
        "        x = self.inception2(x)\n",
        "        x = self.down1(x)\n",
        "        x = self.inception3(x)\n",
        "        x = self.inception4(x)\n",
        "        x = self.inception5(x)\n",
        "        x = self.inception6(x)\n",
        "        x = self.down2(x)\n",
        "        x = self.inception7(x)\n",
        "        x = self.inception8(x)\n",
        "        x = self.meanpool(x)\n",
        "        x = torch.flatten(x,1)\n",
        "        x = self.fc(x)\n",
        "        return x"
      ],
      "execution_count": 5,
      "outputs": []
    },
    {
      "cell_type": "code",
      "metadata": {
        "colab": {
          "base_uri": "https://localhost:8080/"
        },
        "id": "0Mo8l9Y_76_T",
        "outputId": "0dd21aa6-d6b6-4373-c339-26876226ea0b"
      },
      "source": [
        "def get_device():\n",
        "  if torch.cuda.is_available():\n",
        "      return torch.device('cuda')\n",
        "  else:\n",
        "      return torch.device('cpu')\n",
        "device = get_device()\n",
        "device"
      ],
      "execution_count": 6,
      "outputs": [
        {
          "output_type": "execute_result",
          "data": {
            "text/plain": [
              "device(type='cuda')"
            ]
          },
          "metadata": {
            "tags": []
          },
          "execution_count": 6
        }
      ]
    },
    {
      "cell_type": "code",
      "metadata": {
        "id": "YcszL06Dw0ZA"
      },
      "source": [
        "def eval_model(model,trainloader,testloader):\n",
        "  model.eval()\n",
        "  correct = 0\n",
        "  total = 0\n",
        "  for i, data in enumerate(testloader, 0):\n",
        "    images, labels = data[0].to(device), data[1].to(device)\n",
        "    outputs = model(images)\n",
        "    _, preds = torch.max(outputs, dim=1)\n",
        "    total += labels.size(0)\n",
        "    correct += (preds == labels).sum().item()\n",
        "  acc_v = (correct / total)\n",
        "\n",
        "  correct = 0\n",
        "  total = 0            \n",
        "  for i, data in enumerate(trainloader, 0):\n",
        "    images, labels = data[0].to(device), data[1].to(device)\n",
        "    outputs = model(images)\n",
        "    _, preds = torch.max(outputs, dim=1)\n",
        "    total += labels.size(0)\n",
        "    correct += (preds == labels).sum().item()\n",
        "  acc_t = (correct / total)\n",
        "  return acc_t,acc_v\n",
        "\n",
        "def fit(epoch, model, trainloader, testloader, optimizer,scheduler,name='model'):\n",
        "  history_t = []\n",
        "  history_v = []\n",
        "  history_loss = []\n",
        "  step_count = 0\n",
        "  criterion = nn.CrossEntropyLoss().to(device)\n",
        "  for epoch in range(epoch):  \n",
        "    running_loss = 0.0\n",
        "    for i, data in enumerate(trainloader, 0):\n",
        "      inputs, labels = data[0].to(device), data[1].to(device)\n",
        "      optimizer.zero_grad()\n",
        "      outputs = model(inputs)\n",
        "      loss = criterion(outputs, labels)\n",
        "      loss.backward()\n",
        "      optimizer.step()\n",
        "      running_loss += loss.item()\n",
        "      step_count += 1\n",
        "      if step_count%1000==0:\n",
        "        acc_t,acc_v = eval_model(model,trainloader,testloader)\n",
        "        model.train()\n",
        "        history_t.append(acc_t)\n",
        "        history_v.append(acc_v)\n",
        "        history_loss.append(running_loss/1000)\n",
        "        log_ = str(step_count)+\",\"+str(acc_t)+\",\"+str(acc_v)+ \",\" + str(running_loss/1000)+\"\\n\"\n",
        "        with open(\"{}.log\".format(name), \"a\") as f:\n",
        "          f.write(log_)\n",
        "    print(\"Epoch {} | loss: {:.4f} | Train acc: {:.4f} | Val acc: {:.4f}\".format(epoch+1, running_loss/1000,acc_t, acc_v))\n",
        "    scheduler.step()\n",
        "  return model,history_t,history_v, history_loss"
      ],
      "execution_count": 9,
      "outputs": []
    },
    {
      "cell_type": "code",
      "metadata": {
        "id": "eodRzVV1CJkM",
        "colab": {
          "base_uri": "https://localhost:8080/"
        },
        "outputId": "ac548141-fb17-4e05-f287-ea0a6f015905"
      },
      "source": [
        "net = InceptionSmall().to(device)\n",
        "optimizer = torch.optim.SGD(net.parameters(), lr=0.1, momentum=0.9)\n",
        "scheduler = torch.optim.lr_scheduler.StepLR(optimizer, 1, gamma=0.95)\n",
        "trained_model,history_t1,history_v1, history_loss = fit(100, net, trainloader, testloader, optimizer,scheduler, name='normal_labels')"
      ],
      "execution_count": null,
      "outputs": [
        {
          "output_type": "stream",
          "text": [
            "Epoch 1 | loss: 3.8854 | Train acc: 0.1000 | Val acc: 0.0999\n",
            "Epoch 2 | loss: 3.6092 | Train acc: 0.0999 | Val acc: 0.1001\n",
            "Epoch 3 | loss: 3.6093 | Train acc: 0.1000 | Val acc: 0.1000\n",
            "Epoch 4 | loss: 3.6075 | Train acc: 0.1000 | Val acc: 0.0999\n",
            "Epoch 5 | loss: 3.6077 | Train acc: 0.1003 | Val acc: 0.1002\n",
            "Epoch 6 | loss: 3.6075 | Train acc: 0.1001 | Val acc: 0.0999\n",
            "Epoch 7 | loss: 3.6072 | Train acc: 0.1005 | Val acc: 0.1006\n",
            "Epoch 8 | loss: 3.6065 | Train acc: 0.0999 | Val acc: 0.1001\n",
            "Epoch 9 | loss: 3.6061 | Train acc: 0.1000 | Val acc: 0.1000\n",
            "Epoch 10 | loss: 3.6055 | Train acc: 0.0992 | Val acc: 0.0990\n",
            "Epoch 11 | loss: 3.6055 | Train acc: 0.1000 | Val acc: 0.1000\n",
            "Epoch 12 | loss: 3.6056 | Train acc: 0.1000 | Val acc: 0.1000\n",
            "Epoch 13 | loss: 3.6043 | Train acc: 0.1004 | Val acc: 0.1005\n",
            "Epoch 14 | loss: 3.6052 | Train acc: 0.1000 | Val acc: 0.1000\n",
            "Epoch 15 | loss: 3.6045 | Train acc: 0.1000 | Val acc: 0.1003\n",
            "Epoch 16 | loss: 3.6039 | Train acc: 0.1000 | Val acc: 0.0999\n"
          ],
          "name": "stdout"
        }
      ]
    },
    {
      "cell_type": "code",
      "metadata": {
        "colab": {
          "base_uri": "https://localhost:8080/",
          "height": 295
        },
        "id": "KHxzSVoN_jHN",
        "outputId": "6b2b14b5-c286-4aac-ffc5-41f336be15f1"
      },
      "source": [
        "plt.plot(list(history_t1), label='true labels')\n",
        "plt.xlabel('Training Steps')\n",
        "plt.ylabel('loss')\n",
        "plt.title('Inception Small on Cifar-10')\n",
        "plt.show()"
      ],
      "execution_count": null,
      "outputs": [
        {
          "output_type": "display_data",
          "data": {
            "image/png": "[encoded data removed]",
            "text/plain": [
              "<Figure size 432x288 with 1 Axes>"
            ]
          },
          "metadata": {
            "tags": [],
            "needs_background": "light"
          }
        }
      ]
    },
    {
      "cell_type": "code",
      "metadata": {
        "id": "UW2u4t_cbttO"
      },
      "source": [
        "# generating random labels"
      ],
      "execution_count": null,
      "outputs": []
    }
  ]
}