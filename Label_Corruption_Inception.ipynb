{
  "nbformat": 4,
  "nbformat_minor": 0,
  "metadata": {
    "colab": {
      "name": "Label Corruption Inception",
      "provenance": [],
      "collapsed_sections": []
    },
    "kernelspec": {
      "name": "python3",
      "display_name": "Python 3"
    },
    "language_info": {
      "name": "python"
    },
    "accelerator": "GPU"
  },
  "cells": [
    {
      "cell_type": "code",
      "metadata": {
        "id": "kB7QA29UuuzU"
      },
      "source": [
        "import math\n",
        "import copy\n",
        "import numpy as np\n",
        "\n",
        "import torch\n",
        "import torch.nn as nn\n",
        "import torch.nn.functional as F\n",
        "\n",
        "import torch\n",
        "import torchvision\n",
        "import torchvision.transforms as transforms\n",
        "import matplotlib.pyplot as plt\n",
        "import numpy as np\n",
        "import torch.nn as nn\n",
        "import torch.nn.functional as F\n",
        "from torch.utils.data.sampler import SubsetRandomSampler\n",
        "from torchvision.datasets import CIFAR10\n",
        "from torch.utils.data import DataLoader\n",
        "import torch.optim as optim\n",
        "import matplotlib.pyplot as plt\n",
        "from sklearn.metrics import accuracy_score, confusion_matrix, classification_report, f1_score, precision_score, recall_score\n",
        "import pandas as pd\n",
        "import time\n",
        "\n",
        "import pickle"
      ],
      "execution_count": 1,
      "outputs": []
    },
    {
      "cell_type": "code",
      "metadata": {
        "id": "6MNMdY7LW7zi"
      },
      "source": [
        "class CIFAR10Corrupted(CIFAR10):\n",
        "    def __init__(self, corrupt_prob, num_classes=10, **kwargs):\n",
        "        super().__init__(**kwargs)\n",
        "        if corrupt_prob > 0:\n",
        "            self.n_classes = num_classes\n",
        "            self.corrupt_labels(corrupt_prob)\n",
        "\n",
        "    def corrupt_labels(self, corrupt_prob):\n",
        "        labels = np.array(self.targets)\n",
        "        np.random.seed(42)\n",
        "        mask = np.random.rand(len(labels)) <= corrupt_prob\n",
        "        rnd_labels = np.random.choice(self.n_classes, mask.sum())\n",
        "        labels[mask] = rnd_labels\n",
        "        labels = [int(x) for x in labels]\n",
        "        self.targets = labels"
      ],
      "execution_count": 2,
      "outputs": []
    },
    {
      "cell_type": "code",
      "metadata": {
        "id": "aKogcB3OW-xy"
      },
      "source": [
        "def get_cifar_dataloaders_corrupted(corrupt_prob=0, batch_size=32):\n",
        "    transform = transforms.Compose(\n",
        "        [transforms.ToTensor(),\n",
        "        transforms.Normalize((0.5, 0.5, 0.5), (0.5, 0.5, 0.5))])\n",
        "\n",
        "    trainset = CIFAR10Corrupted(root='./CIFAR', train=True, download=True, transform=transform, corrupt_prob=corrupt_prob)\n",
        "    train_loader = DataLoader(trainset, batch_size = batch_size, shuffle = True)\n",
        "    testset = CIFAR10Corrupted(root='./CIFAR', train=False, download=True, transform=transform, corrupt_prob=corrupt_prob)\n",
        "    test_loader = DataLoader(testset, batch_size=batch_size, shuffle=False)\n",
        "    return train_loader, test_loader\n",
        "\n"
      ],
      "execution_count": 3,
      "outputs": []
    },
    {
      "cell_type": "code",
      "metadata": {
        "id": "jKKVFe1KxJFN"
      },
      "source": [
        "'''InceptionNet with PyTorch.'''\n",
        "import torch\n",
        "import torch.nn as nn\n",
        "import torch.nn.functional as F\n",
        "\n",
        "\n",
        "class Inception(nn.Module):\n",
        "    def __init__(self, in_planes, n1x1, n3x3red, n3x3, n5x5red, n5x5, pool_planes):\n",
        "        super(Inception, self).__init__()\n",
        "        # 1x1 conv branch\n",
        "        self.b1 = nn.Sequential(\n",
        "            nn.Conv2d(in_planes, n1x1, kernel_size=1),\n",
        "            nn.BatchNorm2d(n1x1),\n",
        "            nn.ReLU(True),\n",
        "        )\n",
        "\n",
        "        # 1x1 conv -> 3x3 conv branch\n",
        "        self.b2 = nn.Sequential(\n",
        "            nn.Conv2d(in_planes, n3x3red, kernel_size=1),\n",
        "            nn.BatchNorm2d(n3x3red),\n",
        "            nn.ReLU(True),\n",
        "            nn.Conv2d(n3x3red, n3x3, kernel_size=3, padding=1),\n",
        "            nn.BatchNorm2d(n3x3),\n",
        "            nn.ReLU(True),\n",
        "        )\n",
        "\n",
        "        # 1x1 conv -> 5x5 conv branch\n",
        "        self.b3 = nn.Sequential(\n",
        "            nn.Conv2d(in_planes, n5x5red, kernel_size=1),\n",
        "            nn.BatchNorm2d(n5x5red),\n",
        "            nn.ReLU(True),\n",
        "            nn.Conv2d(n5x5red, n5x5, kernel_size=3, padding=1),\n",
        "            nn.BatchNorm2d(n5x5),\n",
        "            nn.ReLU(True),\n",
        "            nn.Conv2d(n5x5, n5x5, kernel_size=3, padding=1),\n",
        "            nn.BatchNorm2d(n5x5),\n",
        "            nn.ReLU(True),\n",
        "        )\n",
        "\n",
        "        # 3x3 pool -> 1x1 conv branch\n",
        "        self.b4 = nn.Sequential(\n",
        "            nn.MaxPool2d(3, stride=1, padding=1),\n",
        "            nn.Conv2d(in_planes, pool_planes, kernel_size=1),\n",
        "            nn.BatchNorm2d(pool_planes),\n",
        "            nn.ReLU(True),\n",
        "        )\n",
        "\n",
        "    def forward(self, x):\n",
        "        y1 = self.b1(x)\n",
        "        y2 = self.b2(x)\n",
        "        y3 = self.b3(x)\n",
        "        y4 = self.b4(x)\n",
        "        return torch.cat([y1,y2,y3,y4], 1)\n",
        "\n",
        "\n",
        "class InceptionNet(nn.Module):\n",
        "    def __init__(self):\n",
        "        super().__init__()\n",
        "        self.pre_layers = nn.Sequential(\n",
        "            nn.Conv2d(3, 192, kernel_size=3, padding=1),\n",
        "            nn.BatchNorm2d(192),\n",
        "            nn.ReLU(True),\n",
        "        )\n",
        "\n",
        "        self.a3 = Inception(192,  64,  96, 128, 16, 32, 32)\n",
        "        self.b3 = Inception(256, 128, 128, 192, 32, 96, 64)\n",
        "\n",
        "        self.maxpool = nn.MaxPool2d(3, stride=2, padding=1)\n",
        "\n",
        "        self.a4 = Inception(480, 192,  96, 208, 16,  48,  64)\n",
        "        self.b4 = Inception(512, 160, 112, 224, 24,  64,  64)\n",
        "        self.c4 = Inception(512, 128, 128, 256, 24,  64,  64)\n",
        "        self.d4 = Inception(512, 112, 144, 288, 32,  64,  64)\n",
        "        self.e4 = Inception(528, 256, 160, 320, 32, 128, 128)\n",
        "\n",
        "        self.a5 = Inception(832, 256, 160, 320, 32, 128, 128)\n",
        "        self.b5 = Inception(832, 384, 192, 384, 48, 128, 128)\n",
        "\n",
        "        self.avgpool = nn.AvgPool2d(8, stride=1)\n",
        "        self.linear = nn.Linear(1024, 10)\n",
        "\n",
        "    def forward(self, x):\n",
        "        out = self.pre_layers(x)\n",
        "        out = self.a3(out)\n",
        "        out = self.b3(out)\n",
        "        out = self.maxpool(out)\n",
        "        out = self.a4(out)\n",
        "        out = self.b4(out)\n",
        "        out = self.c4(out)\n",
        "        out = self.d4(out)\n",
        "        out = self.e4(out)\n",
        "        out = self.maxpool(out)\n",
        "        out = self.a5(out)\n",
        "        out = self.b5(out)\n",
        "        out = self.avgpool(out)\n",
        "        out = out.view(out.size(0), -1)\n",
        "        out = self.linear(out)\n",
        "        return out\n",
        "\n",
        "\n"
      ],
      "execution_count": 4,
      "outputs": []
    },
    {
      "cell_type": "code",
      "metadata": {
        "id": "Hz1oQr_mxLcs"
      },
      "source": [
        "def run_train_single_epoch(train_loader, model, device, criterion, optimizer):\n",
        "    running_loss = 0.0\n",
        "    num_correct = 0\n",
        "    for batch_num, data in enumerate(train_loader):\n",
        "        inputs, labels = data\n",
        "        inputs = inputs.to(device)\n",
        "        labels = labels.to(device)\n",
        "        outputs = model(inputs)\n",
        "        loss = criterion(outputs, labels)\n",
        "        optimizer.zero_grad()\n",
        "        loss.backward()\n",
        "        optimizer.step()\n",
        "        running_loss += loss.item()*len(inputs)\n",
        "        if batch_num%200==0:\n",
        "            print(\"Batch {} Loss: {}\".format(batch_num, loss.item()))\n",
        "        preds = outputs.argmax(1)\n",
        "        num_correct += (preds==labels).sum().item()\n",
        "    epoch_loss = running_loss/len(train_loader.sampler)\n",
        "    epoch_acc = num_correct/len(train_loader.sampler)\n",
        "    return epoch_loss, epoch_acc\n",
        "\n",
        "def run_validation_single_epoch(valid_loader, model, device, criterion):\n",
        "    running_loss = 0.0\n",
        "    num_correct = 0\n",
        "    for batch_num, data in enumerate(valid_loader):\n",
        "        inputs, labels = data\n",
        "        inputs = inputs.to(device)\n",
        "        labels = labels.to(device)\n",
        "        outputs = model(inputs)\n",
        "        loss = criterion(outputs, labels)\n",
        "        running_loss += loss.item()*len(inputs)\n",
        "        preds = outputs.argmax(1)\n",
        "        num_correct += (preds==labels).sum().item()\n",
        "    epoch_loss = running_loss/len(valid_loader.sampler)\n",
        "    epoch_acc = num_correct/len(valid_loader.sampler)\n",
        "    return epoch_loss, epoch_acc\n",
        "\n",
        "def training_loop(model, num_epochs, train_loader, valid_loader, device, \\\n",
        "                  criterion, optimizer, model_name):\n",
        "    train_losses, valid_losses = [], []\n",
        "    train_accs, valid_accs = [], []\n",
        "    highest_acc = 1e-10\n",
        "    for epoch in range(num_epochs):\n",
        "        model.train()\n",
        "        train_loss, train_acc = run_train_single_epoch(train_loader, model, device, criterion, optimizer)\n",
        "        model.eval()\n",
        "        valid_loss, valid_acc = run_validation_single_epoch(valid_loader, model, device, criterion)\n",
        "        print(\"[Epoch {}] Train Loss: {} Vaidation Loss: {} Train Acc: {} Validation Acc: {}\".format(\\\n",
        "              epoch, train_loss, valid_loss, train_acc, valid_acc))\n",
        "        train_losses.append(train_loss)\n",
        "        valid_losses.append(valid_loss)\n",
        "        train_accs.append(train_acc)\n",
        "        valid_accs.append(valid_acc)\n",
        "        if valid_acc > highest_acc:\n",
        "            torch.save(model.state_dict(), \"{}.pth\".format(model_name))\n",
        "            highest_acc = valid_acc\n",
        "        else:\n",
        "            print(\"Early stopping.\")\n",
        "            break\n",
        "    print('Finished Training')\n",
        "    return train_losses, valid_losses, train_accs, valid_accs\n",
        "\n",
        "def run_testing(test_loader, model, device):\n",
        "    model.eval()\n",
        "    gt_all, preds_all = [], []\n",
        "    for batch_num, data in enumerate(test_loader):\n",
        "        inputs, labels = data\n",
        "        inputs = inputs.to(device)\n",
        "        labels = labels.to(device)\n",
        "        outputs = model(inputs)\n",
        "        preds = outputs.argmax(1)\n",
        "        gt_all.extend(labels.tolist())\n",
        "        preds_all.extend(preds.tolist())\n",
        "    return gt_all, preds_all\n",
        "    "
      ],
      "execution_count": 5,
      "outputs": []
    },
    {
      "cell_type": "code",
      "metadata": {
        "id": "_34xgQBr1Cjp"
      },
      "source": [
        "def plot_losses(training_loss_arr, validation_loss_arr, training_acc_arr, validation_acc_arr, \\\n",
        "                title):\n",
        "    num_epochs = len(training_loss_arr)\n",
        "    plt.figure(figsize=(16,6))\n",
        "    plt.subplot(1,2,1)\n",
        "    ax = plt.gca()\n",
        "    ax.plot(range(num_epochs), training_loss_arr, '-bo', label=\"Training Loss\")\n",
        "    ax.plot(range(num_epochs), validation_loss_arr, '-ro', label=\"Validation Loss\")\n",
        "    ax.legend()\n",
        "    ax.set_xlabel(\"Epochs\")\n",
        "    ax.set_ylabel(\"Loss\")\n",
        "    ax.set_title(title)\n",
        "    plt.subplot(1,2,2)\n",
        "    ax = plt.gca()\n",
        "    ax.plot(range(num_epochs), training_acc_arr, '-bo', label=\"Training Acc\")\n",
        "    ax.plot(range(num_epochs), validation_acc_arr, '-ro', label=\"Validation Acc\")\n",
        "    ax.legend()\n",
        "    ax.set_xlabel(\"Epochs\")\n",
        "    ax.set_ylabel(\"Accuracy\")\n",
        "    ax.set_title(title)    "
      ],
      "execution_count": 6,
      "outputs": []
    },
    {
      "cell_type": "code",
      "metadata": {
        "id": "8vPz9pPJSrup"
      },
      "source": [
        "final_dict = dict()"
      ],
      "execution_count": 7,
      "outputs": []
    },
    {
      "cell_type": "code",
      "metadata": {
        "colab": {
          "base_uri": "https://localhost:8080/"
        },
        "id": "5vvHX9oFKMPk",
        "outputId": "eed2f844-abf0-4743-aaae-295144a6064a"
      },
      "source": [
        "train_loader, test_loader = get_cifar_dataloaders_corrupted(0)\n",
        "criterion = nn.CrossEntropyLoss()\n",
        "\n",
        "device = torch.device(\"cuda:0\" if torch.cuda.is_available() else \"cpu\")\n",
        "print(device)\n"
      ],
      "execution_count": 8,
      "outputs": [
        {
          "output_type": "stream",
          "text": [
            "Files already downloaded and verified\n",
            "Files already downloaded and verified\n",
            "cuda:0\n"
          ],
          "name": "stdout"
        }
      ]
    },
    {
      "cell_type": "code",
      "metadata": {
        "id": "dkESDnTEK9kG"
      },
      "source": [
        "model = InceptionNet()\n",
        "model = model.to(device)\n",
        "optimizer = optim.SGD(model.parameters(), lr=1e-3, momentum=0.9)\n"
      ],
      "execution_count": 9,
      "outputs": []
    },
    {
      "cell_type": "code",
      "metadata": {
        "colab": {
          "base_uri": "https://localhost:8080/"
        },
        "id": "MNgXXaQoLXES",
        "outputId": "63ce581e-b661-4f84-f89c-11328cf4e1ad"
      },
      "source": [
        "train_losses, valid_losses, train_accs, validation_accs = training_loop(model, 10, train_loader, test_loader,\n",
        "                                          device, criterion, optimizer, \"InceptionNet_corr_0\")"
      ],
      "execution_count": 10,
      "outputs": [
        {
          "output_type": "stream",
          "text": [
            "Batch 0 Loss: 2.3301613330841064\n",
            "Batch 200 Loss: 1.6887069940567017\n",
            "Batch 400 Loss: 1.4951298236846924\n",
            "Batch 600 Loss: 1.2481932640075684\n",
            "Batch 800 Loss: 0.9630700945854187\n",
            "Batch 1000 Loss: 0.7693376541137695\n",
            "Batch 1200 Loss: 1.3612772226333618\n",
            "Batch 1400 Loss: 0.895154595375061\n",
            "[Epoch 0] Train Loss: 1.283070360660553 Vaidation Loss: 0.9989812486648559 Train Acc: 0.53642 Validation Acc: 0.6468\n",
            "Batch 0 Loss: 1.081649899482727\n",
            "Batch 200 Loss: 1.2003997564315796\n",
            "Batch 400 Loss: 0.7467864751815796\n",
            "Batch 600 Loss: 1.078070044517517\n",
            "Batch 800 Loss: 0.4932956397533417\n",
            "Batch 1000 Loss: 0.8093253374099731\n",
            "Batch 1200 Loss: 0.7441786527633667\n",
            "Batch 1400 Loss: 0.35177814960479736\n",
            "[Epoch 1] Train Loss: 0.8009998249530792 Vaidation Loss: 0.6850460106849671 Train Acc: 0.72068 Validation Acc: 0.7621\n",
            "Batch 0 Loss: 0.5411682724952698\n",
            "Batch 200 Loss: 0.4767336845397949\n",
            "Batch 400 Loss: 0.7084962725639343\n",
            "Batch 600 Loss: 0.5677611231803894\n",
            "Batch 800 Loss: 0.4581506848335266\n",
            "Batch 1000 Loss: 0.46546316146850586\n",
            "Batch 1200 Loss: 0.9820908904075623\n",
            "Batch 1400 Loss: 0.7444088459014893\n",
            "[Epoch 2] Train Loss: 0.5877471329116821 Vaidation Loss: 0.5738660553455353 Train Acc: 0.7984 Validation Acc: 0.8038\n",
            "Batch 0 Loss: 0.5893210768699646\n",
            "Batch 200 Loss: 0.5916951894760132\n",
            "Batch 400 Loss: 0.41725972294807434\n",
            "Batch 600 Loss: 0.7460972666740417\n",
            "Batch 800 Loss: 0.6864851117134094\n",
            "Batch 1000 Loss: 0.7544386386871338\n",
            "Batch 1200 Loss: 0.6330170035362244\n",
            "Batch 1400 Loss: 0.16499128937721252\n",
            "[Epoch 3] Train Loss: 0.45584782141208646 Vaidation Loss: 0.5055393507003784 Train Acc: 0.84372 Validation Acc: 0.8248\n",
            "Batch 0 Loss: 0.450959712266922\n",
            "Batch 200 Loss: 0.33530712127685547\n",
            "Batch 400 Loss: 0.18560904264450073\n",
            "Batch 600 Loss: 0.29809102416038513\n",
            "Batch 800 Loss: 0.4851521849632263\n",
            "Batch 1000 Loss: 0.5146592855453491\n",
            "Batch 1200 Loss: 0.39875560998916626\n",
            "Batch 1400 Loss: 0.7284718751907349\n",
            "[Epoch 4] Train Loss: 0.3564846193552017 Vaidation Loss: 0.5189516230583191 Train Acc: 0.87732 Validation Acc: 0.8277\n",
            "Batch 0 Loss: 0.16466890275478363\n",
            "Batch 200 Loss: 0.15540862083435059\n",
            "Batch 400 Loss: 0.3357142210006714\n",
            "Batch 600 Loss: 0.2812243103981018\n",
            "Batch 800 Loss: 0.3680163621902466\n",
            "Batch 1000 Loss: 0.25974321365356445\n",
            "Batch 1200 Loss: 0.2041548490524292\n",
            "Batch 1400 Loss: 0.2241920530796051\n",
            "[Epoch 5] Train Loss: 0.2724203827345371 Vaidation Loss: 0.4793359895706177 Train Acc: 0.90734 Validation Acc: 0.8416\n",
            "Batch 0 Loss: 0.18528878688812256\n",
            "Batch 200 Loss: 0.15435189008712769\n",
            "Batch 400 Loss: 0.20736674964427948\n",
            "Batch 600 Loss: 0.21510447561740875\n",
            "Batch 800 Loss: 0.5679513216018677\n",
            "Batch 1000 Loss: 0.10372942686080933\n",
            "Batch 1200 Loss: 0.16166235506534576\n",
            "Batch 1400 Loss: 0.1453908532857895\n",
            "[Epoch 6] Train Loss: 0.22003130808591842 Vaidation Loss: 0.4962642098426819 Train Acc: 0.9243 Validation Acc: 0.8397\n",
            "Early stopping.\n",
            "Finished Training\n"
          ],
          "name": "stdout"
        }
      ]
    },
    {
      "cell_type": "code",
      "metadata": {
        "id": "29yF-QC0LbX4",
        "colab": {
          "base_uri": "https://localhost:8080/",
          "height": 404
        },
        "outputId": "688cae9b-f7b0-46e1-ff14-c90bfe0671f2"
      },
      "source": [
        "plot_losses(train_losses, valid_losses, train_accs, validation_accs, \"InceptionNet 0% corruption\")"
      ],
      "execution_count": 11,
      "outputs": [
        {
          "output_type": "display_data",
          "data": {
            "image/png": "[encoded data removed]",
            "text/plain": [
              "<Figure size 1152x432 with 2 Axes>"
            ]
          },
          "metadata": {
            "tags": [],
            "needs_background": "light"
          }
        }
      ]
    },
    {
      "cell_type": "code",
      "metadata": {
        "id": "uRXpocMQLf71",
        "colab": {
          "base_uri": "https://localhost:8080/"
        },
        "outputId": "e79fbd5b-a54a-4bb3-96c5-b8caa9c22fab"
      },
      "source": [
        "model = InceptionNet()\n",
        "sd = torch.load(\"InceptionNet_corr_0.pth\")\n",
        "model.load_state_dict(sd)\n",
        "model = model.to(device)\n",
        "testy, pred = run_testing(test_loader, model, device)\n",
        "\n",
        "print(\"Accuracy:\", accuracy_score(testy, pred))\n",
        "print(\"Confusion Matrix:\\n\", confusion_matrix(testy, pred))\n"
      ],
      "execution_count": 12,
      "outputs": [
        {
          "output_type": "stream",
          "text": [
            "Accuracy: 0.8416\n",
            "Confusion Matrix:\n",
            " [[756  13  37  21  42  10  20  17  59  25]\n",
            " [  3 926   2   0   2   6   7   4   5  45]\n",
            " [ 30   1 740  33  69  45  58  18   6   0]\n",
            " [  3   3  32 738  40 110  32  30   2  10]\n",
            " [  3   0  27  27 867  19  31  23   2   1]\n",
            " [  1   1  12 117  32 801   6  27   1   2]\n",
            " [  3   0  14  37  22  22 897   4   0   1]\n",
            " [  3   0  14  25  42  34   3 872   0   7]\n",
            " [ 20  21   6  13   3   5   7   4 900  21]\n",
            " [  3  45   5   4   1   2   3   8  10 919]]\n"
          ],
          "name": "stdout"
        }
      ]
    },
    {
      "cell_type": "code",
      "metadata": {
        "id": "Yrz3pv4_Yx_X"
      },
      "source": [
        "final_dict[0] = {}\n",
        "final_dict[0][\"train_losses\"] = train_losses\n",
        "final_dict[0][\"valid_losses\"] = valid_losses\n",
        "final_dict[0][\"train_accs\"] = train_accs\n",
        "final_dict[0][\"validation_accs\"] = validation_accs\n",
        "final_dict[0][\"best_test_acc\"] = accuracy_score(testy, pred)\n"
      ],
      "execution_count": 13,
      "outputs": []
    },
    {
      "cell_type": "code",
      "metadata": {
        "id": "KtjjzocXSx5m",
        "colab": {
          "base_uri": "https://localhost:8080/"
        },
        "outputId": "73f36921-d086-47f4-b3c2-0ddec0922322"
      },
      "source": [
        "train_loader, test_loader = get_cifar_dataloaders_corrupted(0.2)\n",
        "criterion = nn.CrossEntropyLoss()\n",
        "\n",
        "device = torch.device(\"cuda:0\" if torch.cuda.is_available() else \"cpu\")\n",
        "print(device)\n"
      ],
      "execution_count": 14,
      "outputs": [
        {
          "output_type": "stream",
          "text": [
            "Files already downloaded and verified\n",
            "Files already downloaded and verified\n",
            "cuda:0\n"
          ],
          "name": "stdout"
        }
      ]
    },
    {
      "cell_type": "code",
      "metadata": {
        "id": "MNPVD-NvSx5p"
      },
      "source": [
        "model = InceptionNet()\n",
        "model = model.to(device)\n",
        "optimizer = optim.SGD(model.parameters(), lr=1e-3, momentum=0.9)\n"
      ],
      "execution_count": 15,
      "outputs": []
    },
    {
      "cell_type": "code",
      "metadata": {
        "id": "N-ED8AuMSx5p",
        "colab": {
          "base_uri": "https://localhost:8080/",
          "height": 579
        },
        "outputId": "e8ade133-a9d4-4ce1-96c8-bab704289c89"
      },
      "source": [
        "train_losses, valid_losses, train_accs, validation_accs = training_loop(model, 10, train_loader, test_loader,\n",
        "                                          device, criterion, optimizer, \"InceptionNet_corr_20\")"
      ],
      "execution_count": 16,
      "outputs": [
        {
          "output_type": "stream",
          "text": [
            "Batch 0 Loss: 2.3577497005462646\n",
            "Batch 200 Loss: 1.5639773607254028\n",
            "Batch 400 Loss: 1.860716462135315\n",
            "Batch 600 Loss: 1.7387032508850098\n",
            "Batch 800 Loss: 2.111366033554077\n",
            "Batch 1000 Loss: 2.242556571960449\n",
            "Batch 1200 Loss: 1.6796114444732666\n",
            "Batch 1400 Loss: 2.0110745429992676\n",
            "[Epoch 0] Train Loss: 1.769201702041626 Vaidation Loss: 1.7166523706436156 Train Acc: 0.40736 Validation Acc: 0.4527\n",
            "Batch 0 Loss: 1.670096516609192\n",
            "Batch 200 Loss: 1.89340341091156\n",
            "Batch 400 Loss: 1.50209379196167\n",
            "Batch 600 Loss: 1.541571021080017\n",
            "Batch 800 Loss: 1.6448633670806885\n"
          ],
          "name": "stdout"
        },
        {
          "output_type": "error",
          "ename": "KeyboardInterrupt",
          "evalue": "ignored",
          "traceback": [
            "\u001b[0;31m---------------------------------------------------------------------------\u001b[0m",
            "\u001b[0;31mKeyboardInterrupt\u001b[0m                         Traceback (most recent call last)",
            "\u001b[0;32m<ipython-input-16-5a6429225c28>\u001b[0m in \u001b[0;36m<module>\u001b[0;34m()\u001b[0m\n\u001b[1;32m      1\u001b[0m train_losses, valid_losses, train_accs, validation_accs = training_loop(model, 10, train_loader, test_loader,\n\u001b[0;32m----> 2\u001b[0;31m                                           device, criterion, optimizer, \"InceptionNet_corr_20\")\n\u001b[0m",
            "\u001b[0;32m<ipython-input-5-2b39d6c9c368>\u001b[0m in \u001b[0;36mtraining_loop\u001b[0;34m(model, num_epochs, train_loader, valid_loader, device, criterion, optimizer, model_name)\u001b[0m\n\u001b[1;32m     42\u001b[0m     \u001b[0;32mfor\u001b[0m \u001b[0mepoch\u001b[0m \u001b[0;32min\u001b[0m \u001b[0mrange\u001b[0m\u001b[0;34m(\u001b[0m\u001b[0mnum_epochs\u001b[0m\u001b[0;34m)\u001b[0m\u001b[0;34m:\u001b[0m\u001b[0;34m\u001b[0m\u001b[0;34m\u001b[0m\u001b[0m\n\u001b[1;32m     43\u001b[0m         \u001b[0mmodel\u001b[0m\u001b[0;34m.\u001b[0m\u001b[0mtrain\u001b[0m\u001b[0;34m(\u001b[0m\u001b[0;34m)\u001b[0m\u001b[0;34m\u001b[0m\u001b[0;34m\u001b[0m\u001b[0m\n\u001b[0;32m---> 44\u001b[0;31m         \u001b[0mtrain_loss\u001b[0m\u001b[0;34m,\u001b[0m \u001b[0mtrain_acc\u001b[0m \u001b[0;34m=\u001b[0m \u001b[0mrun_train_single_epoch\u001b[0m\u001b[0;34m(\u001b[0m\u001b[0mtrain_loader\u001b[0m\u001b[0;34m,\u001b[0m \u001b[0mmodel\u001b[0m\u001b[0;34m,\u001b[0m \u001b[0mdevice\u001b[0m\u001b[0;34m,\u001b[0m \u001b[0mcriterion\u001b[0m\u001b[0;34m,\u001b[0m \u001b[0moptimizer\u001b[0m\u001b[0;34m)\u001b[0m\u001b[0;34m\u001b[0m\u001b[0;34m\u001b[0m\u001b[0m\n\u001b[0m\u001b[1;32m     45\u001b[0m         \u001b[0mmodel\u001b[0m\u001b[0;34m.\u001b[0m\u001b[0meval\u001b[0m\u001b[0;34m(\u001b[0m\u001b[0;34m)\u001b[0m\u001b[0;34m\u001b[0m\u001b[0;34m\u001b[0m\u001b[0m\n\u001b[1;32m     46\u001b[0m         \u001b[0mvalid_loss\u001b[0m\u001b[0;34m,\u001b[0m \u001b[0mvalid_acc\u001b[0m \u001b[0;34m=\u001b[0m \u001b[0mrun_validation_single_epoch\u001b[0m\u001b[0;34m(\u001b[0m\u001b[0mvalid_loader\u001b[0m\u001b[0;34m,\u001b[0m \u001b[0mmodel\u001b[0m\u001b[0;34m,\u001b[0m \u001b[0mdevice\u001b[0m\u001b[0;34m,\u001b[0m \u001b[0mcriterion\u001b[0m\u001b[0;34m)\u001b[0m\u001b[0;34m\u001b[0m\u001b[0;34m\u001b[0m\u001b[0m\n",
            "\u001b[0;32m<ipython-input-5-2b39d6c9c368>\u001b[0m in \u001b[0;36mrun_train_single_epoch\u001b[0;34m(train_loader, model, device, criterion, optimizer)\u001b[0m\n\u001b[1;32m      9\u001b[0m         \u001b[0mloss\u001b[0m \u001b[0;34m=\u001b[0m \u001b[0mcriterion\u001b[0m\u001b[0;34m(\u001b[0m\u001b[0moutputs\u001b[0m\u001b[0;34m,\u001b[0m \u001b[0mlabels\u001b[0m\u001b[0;34m)\u001b[0m\u001b[0;34m\u001b[0m\u001b[0;34m\u001b[0m\u001b[0m\n\u001b[1;32m     10\u001b[0m         \u001b[0moptimizer\u001b[0m\u001b[0;34m.\u001b[0m\u001b[0mzero_grad\u001b[0m\u001b[0;34m(\u001b[0m\u001b[0;34m)\u001b[0m\u001b[0;34m\u001b[0m\u001b[0;34m\u001b[0m\u001b[0m\n\u001b[0;32m---> 11\u001b[0;31m         \u001b[0mloss\u001b[0m\u001b[0;34m.\u001b[0m\u001b[0mbackward\u001b[0m\u001b[0;34m(\u001b[0m\u001b[0;34m)\u001b[0m\u001b[0;34m\u001b[0m\u001b[0;34m\u001b[0m\u001b[0m\n\u001b[0m\u001b[1;32m     12\u001b[0m         \u001b[0moptimizer\u001b[0m\u001b[0;34m.\u001b[0m\u001b[0mstep\u001b[0m\u001b[0;34m(\u001b[0m\u001b[0;34m)\u001b[0m\u001b[0;34m\u001b[0m\u001b[0;34m\u001b[0m\u001b[0m\n\u001b[1;32m     13\u001b[0m         \u001b[0mrunning_loss\u001b[0m \u001b[0;34m+=\u001b[0m \u001b[0mloss\u001b[0m\u001b[0;34m.\u001b[0m\u001b[0mitem\u001b[0m\u001b[0;34m(\u001b[0m\u001b[0;34m)\u001b[0m\u001b[0;34m*\u001b[0m\u001b[0mlen\u001b[0m\u001b[0;34m(\u001b[0m\u001b[0minputs\u001b[0m\u001b[0;34m)\u001b[0m\u001b[0;34m\u001b[0m\u001b[0;34m\u001b[0m\u001b[0m\n",
            "\u001b[0;32m/usr/local/lib/python3.7/dist-packages/torch/tensor.py\u001b[0m in \u001b[0;36mbackward\u001b[0;34m(self, gradient, retain_graph, create_graph, inputs)\u001b[0m\n\u001b[1;32m    243\u001b[0m                 \u001b[0mcreate_graph\u001b[0m\u001b[0;34m=\u001b[0m\u001b[0mcreate_graph\u001b[0m\u001b[0;34m,\u001b[0m\u001b[0;34m\u001b[0m\u001b[0;34m\u001b[0m\u001b[0m\n\u001b[1;32m    244\u001b[0m                 inputs=inputs)\n\u001b[0;32m--> 245\u001b[0;31m         \u001b[0mtorch\u001b[0m\u001b[0;34m.\u001b[0m\u001b[0mautograd\u001b[0m\u001b[0;34m.\u001b[0m\u001b[0mbackward\u001b[0m\u001b[0;34m(\u001b[0m\u001b[0mself\u001b[0m\u001b[0;34m,\u001b[0m \u001b[0mgradient\u001b[0m\u001b[0;34m,\u001b[0m \u001b[0mretain_graph\u001b[0m\u001b[0;34m,\u001b[0m \u001b[0mcreate_graph\u001b[0m\u001b[0;34m,\u001b[0m \u001b[0minputs\u001b[0m\u001b[0;34m=\u001b[0m\u001b[0minputs\u001b[0m\u001b[0;34m)\u001b[0m\u001b[0;34m\u001b[0m\u001b[0;34m\u001b[0m\u001b[0m\n\u001b[0m\u001b[1;32m    246\u001b[0m \u001b[0;34m\u001b[0m\u001b[0m\n\u001b[1;32m    247\u001b[0m     \u001b[0;32mdef\u001b[0m \u001b[0mregister_hook\u001b[0m\u001b[0;34m(\u001b[0m\u001b[0mself\u001b[0m\u001b[0;34m,\u001b[0m \u001b[0mhook\u001b[0m\u001b[0;34m)\u001b[0m\u001b[0;34m:\u001b[0m\u001b[0;34m\u001b[0m\u001b[0;34m\u001b[0m\u001b[0m\n",
            "\u001b[0;32m/usr/local/lib/python3.7/dist-packages/torch/autograd/__init__.py\u001b[0m in \u001b[0;36mbackward\u001b[0;34m(tensors, grad_tensors, retain_graph, create_graph, grad_variables, inputs)\u001b[0m\n\u001b[1;32m    145\u001b[0m     Variable._execution_engine.run_backward(\n\u001b[1;32m    146\u001b[0m         \u001b[0mtensors\u001b[0m\u001b[0;34m,\u001b[0m \u001b[0mgrad_tensors_\u001b[0m\u001b[0;34m,\u001b[0m \u001b[0mretain_graph\u001b[0m\u001b[0;34m,\u001b[0m \u001b[0mcreate_graph\u001b[0m\u001b[0;34m,\u001b[0m \u001b[0minputs\u001b[0m\u001b[0;34m,\u001b[0m\u001b[0;34m\u001b[0m\u001b[0;34m\u001b[0m\u001b[0m\n\u001b[0;32m--> 147\u001b[0;31m         allow_unreachable=True, accumulate_grad=True)  # allow_unreachable flag\n\u001b[0m\u001b[1;32m    148\u001b[0m \u001b[0;34m\u001b[0m\u001b[0m\n\u001b[1;32m    149\u001b[0m \u001b[0;34m\u001b[0m\u001b[0m\n",
            "\u001b[0;31mKeyboardInterrupt\u001b[0m: "
          ]
        }
      ]
    },
    {
      "cell_type": "code",
      "metadata": {
        "id": "c4R55wlPSx5q"
      },
      "source": [
        "plot_losses(train_losses, valid_losses, train_accs, validation_accs, \"InceptionNet 20% corruption\")"
      ],
      "execution_count": null,
      "outputs": []
    },
    {
      "cell_type": "code",
      "metadata": {
        "id": "5UNY-Z1FSx5q"
      },
      "source": [
        "model = InceptionNet()\n",
        "sd = torch.load(\"InceptionNet_corr_20.pth\")\n",
        "model.load_state_dict(sd)\n",
        "model = model.to(device)\n",
        "testy, pred = run_testing(test_loader, model, device)\n",
        "\n",
        "print(\"Accuracy:\", accuracy_score(testy, pred))\n",
        "print(\"Confusion Matrix:\\n\", confusion_matrix(testy, pred))\n"
      ],
      "execution_count": null,
      "outputs": []
    },
    {
      "cell_type": "code",
      "metadata": {
        "id": "Xb5ufKRfSx5r"
      },
      "source": [
        "final_dict[20] = {}\n",
        "final_dict[20][\"train_losses\"] = train_losses\n",
        "final_dict[20][\"valid_losses\"] = valid_losses\n",
        "final_dict[20][\"train_accs\"] = train_accs\n",
        "final_dict[20][\"validation_accs\"] = validation_accs\n",
        "final_dict[20][\"best_test_acc\"]  = accuracy_score(testy, pred)\n"
      ],
      "execution_count": null,
      "outputs": []
    },
    {
      "cell_type": "code",
      "metadata": {
        "id": "NkUA4jRGSyIU"
      },
      "source": [
        "train_loader, test_loader = get_cifar_dataloaders_corrupted(0.4)\n",
        "criterion = nn.CrossEntropyLoss()\n",
        "\n",
        "device = torch.device(\"cuda:0\" if torch.cuda.is_available() else \"cpu\")\n",
        "print(device)\n"
      ],
      "execution_count": null,
      "outputs": []
    },
    {
      "cell_type": "code",
      "metadata": {
        "id": "90921FKmSyIV"
      },
      "source": [
        "model = InceptionNet()\n",
        "model = model.to(device)\n",
        "optimizer = optim.SGD(model.parameters(), lr=1e-3, momentum=0.9)\n"
      ],
      "execution_count": null,
      "outputs": []
    },
    {
      "cell_type": "code",
      "metadata": {
        "id": "jVgrL0Y4SyIV"
      },
      "source": [
        "train_losses, valid_losses, train_accs, validation_accs = training_loop(model, 10, train_loader, test_loader,\n",
        "                                          device, criterion, optimizer, \"InceptionNet_corr_40\")"
      ],
      "execution_count": null,
      "outputs": []
    },
    {
      "cell_type": "code",
      "metadata": {
        "id": "WMcjfa7oSyIV"
      },
      "source": [
        "plot_losses(train_losses, valid_losses, train_accs, validation_accs, \"InceptionNet 40% corruption\")"
      ],
      "execution_count": null,
      "outputs": []
    },
    {
      "cell_type": "code",
      "metadata": {
        "id": "xeBbd0B9SyIW"
      },
      "source": [
        "model = InceptionNet()\n",
        "sd = torch.load(\"InceptionNet_corr_40.pth\")\n",
        "model.load_state_dict(sd)\n",
        "model = model.to(device)\n",
        "testy, pred = run_testing(test_loader, model, device)\n",
        "\n",
        "print(\"Accuracy:\", accuracy_score(testy, pred))\n",
        "print(\"Confusion Matrix:\\n\", confusion_matrix(testy, pred))\n"
      ],
      "execution_count": null,
      "outputs": []
    },
    {
      "cell_type": "code",
      "metadata": {
        "id": "mlaoKsS_SyIW"
      },
      "source": [
        "final_dict[40] = {}\n",
        "final_dict[40][\"train_losses\"] = train_losses\n",
        "final_dict[40][\"valid_losses\"] = valid_losses\n",
        "final_dict[40][\"train_accs\"] = train_accs\n",
        "final_dict[40][\"validation_accs\"] = validation_accs\n",
        "final_dict[40][\"best_test_acc\"]  = accuracy_score(testy, pred)\n"
      ],
      "execution_count": null,
      "outputs": []
    },
    {
      "cell_type": "code",
      "metadata": {
        "id": "vq2jHTn0SyY9"
      },
      "source": [
        "train_loader, test_loader = get_cifar_dataloaders_corrupted(0.6)\n",
        "criterion = nn.CrossEntropyLoss()\n",
        "\n",
        "device = torch.device(\"cuda:0\" if torch.cuda.is_available() else \"cpu\")\n",
        "print(device)\n"
      ],
      "execution_count": null,
      "outputs": []
    },
    {
      "cell_type": "code",
      "metadata": {
        "id": "SwG4z_P5SyY-"
      },
      "source": [
        "model = InceptionNet()\n",
        "model = model.to(device)\n",
        "optimizer = optim.SGD(model.parameters(), lr=1e-3, momentum=0.9)\n"
      ],
      "execution_count": null,
      "outputs": []
    },
    {
      "cell_type": "code",
      "metadata": {
        "id": "vQScs2leSyY-"
      },
      "source": [
        "train_losses, valid_losses, train_accs, validation_accs = training_loop(model, 10, train_loader, test_loader,\n",
        "                                          device, criterion, optimizer, \"InceptionNet_corr_60\")"
      ],
      "execution_count": null,
      "outputs": []
    },
    {
      "cell_type": "code",
      "metadata": {
        "id": "nTTNzdqgSyY_"
      },
      "source": [
        "plot_losses(train_losses, valid_losses, train_accs, validation_accs, \"InceptionNet 60% corruption\")"
      ],
      "execution_count": null,
      "outputs": []
    },
    {
      "cell_type": "code",
      "metadata": {
        "id": "NPEUya5RSyZA"
      },
      "source": [
        "model = InceptionNet()\n",
        "sd = torch.load(\"InceptionNet_corr_60.pth\")\n",
        "model.load_state_dict(sd)\n",
        "model = model.to(device)\n",
        "testy, pred = run_testing(test_loader, model, device)\n",
        "\n",
        "print(\"Accuracy:\", accuracy_score(testy, pred))\n",
        "print(\"Confusion Matrix:\\n\", confusion_matrix(testy, pred))\n"
      ],
      "execution_count": null,
      "outputs": []
    },
    {
      "cell_type": "code",
      "metadata": {
        "id": "FVCP8TOuSyZA"
      },
      "source": [
        "final_dict[60] = {}\n",
        "final_dict[60][\"train_losses\"] = train_losses\n",
        "final_dict[60][\"valid_losses\"] = valid_losses\n",
        "final_dict[60][\"train_accs\"] = train_accs\n",
        "final_dict[60][\"validation_accs\"] = validation_accs\n",
        "final_dict[60][\"best_test_acc\"]  = accuracy_score(testy, pred)\n"
      ],
      "execution_count": null,
      "outputs": []
    },
    {
      "cell_type": "code",
      "metadata": {
        "id": "e6nv7_Z9Sylc"
      },
      "source": [
        "train_loader, test_loader = get_cifar_dataloaders_corrupted(0.8)\n",
        "criterion = nn.CrossEntropyLoss()\n",
        "\n",
        "device = torch.device(\"cuda:0\" if torch.cuda.is_available() else \"cpu\")\n",
        "print(device)\n"
      ],
      "execution_count": null,
      "outputs": []
    },
    {
      "cell_type": "code",
      "metadata": {
        "id": "Vy_kvh2ISyld"
      },
      "source": [
        "model = InceptionNet()\n",
        "model = model.to(device)\n",
        "optimizer = optim.SGD(model.parameters(), lr=1e-3, momentum=0.9)\n"
      ],
      "execution_count": null,
      "outputs": []
    },
    {
      "cell_type": "code",
      "metadata": {
        "id": "Vo6FUCo9Syld"
      },
      "source": [
        "train_losses, valid_losses, train_accs, validation_accs = training_loop(model, 10, train_loader, test_loader,\n",
        "                                          device, criterion, optimizer, \"InceptionNet_corr_80\")"
      ],
      "execution_count": null,
      "outputs": []
    },
    {
      "cell_type": "code",
      "metadata": {
        "id": "b04FhI63Syle"
      },
      "source": [
        "plot_losses(train_losses, valid_losses, train_accs, validation_accs, \"InceptionNet 80% corruption\")"
      ],
      "execution_count": null,
      "outputs": []
    },
    {
      "cell_type": "code",
      "metadata": {
        "id": "WPK9LERPSylf"
      },
      "source": [
        "model = InceptionNet()\n",
        "sd = torch.load(\"InceptionNet_corr_80.pth\")\n",
        "model.load_state_dict(sd)\n",
        "model = model.to(device)\n",
        "testy, pred = run_testing(test_loader, model, device)\n",
        "\n",
        "print(\"Accuracy:\", accuracy_score(testy, pred))\n",
        "print(\"Confusion Matrix:\\n\", confusion_matrix(testy, pred))\n"
      ],
      "execution_count": null,
      "outputs": []
    },
    {
      "cell_type": "code",
      "metadata": {
        "id": "yLTZuwdYSylf"
      },
      "source": [
        "final_dict[80] = {}\n",
        "final_dict[80][\"train_losses\"] = train_losses\n",
        "final_dict[80][\"valid_losses\"] = valid_losses\n",
        "final_dict[80][\"train_accs\"] = train_accs\n",
        "final_dict[80][\"validation_accs\"] = validation_accs\n",
        "final_dict[80][\"best_test_acc\"]  = accuracy_score(testy, pred)\n"
      ],
      "execution_count": null,
      "outputs": []
    },
    {
      "cell_type": "code",
      "metadata": {
        "id": "N2mkbHx-Syxh"
      },
      "source": [
        "train_loader, test_loader = get_cifar_dataloaders_corrupted(1.0)\n",
        "criterion = nn.CrossEntropyLoss()\n",
        "\n",
        "device = torch.device(\"cuda:0\" if torch.cuda.is_available() else \"cpu\")\n",
        "print(device)\n"
      ],
      "execution_count": null,
      "outputs": []
    },
    {
      "cell_type": "code",
      "metadata": {
        "id": "HA1vdY6mSyxi"
      },
      "source": [
        "model = InceptionNet()\n",
        "model = model.to(device)\n",
        "optimizer = optim.SGD(model.parameters(), lr=1e-3, momentum=0.9)\n"
      ],
      "execution_count": null,
      "outputs": []
    },
    {
      "cell_type": "code",
      "metadata": {
        "id": "fCkNPItWSyxi"
      },
      "source": [
        "train_losses, valid_losses, train_accs, validation_accs = training_loop(model, 10, train_loader, test_loader,\n",
        "                                          device, criterion, optimizer, \"InceptionNet_corr_100\")"
      ],
      "execution_count": null,
      "outputs": []
    },
    {
      "cell_type": "code",
      "metadata": {
        "id": "u0uJWei_Syxi"
      },
      "source": [
        "plot_losses(train_losses, valid_losses, train_accs, validation_accs, \"InceptionNet 100% corruption\")"
      ],
      "execution_count": null,
      "outputs": []
    },
    {
      "cell_type": "code",
      "metadata": {
        "id": "gHn-sHHXSyxi"
      },
      "source": [
        "model = InceptionNet()\n",
        "sd = torch.load(\"InceptionNet_corr_100.pth\")\n",
        "model.load_state_dict(sd)\n",
        "model = model.to(device)\n",
        "testy, pred = run_testing(test_loader, model, device)\n",
        "\n",
        "print(\"Accuracy:\", accuracy_score(testy, pred))\n",
        "print(\"Confusion Matrix:\\n\", confusion_matrix(testy, pred))\n"
      ],
      "execution_count": null,
      "outputs": []
    },
    {
      "cell_type": "code",
      "metadata": {
        "id": "_jgKGC0WSyxj"
      },
      "source": [
        "final_dict[100] = {}\n",
        "final_dict[100][\"train_losses\"] = train_losses\n",
        "final_dict[100][\"valid_losses\"] = valid_losses\n",
        "final_dict[100][\"train_accs\"] = train_accs\n",
        "final_dict[100][\"validation_accs\"] = validation_accs\n",
        "final_dict[100][\"best_test_acc\"]  = accuracy_score(testy, pred)\n"
      ],
      "execution_count": null,
      "outputs": []
    },
    {
      "cell_type": "code",
      "metadata": {
        "id": "up7SnPUnR1n2"
      },
      "source": [
        "with open('final.pickle', 'wb') as f:\n",
        "    pickle.dump(final_dict, f, protocol=pickle.HIGHEST_PROTOCOL)\n"
      ],
      "execution_count": null,
      "outputs": []
    },
    {
      "cell_type": "code",
      "metadata": {
        "id": "meI1PIqQTKwW"
      },
      "source": [
        "!curl bashupload.com -T final.pickle"
      ],
      "execution_count": null,
      "outputs": []
    },
    {
      "cell_type": "code",
      "metadata": {
        "id": "j5p2-E7zdMNA"
      },
      "source": [
        "!zip inception.zip *.*\n",
        "!curl bashupload.com -T inception.zip"
      ],
      "execution_count": null,
      "outputs": []
    },
    {
      "cell_type": "code",
      "metadata": {
        "id": "dmQJwS2WdO8a"
      },
      "source": [
        ""
      ],
      "execution_count": null,
      "outputs": []
    }
  ]
}